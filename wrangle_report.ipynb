{
 "cells": [
  {
   "cell_type": "markdown",
   "metadata": {},
   "source": [
    "# Project: Wrangling and Analyze We Rate Dog Data"
   ]
  },
  {
   "cell_type": "markdown",
   "metadata": {},
   "source": [
    "## Data Gathering"
   ]
  },
  {
   "cell_type": "markdown",
   "metadata": {},
   "source": [
    "**Three** different datasets were used for this project. I downloaded the **'twitter-archived-enhanced.csv'** dataset  **manually** from the Udacity classroom, while the **'image_prediction.tsv'** file was **programatically** downloaded using the request library also from the link provided in the Udacity classroom. Both were loaded in the Jupyter Notebook using the Pandas library. Finally, I downloaded the **'twitter-json.text'** directly from the Udacity classroom because Twitter declined my verifiction request for their **API Keys** and the one provided the classroom has expired. I used the **Json, Operator and pandas libraries** to load this data in the Jupyter Notebook."
   ]
  },
  {
   "cell_type": "markdown",
   "metadata": {},
   "source": [
    "## Assessing"
   ]
  },
  {
   "cell_type": "markdown",
   "metadata": {},
   "source": [
    "The datasets was assessed both **visually** and **progammatically**. Both quality and tidiness issues and the following issues were noted.\n",
    "\n",
    "#### Tidiness issues\n",
    "The dog stages should be in one column. The source has both the HTML link and the tweet source. All the datasets should be merged into one.\n",
    "\n",
    "#### Quality issues: \n",
    "There were about 181 retweets and 78 replies in the twitter_archived_enhanced datasets. The timestamp column has both date and time together, the tweet_id for the three datasets were in integer format. Re-extract the ratings (Some of the ratings in the were meant to be in decimal and all should be rated over 10). The datatypes of the day and the rating_numerator columns are inappropriate. The column name of the rating_numerator columns is also inappropriate. In the dog 'name' column, some names are inappropriate and the started with small letters. The p1, p2, and p3 columns in the image_prediction datasets are inappropriate. The following columns 'retweeted_status_id', 'retweeted_status_timestamp', 'text', 'rating_denominator, 'expanded_urls', 'doggo', 'floofer', 'pupper','puppo','new_rating' are not necessary for this analysis."
   ]
  },
  {
   "cell_type": "markdown",
   "metadata": {},
   "source": [
    "## Cleaning"
   ]
  },
  {
   "cell_type": "markdown",
   "metadata": {},
   "source": [
    "I copied all the three datasets into new dataframes before I started cleaning adding 'clean' as suffix to the name, so as to preserve the raw datasets.\n",
    "\n",
    "#### Tidiness:\n",
    "I started the cleaning process with the tidiness issues in the 'twitter_archived_enhanced' dataset. I merged four the dog stages into one column and changed those with more than one stage to multiple. The source of the tweet was extracted from the HTML link. The three datasets were merged into a single dataframe called the df_master. \n",
    "\n",
    "#### Quality:\n",
    "I extracted only the original original tweets that were posted with images by forgoing the retweets. In the timstamp column, the date and time were separated and the datatype for the day was changed to datetime from string. The tweet_id for the three datasets were coverted from interger to string data type. Also, the rating_numerators were re-extracted from the text column and the column name was changed to rating and datatype to float. All the inappropriate Dog names that started with small letter and the None were converted to 'No Name' and all the columns not required were deleted. Lastly, the p1,p2, and p3 columns in the image_prediction dataset were coverted from string to categorical datatype."
   ]
  },
  {
   "cell_type": "markdown",
   "metadata": {},
   "source": [
    "## Storing"
   ]
  },
  {
   "cell_type": "markdown",
   "metadata": {},
   "source": [
    "The single df_master datafrane was saved into a CSV file named twitter_archive_master.csv"
   ]
  }
 ],
 "metadata": {
  "kernelspec": {
   "display_name": "Python 3",
   "language": "python",
   "name": "python3"
  },
  "language_info": {
   "codemirror_mode": {
    "name": "ipython",
    "version": 3
   },
   "file_extension": ".py",
   "mimetype": "text/x-python",
   "name": "python",
   "nbconvert_exporter": "python",
   "pygments_lexer": "ipython3",
   "version": "3.6.3"
  }
 },
 "nbformat": 4,
 "nbformat_minor": 2
}
