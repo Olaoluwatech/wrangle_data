{
 "cells": [
  {
   "cell_type": "markdown",
   "metadata": {
    "extensions": {
     "jupyter_dashboards": {
      "version": 1,
      "views": {
       "grid_default": {
        "col": 0,
        "height": 4,
        "hidden": false,
        "row": 0,
        "width": 4
       },
       "report_default": {
        "hidden": false
       }
      }
     }
    }
   },
   "source": [
    "# Project: Wrangling and Analyze Data"
   ]
  },
  {
   "cell_type": "markdown",
   "metadata": {},
   "source": [
    "## Data Gathering\n",
    "\n",
    "1. Directly download the WeRateDogs Twitter archive data (twitter_archive_enhanced.csv)"
   ]
  },
  {
   "cell_type": "code",
   "execution_count": 2,
   "metadata": {
    "extensions": {
     "jupyter_dashboards": {
      "version": 1,
      "views": {
       "grid_default": {
        "hidden": true
       },
       "report_default": {
        "hidden": true
       }
      }
     }
    }
   },
   "outputs": [],
   "source": [
    "#import libraries\n",
    "import numpy as np\n",
    "import pandas as pd\n",
    "import matplotlib.pyplot as plt\n",
    "import seaborn as sns\n",
    "%matplotlib inline\n",
    "\n",
    "import requests\n",
    "import json\n",
    "from operator import itemgetter"
   ]
  },
  {
   "cell_type": "code",
   "execution_count": 3,
   "metadata": {},
   "outputs": [
    {
     "data": {
      "text/html": [
       "<div>\n",
       "<style scoped>\n",
       "    .dataframe tbody tr th:only-of-type {\n",
       "        vertical-align: middle;\n",
       "    }\n",
       "\n",
       "    .dataframe tbody tr th {\n",
       "        vertical-align: top;\n",
       "    }\n",
       "\n",
       "    .dataframe thead th {\n",
       "        text-align: right;\n",
       "    }\n",
       "</style>\n",
       "<table border=\"1\" class=\"dataframe\">\n",
       "  <thead>\n",
       "    <tr style=\"text-align: right;\">\n",
       "      <th></th>\n",
       "      <th>tweet_id</th>\n",
       "      <th>in_reply_to_status_id</th>\n",
       "      <th>in_reply_to_user_id</th>\n",
       "      <th>timestamp</th>\n",
       "      <th>source</th>\n",
       "      <th>text</th>\n",
       "      <th>retweeted_status_id</th>\n",
       "      <th>retweeted_status_user_id</th>\n",
       "      <th>retweeted_status_timestamp</th>\n",
       "      <th>expanded_urls</th>\n",
       "      <th>rating_numerator</th>\n",
       "      <th>rating_denominator</th>\n",
       "      <th>name</th>\n",
       "      <th>doggo</th>\n",
       "      <th>floofer</th>\n",
       "      <th>pupper</th>\n",
       "      <th>puppo</th>\n",
       "    </tr>\n",
       "  </thead>\n",
       "  <tbody>\n",
       "    <tr>\n",
       "      <th>0</th>\n",
       "      <td>892420643555336193</td>\n",
       "      <td>NaN</td>\n",
       "      <td>NaN</td>\n",
       "      <td>2017-08-01 16:23:56 +0000</td>\n",
       "      <td>&lt;a href=\"http://twitter.com/download/iphone\" r...</td>\n",
       "      <td>This is Phineas. He's a mystical boy. Only eve...</td>\n",
       "      <td>NaN</td>\n",
       "      <td>NaN</td>\n",
       "      <td>NaN</td>\n",
       "      <td>https://twitter.com/dog_rates/status/892420643...</td>\n",
       "      <td>13</td>\n",
       "      <td>10</td>\n",
       "      <td>Phineas</td>\n",
       "      <td>None</td>\n",
       "      <td>None</td>\n",
       "      <td>None</td>\n",
       "      <td>None</td>\n",
       "    </tr>\n",
       "    <tr>\n",
       "      <th>1</th>\n",
       "      <td>892177421306343426</td>\n",
       "      <td>NaN</td>\n",
       "      <td>NaN</td>\n",
       "      <td>2017-08-01 00:17:27 +0000</td>\n",
       "      <td>&lt;a href=\"http://twitter.com/download/iphone\" r...</td>\n",
       "      <td>This is Tilly. She's just checking pup on you....</td>\n",
       "      <td>NaN</td>\n",
       "      <td>NaN</td>\n",
       "      <td>NaN</td>\n",
       "      <td>https://twitter.com/dog_rates/status/892177421...</td>\n",
       "      <td>13</td>\n",
       "      <td>10</td>\n",
       "      <td>Tilly</td>\n",
       "      <td>None</td>\n",
       "      <td>None</td>\n",
       "      <td>None</td>\n",
       "      <td>None</td>\n",
       "    </tr>\n",
       "  </tbody>\n",
       "</table>\n",
       "</div>"
      ],
      "text/plain": [
       "             tweet_id  in_reply_to_status_id  in_reply_to_user_id  \\\n",
       "0  892420643555336193                    NaN                  NaN   \n",
       "1  892177421306343426                    NaN                  NaN   \n",
       "\n",
       "                   timestamp  \\\n",
       "0  2017-08-01 16:23:56 +0000   \n",
       "1  2017-08-01 00:17:27 +0000   \n",
       "\n",
       "                                              source  \\\n",
       "0  <a href=\"http://twitter.com/download/iphone\" r...   \n",
       "1  <a href=\"http://twitter.com/download/iphone\" r...   \n",
       "\n",
       "                                                text  retweeted_status_id  \\\n",
       "0  This is Phineas. He's a mystical boy. Only eve...                  NaN   \n",
       "1  This is Tilly. She's just checking pup on you....                  NaN   \n",
       "\n",
       "   retweeted_status_user_id retweeted_status_timestamp  \\\n",
       "0                       NaN                        NaN   \n",
       "1                       NaN                        NaN   \n",
       "\n",
       "                                       expanded_urls  rating_numerator  \\\n",
       "0  https://twitter.com/dog_rates/status/892420643...                13   \n",
       "1  https://twitter.com/dog_rates/status/892177421...                13   \n",
       "\n",
       "   rating_denominator     name doggo floofer pupper puppo  \n",
       "0                  10  Phineas  None    None   None  None  \n",
       "1                  10    Tilly  None    None   None  None  "
      ]
     },
     "execution_count": 3,
     "metadata": {},
     "output_type": "execute_result"
    }
   ],
   "source": [
    "# load dataset\n",
    "twitter_archived_enhanced = pd.read_csv('twitter-archive-enhanced.csv')\n",
    "twitter_archived_enhanced.head(2)"
   ]
  },
  {
   "cell_type": "markdown",
   "metadata": {},
   "source": [
    "2. Use the Requests library to download the tweet image prediction (image_predictions.tsv)"
   ]
  },
  {
   "cell_type": "code",
   "execution_count": 4,
   "metadata": {},
   "outputs": [],
   "source": [
    "# download 2nd dataset programmatically\n",
    "url = ' https://d17h27t6h515a5.cloudfront.net/topher/2017/August/599fd2ad_image-predictions/image-predictions.tsv'\n",
    "response = requests.get(url)\n",
    "\n",
    "with open('image-predictions.tsv', mode='wb') as f:\n",
    "    f.write(response.content)"
   ]
  },
  {
   "cell_type": "code",
   "execution_count": 5,
   "metadata": {},
   "outputs": [],
   "source": [
    "# load 2nd dataset\n",
    "img_predictions = pd.read_csv('image-predictions.tsv', sep='\\t')"
   ]
  },
  {
   "cell_type": "markdown",
   "metadata": {},
   "source": [
    "3. Use the Tweepy library to query additional data via the Twitter API (tweet_json.txt)"
   ]
  },
  {
   "cell_type": "code",
   "execution_count": 9,
   "metadata": {},
   "outputs": [],
   "source": [
    "# import tweepy\n",
    "# from tweepy import OAuthHandler\n",
    "# import json\n",
    "# from timeit import default_timer as timer\n",
    "\n",
    "# # Query Twitter API for each tweet in the Twitter archive and save JSON in a text file\n",
    "# # These are hidden to comply with Twitter's API terms and conditions\n",
    "# consumer_key = 'HIDDEN'\n",
    "# consumer_secret = 'HIDDEN'\n",
    "# access_token = 'HIDDEN'\n",
    "# access_secret = 'HIDDEN'\n",
    "\n",
    "# auth = OAuthHandler(consumer_key, consumer_secret)\n",
    "# auth.set_access_token(access_token, access_secret)\n",
    "\n",
    "# api = tweepy.API(auth, wait_on_rate_limit=True)\n",
    "\n",
    "# # NOTE TO STUDENT WITH MOBILE VERIFICATION ISSUES:\n",
    "# # df_1 is a DataFrame with the twitter_archive_enhanced.csv file. You may have to\n",
    "# # change line 17 to match the name of your DataFrame with twitter_archive_enhanced.csv\n",
    "# # NOTE TO REVIEWER: this student had mobile verification issues so the following\n",
    "# # Twitter API code was sent to this student from a Udacity instructor\n",
    "# # Tweet IDs for which to gather additional data via Twitter's API\n",
    "# tweet_ids = twitter_archived_enhanced.tweet_id.values\n",
    "# len(tweet_ids)\n",
    "\n",
    "# # Query Twitter's API for JSON data for each tweet ID in the Twitter archive\n",
    "# count = 0\n",
    "# fails_dict = {}\n",
    "# start = timer()\n",
    "# # Save each tweet's returned JSON as a new line in a .txt file\n",
    "# with open('tweet_json.txt', 'w') as outfile:\n",
    "#     # This loop will likely take 20-30 minutes to run because of Twitter's rate limit\n",
    "#     for tweet_id in tweet_ids:\n",
    "#         count += 1\n",
    "#         print(str(count) + \": \" + str(tweet_id))\n",
    "#         try:\n",
    "#             tweet = api.get_status(tweet_id, tweet_mode='extended')\n",
    "#             print(\"Success\")\n",
    "#             json.dump(tweet._json, outfile)\n",
    "#             outfile.write('\\n')\n",
    "#         except tweepy.TweepError as e:\n",
    "#             print(\"Fail\")\n",
    "#             fails_dict[tweet_id] = e\n",
    "#             pass\n",
    "# end = timer()\n",
    "# print(end - start)\n",
    "# print(fails_dict)"
   ]
  },
  {
   "cell_type": "markdown",
   "metadata": {},
   "source": [
    "### The above code failed"
   ]
  },
  {
   "cell_type": "code",
   "execution_count": 10,
   "metadata": {},
   "outputs": [],
   "source": [
    "# The token has expired, I decided to load data programmatically\n",
    "url = 'https://video.udacity-data.com/topher/2018/November/5be5fb7d_tweet-json/tweet-json.txt'\n",
    "response = requests.get(url)\n",
    "\n",
    "with open('tweet-json.txt', mode='wb') as f:\n",
    "    f.write(response.content)"
   ]
  },
  {
   "cell_type": "code",
   "execution_count": 11,
   "metadata": {},
   "outputs": [],
   "source": [
    "#coverting txt file to json\n",
    "data = 'tweet-json.txt'\n",
    "\n",
    "with open(data, 'r') as f:\n",
    "    jdata = [json.loads(line) for line in f]     "
   ]
  },
  {
   "cell_type": "code",
   "execution_count": 12,
   "metadata": {},
   "outputs": [
    {
     "data": {
      "text/plain": [
       "[(892420643555336193, 8853, 39467),\n",
       " (892177421306343426, 6514, 33819),\n",
       " (891815181378084864, 4328, 25461),\n",
       " (891689557279858688, 8964, 42908)]"
      ]
     },
     "execution_count": 12,
     "metadata": {},
     "output_type": "execute_result"
    }
   ],
   "source": [
    "# extracting the required columns\n",
    "data = list(map(itemgetter('id','retweet_count','favorite_count'), jdata))\n",
    "data[0:4]"
   ]
  },
  {
   "cell_type": "code",
   "execution_count": 13,
   "metadata": {},
   "outputs": [
    {
     "data": {
      "text/plain": [
       "Index(['tweet_id', 'retweet_count', 'favorite_count'], dtype='object')"
      ]
     },
     "execution_count": 13,
     "metadata": {},
     "output_type": "execute_result"
    }
   ],
   "source": [
    "# load into pandas dataframe and add column names\n",
    "df = pd.DataFrame(data, columns=['tweet_id','retweet_count','favorite_count'])\n",
    "df.columns"
   ]
  },
  {
   "cell_type": "code",
   "execution_count": 14,
   "metadata": {},
   "outputs": [],
   "source": [
    "# save 3rd dataset in CSV format\n",
    "df.to_csv('tweet_json.csv', index=False)"
   ]
  },
  {
   "cell_type": "markdown",
   "metadata": {
    "extensions": {
     "jupyter_dashboards": {
      "version": 1,
      "views": {
       "grid_default": {
        "col": 4,
        "height": 4,
        "hidden": false,
        "row": 28,
        "width": 4
       },
       "report_default": {
        "hidden": false
       }
      }
     }
    }
   },
   "source": [
    "## Assessing Data"
   ]
  },
  {
   "cell_type": "code",
   "execution_count": 15,
   "metadata": {},
   "outputs": [],
   "source": [
    "# load the datasets\n",
    "twitter_archived_enhanced = pd.read_csv('twitter-archive-enhanced.csv')\n",
    "img_predictions = pd.read_csv('image-predictions.tsv', sep='\\t')\n",
    "tweet_fav_counts = pd.read_csv('tweet_json.csv')"
   ]
  },
  {
   "cell_type": "markdown",
   "metadata": {},
   "source": [
    "### The Tweeter Archived Enhanced Data"
   ]
  },
  {
   "cell_type": "code",
   "execution_count": 16,
   "metadata": {},
   "outputs": [
    {
     "data": {
      "text/plain": [
       "Index(['tweet_id', 'in_reply_to_status_id', 'in_reply_to_user_id', 'timestamp',\n",
       "       'source', 'text', 'retweeted_status_id', 'retweeted_status_user_id',\n",
       "       'retweeted_status_timestamp', 'expanded_urls', 'rating_numerator',\n",
       "       'rating_denominator', 'name', 'doggo', 'floofer', 'pupper', 'puppo'],\n",
       "      dtype='object')"
      ]
     },
     "execution_count": 16,
     "metadata": {},
     "output_type": "execute_result"
    }
   ],
   "source": [
    "# checking the column names\n",
    "twitter_archived_enhanced.columns"
   ]
  },
  {
   "cell_type": "code",
   "execution_count": 17,
   "metadata": {},
   "outputs": [
    {
     "data": {
      "text/plain": [
       "(2356, 17)"
      ]
     },
     "execution_count": 17,
     "metadata": {},
     "output_type": "execute_result"
    }
   ],
   "source": [
    "# checking the number of rows and columns\n",
    "twitter_archived_enhanced.shape"
   ]
  },
  {
   "cell_type": "code",
   "execution_count": 18,
   "metadata": {},
   "outputs": [
    {
     "data": {
      "text/plain": [
       "False"
      ]
     },
     "execution_count": 18,
     "metadata": {},
     "output_type": "execute_result"
    }
   ],
   "source": [
    "# checking if any tweet ID is duplicated\n",
    "twitter_archived_enhanced.tweet_id.duplicated().any()"
   ]
  },
  {
   "cell_type": "code",
   "execution_count": 19,
   "metadata": {},
   "outputs": [
    {
     "data": {
      "text/plain": [
       "tweet_id                         0\n",
       "in_reply_to_status_id         2278\n",
       "in_reply_to_user_id           2278\n",
       "timestamp                        0\n",
       "source                           0\n",
       "text                             0\n",
       "retweeted_status_id           2175\n",
       "retweeted_status_user_id      2175\n",
       "retweeted_status_timestamp    2175\n",
       "expanded_urls                   59\n",
       "rating_numerator                 0\n",
       "rating_denominator               0\n",
       "name                             0\n",
       "doggo                            0\n",
       "floofer                          0\n",
       "pupper                           0\n",
       "puppo                            0\n",
       "dtype: int64"
      ]
     },
     "execution_count": 19,
     "metadata": {},
     "output_type": "execute_result"
    }
   ],
   "source": [
    "# checking for missing data in all columns\n",
    "twitter_archived_enhanced.isnull().sum()"
   ]
  },
  {
   "cell_type": "code",
   "execution_count": 20,
   "metadata": {},
   "outputs": [
    {
     "data": {
      "text/html": [
       "<div>\n",
       "<style scoped>\n",
       "    .dataframe tbody tr th:only-of-type {\n",
       "        vertical-align: middle;\n",
       "    }\n",
       "\n",
       "    .dataframe tbody tr th {\n",
       "        vertical-align: top;\n",
       "    }\n",
       "\n",
       "    .dataframe thead th {\n",
       "        text-align: right;\n",
       "    }\n",
       "</style>\n",
       "<table border=\"1\" class=\"dataframe\">\n",
       "  <thead>\n",
       "    <tr style=\"text-align: right;\">\n",
       "      <th></th>\n",
       "      <th>tweet_id</th>\n",
       "      <th>in_reply_to_status_id</th>\n",
       "      <th>in_reply_to_user_id</th>\n",
       "      <th>timestamp</th>\n",
       "      <th>source</th>\n",
       "      <th>text</th>\n",
       "      <th>retweeted_status_id</th>\n",
       "      <th>retweeted_status_user_id</th>\n",
       "      <th>retweeted_status_timestamp</th>\n",
       "      <th>expanded_urls</th>\n",
       "      <th>rating_numerator</th>\n",
       "      <th>rating_denominator</th>\n",
       "      <th>name</th>\n",
       "      <th>doggo</th>\n",
       "      <th>floofer</th>\n",
       "      <th>pupper</th>\n",
       "      <th>puppo</th>\n",
       "    </tr>\n",
       "  </thead>\n",
       "  <tbody>\n",
       "    <tr>\n",
       "      <th>1043</th>\n",
       "      <td>743835915802583040</td>\n",
       "      <td>NaN</td>\n",
       "      <td>NaN</td>\n",
       "      <td>2016-06-17 16:01:16 +0000</td>\n",
       "      <td>&lt;a href=\"http://twitter.com/download/iphone\" r...</td>\n",
       "      <td>RT @dog_rates: Extremely intelligent dog here....</td>\n",
       "      <td>6.671383e+17</td>\n",
       "      <td>4.196984e+09</td>\n",
       "      <td>2015-11-19 00:32:12 +0000</td>\n",
       "      <td>https://twitter.com/dog_rates/status/667138269...</td>\n",
       "      <td>10</td>\n",
       "      <td>10</td>\n",
       "      <td>None</td>\n",
       "      <td>None</td>\n",
       "      <td>None</td>\n",
       "      <td>None</td>\n",
       "      <td>None</td>\n",
       "    </tr>\n",
       "    <tr>\n",
       "      <th>1392</th>\n",
       "      <td>700062718104104960</td>\n",
       "      <td>NaN</td>\n",
       "      <td>NaN</td>\n",
       "      <td>2016-02-17 21:02:13 +0000</td>\n",
       "      <td>&lt;a href=\"http://twitter.com/download/iphone\" r...</td>\n",
       "      <td>This is Eazy-E. He's colorful af. Must be rare...</td>\n",
       "      <td>NaN</td>\n",
       "      <td>NaN</td>\n",
       "      <td>NaN</td>\n",
       "      <td>https://twitter.com/dog_rates/status/700062718...</td>\n",
       "      <td>6</td>\n",
       "      <td>10</td>\n",
       "      <td>Eazy</td>\n",
       "      <td>None</td>\n",
       "      <td>None</td>\n",
       "      <td>None</td>\n",
       "      <td>None</td>\n",
       "    </tr>\n",
       "    <tr>\n",
       "      <th>2123</th>\n",
       "      <td>670385711116361728</td>\n",
       "      <td>NaN</td>\n",
       "      <td>NaN</td>\n",
       "      <td>2015-11-27 23:36:23 +0000</td>\n",
       "      <td>&lt;a href=\"http://twitter.com/download/iphone\" r...</td>\n",
       "      <td>Meet Larry. He's a Panoramic Benzoate. Can sho...</td>\n",
       "      <td>NaN</td>\n",
       "      <td>NaN</td>\n",
       "      <td>NaN</td>\n",
       "      <td>https://twitter.com/dog_rates/status/670385711...</td>\n",
       "      <td>8</td>\n",
       "      <td>10</td>\n",
       "      <td>Larry</td>\n",
       "      <td>None</td>\n",
       "      <td>None</td>\n",
       "      <td>None</td>\n",
       "      <td>None</td>\n",
       "    </tr>\n",
       "    <tr>\n",
       "      <th>2220</th>\n",
       "      <td>668484198282485761</td>\n",
       "      <td>NaN</td>\n",
       "      <td>NaN</td>\n",
       "      <td>2015-11-22 17:40:27 +0000</td>\n",
       "      <td>&lt;a href=\"http://twitter.com/download/iphone\" r...</td>\n",
       "      <td>Good teamwork between these dogs. One is on lo...</td>\n",
       "      <td>NaN</td>\n",
       "      <td>NaN</td>\n",
       "      <td>NaN</td>\n",
       "      <td>https://twitter.com/dog_rates/status/668484198...</td>\n",
       "      <td>9</td>\n",
       "      <td>10</td>\n",
       "      <td>None</td>\n",
       "      <td>None</td>\n",
       "      <td>None</td>\n",
       "      <td>None</td>\n",
       "      <td>None</td>\n",
       "    </tr>\n",
       "    <tr>\n",
       "      <th>400</th>\n",
       "      <td>824775126675836928</td>\n",
       "      <td>NaN</td>\n",
       "      <td>NaN</td>\n",
       "      <td>2017-01-27 00:24:48 +0000</td>\n",
       "      <td>&lt;a href=\"http://twitter.com/download/iphone\" r...</td>\n",
       "      <td>This is Scooter. His lack of opposable thumbs ...</td>\n",
       "      <td>NaN</td>\n",
       "      <td>NaN</td>\n",
       "      <td>NaN</td>\n",
       "      <td>https://twitter.com/dog_rates/status/824775126...</td>\n",
       "      <td>12</td>\n",
       "      <td>10</td>\n",
       "      <td>Scooter</td>\n",
       "      <td>None</td>\n",
       "      <td>None</td>\n",
       "      <td>None</td>\n",
       "      <td>None</td>\n",
       "    </tr>\n",
       "  </tbody>\n",
       "</table>\n",
       "</div>"
      ],
      "text/plain": [
       "                tweet_id  in_reply_to_status_id  in_reply_to_user_id  \\\n",
       "1043  743835915802583040                    NaN                  NaN   \n",
       "1392  700062718104104960                    NaN                  NaN   \n",
       "2123  670385711116361728                    NaN                  NaN   \n",
       "2220  668484198282485761                    NaN                  NaN   \n",
       "400   824775126675836928                    NaN                  NaN   \n",
       "\n",
       "                      timestamp  \\\n",
       "1043  2016-06-17 16:01:16 +0000   \n",
       "1392  2016-02-17 21:02:13 +0000   \n",
       "2123  2015-11-27 23:36:23 +0000   \n",
       "2220  2015-11-22 17:40:27 +0000   \n",
       "400   2017-01-27 00:24:48 +0000   \n",
       "\n",
       "                                                 source  \\\n",
       "1043  <a href=\"http://twitter.com/download/iphone\" r...   \n",
       "1392  <a href=\"http://twitter.com/download/iphone\" r...   \n",
       "2123  <a href=\"http://twitter.com/download/iphone\" r...   \n",
       "2220  <a href=\"http://twitter.com/download/iphone\" r...   \n",
       "400   <a href=\"http://twitter.com/download/iphone\" r...   \n",
       "\n",
       "                                                   text  retweeted_status_id  \\\n",
       "1043  RT @dog_rates: Extremely intelligent dog here....         6.671383e+17   \n",
       "1392  This is Eazy-E. He's colorful af. Must be rare...                  NaN   \n",
       "2123  Meet Larry. He's a Panoramic Benzoate. Can sho...                  NaN   \n",
       "2220  Good teamwork between these dogs. One is on lo...                  NaN   \n",
       "400   This is Scooter. His lack of opposable thumbs ...                  NaN   \n",
       "\n",
       "      retweeted_status_user_id retweeted_status_timestamp  \\\n",
       "1043              4.196984e+09  2015-11-19 00:32:12 +0000   \n",
       "1392                       NaN                        NaN   \n",
       "2123                       NaN                        NaN   \n",
       "2220                       NaN                        NaN   \n",
       "400                        NaN                        NaN   \n",
       "\n",
       "                                          expanded_urls  rating_numerator  \\\n",
       "1043  https://twitter.com/dog_rates/status/667138269...                10   \n",
       "1392  https://twitter.com/dog_rates/status/700062718...                 6   \n",
       "2123  https://twitter.com/dog_rates/status/670385711...                 8   \n",
       "2220  https://twitter.com/dog_rates/status/668484198...                 9   \n",
       "400   https://twitter.com/dog_rates/status/824775126...                12   \n",
       "\n",
       "      rating_denominator     name doggo floofer pupper puppo  \n",
       "1043                  10     None  None    None   None  None  \n",
       "1392                  10     Eazy  None    None   None  None  \n",
       "2123                  10    Larry  None    None   None  None  \n",
       "2220                  10     None  None    None   None  None  \n",
       "400                   10  Scooter  None    None   None  None  "
      ]
     },
     "execution_count": 20,
     "metadata": {},
     "output_type": "execute_result"
    }
   ],
   "source": [
    "# visualizing 5 random data\n",
    "twitter_archived_enhanced.sample(5)"
   ]
  },
  {
   "cell_type": "code",
   "execution_count": 21,
   "metadata": {},
   "outputs": [
    {
     "name": "stdout",
     "output_type": "stream",
     "text": [
      "<class 'pandas.core.frame.DataFrame'>\n",
      "RangeIndex: 2356 entries, 0 to 2355\n",
      "Data columns (total 17 columns):\n",
      "tweet_id                      2356 non-null int64\n",
      "in_reply_to_status_id         78 non-null float64\n",
      "in_reply_to_user_id           78 non-null float64\n",
      "timestamp                     2356 non-null object\n",
      "source                        2356 non-null object\n",
      "text                          2356 non-null object\n",
      "retweeted_status_id           181 non-null float64\n",
      "retweeted_status_user_id      181 non-null float64\n",
      "retweeted_status_timestamp    181 non-null object\n",
      "expanded_urls                 2297 non-null object\n",
      "rating_numerator              2356 non-null int64\n",
      "rating_denominator            2356 non-null int64\n",
      "name                          2356 non-null object\n",
      "doggo                         2356 non-null object\n",
      "floofer                       2356 non-null object\n",
      "pupper                        2356 non-null object\n",
      "puppo                         2356 non-null object\n",
      "dtypes: float64(4), int64(3), object(10)\n",
      "memory usage: 313.0+ KB\n"
     ]
    }
   ],
   "source": [
    "# general information about the dataset\n",
    "twitter_archived_enhanced.info()"
   ]
  },
  {
   "cell_type": "code",
   "execution_count": 22,
   "metadata": {},
   "outputs": [
    {
     "data": {
      "text/plain": [
       "None     2326\n",
       "puppo      30\n",
       "Name: puppo, dtype: int64"
      ]
     },
     "execution_count": 22,
     "metadata": {},
     "output_type": "execute_result"
    }
   ],
   "source": [
    "# checking the actual numbers of puppo\n",
    "twitter_archived_enhanced.puppo.value_counts()"
   ]
  },
  {
   "cell_type": "code",
   "execution_count": 23,
   "metadata": {},
   "outputs": [
    {
     "data": {
      "text/plain": [
       "None      2099\n",
       "pupper     257\n",
       "Name: pupper, dtype: int64"
      ]
     },
     "execution_count": 23,
     "metadata": {},
     "output_type": "execute_result"
    }
   ],
   "source": [
    "# checking the actual numbers of pupper\n",
    "twitter_archived_enhanced.pupper.value_counts()"
   ]
  },
  {
   "cell_type": "code",
   "execution_count": 24,
   "metadata": {},
   "outputs": [
    {
     "data": {
      "text/plain": [
       "None       2346\n",
       "floofer      10\n",
       "Name: floofer, dtype: int64"
      ]
     },
     "execution_count": 24,
     "metadata": {},
     "output_type": "execute_result"
    }
   ],
   "source": [
    "# checking the actual numbers of floofer\n",
    "twitter_archived_enhanced.floofer.value_counts()"
   ]
  },
  {
   "cell_type": "code",
   "execution_count": 25,
   "metadata": {},
   "outputs": [
    {
     "data": {
      "text/plain": [
       "None     2259\n",
       "doggo      97\n",
       "Name: doggo, dtype: int64"
      ]
     },
     "execution_count": 25,
     "metadata": {},
     "output_type": "execute_result"
    }
   ],
   "source": [
    "# checking the actual numbers of doggo\n",
    "twitter_archived_enhanced.doggo.value_counts()"
   ]
  },
  {
   "cell_type": "code",
   "execution_count": 26,
   "metadata": {},
   "outputs": [
    {
     "data": {
      "text/plain": [
       "0    418\n",
       "dtype: int64"
      ]
     },
     "execution_count": 26,
     "metadata": {},
     "output_type": "execute_result"
    }
   ],
   "source": [
    "# checking for the numbers of dogs that had their stage of development mentioned in the text column\n",
    "twitter_archived_enhanced.text.str.extract(r\"(doggo|Doggo|floofer|Floofer|pupper|puppo|Puppo|Pupper)\").notnull().sum()"
   ]
  },
  {
   "cell_type": "code",
   "execution_count": 27,
   "metadata": {},
   "outputs": [
    {
     "data": {
      "text/plain": [
       "None              745\n",
       "a                  55\n",
       "Charlie            12\n",
       "Lucy               11\n",
       "Oliver             11\n",
       "Cooper             11\n",
       "Penny              10\n",
       "Tucker             10\n",
       "Lola               10\n",
       "Bo                  9\n",
       "Winston             9\n",
       "Sadie               8\n",
       "the                 8\n",
       "Toby                7\n",
       "an                  7\n",
       "Buddy               7\n",
       "Daisy               7\n",
       "Bailey              7\n",
       "Leo                 6\n",
       "Scout               6\n",
       "Oscar               6\n",
       "Bella               6\n",
       "Stanley             6\n",
       "Koda                6\n",
       "Jax                 6\n",
       "Dave                6\n",
       "Rusty               6\n",
       "Milo                6\n",
       "Jack                6\n",
       "Sammy               5\n",
       "Phil                5\n",
       "Chester             5\n",
       "George              5\n",
       "Finn                5\n",
       "Louis               5\n",
       "Alfie               5\n",
       "very                5\n",
       "Oakley              5\n",
       "Bentley             5\n",
       "Sunny               5\n",
       "Larry               5\n",
       "Gus                 5\n",
       "Ruby                4\n",
       "Boomer              4\n",
       "Jerry               4\n",
       "Gerald              4\n",
       "Bear                4\n",
       "Jeffrey             4\n",
       "Loki                4\n",
       "Maximus             4\n",
       "Shadow              4\n",
       "Gary                4\n",
       "Scooter             4\n",
       "Winnie              4\n",
       "Sophie              4\n",
       "Moose               4\n",
       "Riley               4\n",
       "Reginald            4\n",
       "Luna                4\n",
       "Cassie              4\n",
       "Clark               4\n",
       "Chip                4\n",
       "Derek               4\n",
       "Sampson             4\n",
       "Archie              4\n",
       "Walter              4\n",
       "Dexter              4\n",
       "Reggie              4\n",
       "Brody               4\n",
       "Maggie              4\n",
       "Bruce               4\n",
       "Hank                4\n",
       "Duke                4\n",
       "just                4\n",
       "Maddie              4\n",
       "Carl                4\n",
       "quite               4\n",
       "one                 4\n",
       "Beau                4\n",
       "Clarence            4\n",
       "Wyatt               3\n",
       "Otis                3\n",
       "Sebastian           3\n",
       "Kyle                3\n",
       "Rory                3\n",
       "Samson              3\n",
       "Ted                 3\n",
       "Malcolm             3\n",
       "Doug                3\n",
       "Calvin              3\n",
       "Peaches             3\n",
       "Paisley             3\n",
       "Ellie               3\n",
       "Wilson              3\n",
       "Earl                3\n",
       "Zoey                3\n",
       "Mia                 3\n",
       "Klevin              3\n",
       "Rosie               3\n",
       "Lily                3\n",
       "Frankie             3\n",
       "Colby               3\n",
       "Lorenzo             3\n",
       "Max                 3\n",
       "Zeke                3\n",
       "Wallace             3\n",
       "Coco                3\n",
       "Nala                3\n",
       "Vincent             3\n",
       "Waffles             3\n",
       "Olive               3\n",
       "Louie               3\n",
       "Steven              3\n",
       "Arnie               3\n",
       "Gizmo               3\n",
       "Reese               3\n",
       "Jimothy             3\n",
       "Herschel            2\n",
       "Juno                2\n",
       "Eli                 2\n",
       "Atticus             2\n",
       "Smokey              2\n",
       "Keith               2\n",
       "Kyro                2\n",
       "Hurley              2\n",
       "Chuckles            2\n",
       "Churlie             2\n",
       "Cali                2\n",
       "Nelly               2\n",
       "Hercules            2\n",
       "Yogi                2\n",
       "Balto               2\n",
       "Kevin               2\n",
       "Albus               2\n",
       "Sarge               2\n",
       "Gidget              2\n",
       "Carly               2\n",
       "Chipson             2\n",
       "Harold              2\n",
       "Herm                2\n",
       "Paull               2\n",
       "Cupcake             2\n",
       "Layla               2\n",
       "Jamesy              2\n",
       "Jiminy              2\n",
       "Timison             2\n",
       "Tyr                 2\n",
       "Raymond             2\n",
       "Mattie              2\n",
       "Opal                2\n",
       "Davey               2\n",
       "Flávio              2\n",
       "Albert              2\n",
       "Patrick             2\n",
       "Sansa               2\n",
       "Pablo               2\n",
       "Philbert            2\n",
       "Kenneth             2\n",
       "Rizzy               2\n",
       "Seamus              2\n",
       "Lincoln             2\n",
       "Stubert             2\n",
       "Ash                 2\n",
       "Quinn               2\n",
       "Misty               2\n",
       "Lilly               2\n",
       "Cash                2\n",
       "Theodore            2\n",
       "Pippa               2\n",
       "Doc                 2\n",
       "Happy               2\n",
       "Griffin             2\n",
       "Bisquick            2\n",
       "Canela              2\n",
       "Sugar               2\n",
       "Dawn                2\n",
       "Rocco               2\n",
       "Trooper             2\n",
       "Ken                 2\n",
       "Elliot              2\n",
       "Belle               2\n",
       "Luca                2\n",
       "Phineas             2\n",
       "Bungalo             2\n",
       "Phred               2\n",
       "Bell                2\n",
       "Hobbes              2\n",
       "Levi                2\n",
       "Meyer               2\n",
       "Neptune             2\n",
       "Lenny               2\n",
       "Alice               2\n",
       "Gromit              2\n",
       "Baloo               2\n",
       "Dakota              2\n",
       "Piper               2\n",
       "Herald              2\n",
       "Chet                2\n",
       "Charles             2\n",
       "Penelope            2\n",
       "Ozzy                2\n",
       "Blitz               2\n",
       "Kirby               2\n",
       "Marley              2\n",
       "Watson              2\n",
       "Ava                 2\n",
       "Oliviér             2\n",
       "Leela               2\n",
       "Ollie               2\n",
       "Tyrone              2\n",
       "Logan               2\n",
       "Django              2\n",
       "Baxter              2\n",
       "Hunter              2\n",
       "Chompsky            2\n",
       "Betty               2\n",
       "getting             2\n",
       "Panda               2\n",
       "Wally               2\n",
       "Cody                2\n",
       "Aspen               2\n",
       "Sandy               2\n",
       "Remington           2\n",
       "Atlas               2\n",
       "Olivia              2\n",
       "not                 2\n",
       "Butter              2\n",
       "Solomon             2\n",
       "Bernie              2\n",
       "Sierra              2\n",
       "Moe                 2\n",
       "Stephan             2\n",
       "Lou                 2\n",
       "mad                 2\n",
       "Franklin            2\n",
       "Linda               2\n",
       "Benedict            2\n",
       "Dash                2\n",
       "Sam                 2\n",
       "Titan               2\n",
       "Romeo               2\n",
       "Nollie              2\n",
       "Fiona               2\n",
       "Finley              2\n",
       "Fred                2\n",
       "Odie                2\n",
       "Anakin              2\n",
       "Kenny               2\n",
       "Moreton             2\n",
       "Jackson             2\n",
       "Curtis              2\n",
       "actually            2\n",
       "Kreggory            2\n",
       "Roosevelt           2\n",
       "Jesse               2\n",
       "Frank               2\n",
       "Klein               2\n",
       "Pipsy               2\n",
       "Thumas              2\n",
       "Astrid              2\n",
       "Harper              2\n",
       "Kilo                2\n",
       "Pickles             2\n",
       "Terry               2\n",
       "Lennon              2\n",
       "Calbert             2\n",
       "Coops               2\n",
       "Kreg                2\n",
       "Rubio               2\n",
       "Bob                 2\n",
       "Jeph                2\n",
       "Terrance            2\n",
       "Axel                2\n",
       "Mister              2\n",
       "Oshie               2\n",
       "Chelsea             2\n",
       "Brad                2\n",
       "CeCe                2\n",
       "Hammond             2\n",
       "Crystal             2\n",
       "Keurig              2\n",
       "Indie               2\n",
       "Maxaroni            2\n",
       "Fizz                2\n",
       "Abby                2\n",
       "Eve                 2\n",
       "Shaggy              2\n",
       "Benji               2\n",
       "Emmy                2\n",
       "Rufus               2\n",
       "Jimison             2\n",
       "Gabe                2\n",
       "Rocky               2\n",
       "Bubbles             2\n",
       "Percy               2\n",
       "Harvey              1\n",
       "Skittle             1\n",
       "Harrison            1\n",
       "Arya                1\n",
       "Fynn                1\n",
       "Jett                1\n",
       "Bayley              1\n",
       "Julius              1\n",
       "Bertson             1\n",
       "Ulysses             1\n",
       "Ralphy              1\n",
       "Billl               1\n",
       "Apollo              1\n",
       "Tiger               1\n",
       "Holly               1\n",
       "Tess                1\n",
       "Gunner              1\n",
       "Daniel              1\n",
       "Flurpson            1\n",
       "Ike                 1\n",
       "Jimbo               1\n",
       "Iggy                1\n",
       "Trigger             1\n",
       "Pavlov              1\n",
       "Jim                 1\n",
       "Buckley             1\n",
       "Chubbs              1\n",
       "Ralf                1\n",
       "Yukon               1\n",
       "Andru               1\n",
       "Farfle              1\n",
       "Vince               1\n",
       "Heinrich            1\n",
       "Spanky              1\n",
       "Jessifer            1\n",
       "Asher               1\n",
       "Filup               1\n",
       "Eleanor             1\n",
       "Billy               1\n",
       "Bradlay             1\n",
       "Toffee              1\n",
       "Nico                1\n",
       "Meatball            1\n",
       "Bauer               1\n",
       "Strider             1\n",
       "Arnold              1\n",
       "Sojourner           1\n",
       "Striker             1\n",
       "Olaf                1\n",
       "Lacy                1\n",
       "Jazzy               1\n",
       "Pepper              1\n",
       "Kendall             1\n",
       "Meera               1\n",
       "Banditt             1\n",
       "Ralpher             1\n",
       "Champ               1\n",
       "Taz                 1\n",
       "Ito                 1\n",
       "Brandonald          1\n",
       "Berb                1\n",
       "Miguel              1\n",
       "Spark               1\n",
       "Rolf                1\n",
       "Stella              1\n",
       "Alexanderson        1\n",
       "Jebberson           1\n",
       "Finnegus            1\n",
       "Hamrick             1\n",
       "Callie              1\n",
       "Miley               1\n",
       "Kane                1\n",
       "Naphaniel           1\n",
       "Dug                 1\n",
       "Pherb               1\n",
       "Josep               1\n",
       "Link                1\n",
       "Dobby               1\n",
       "Alejandro           1\n",
       "Rinna               1\n",
       "Mya                 1\n",
       "my                  1\n",
       "Rudy                1\n",
       "Hero                1\n",
       "Oddie               1\n",
       "Scruffers           1\n",
       "Clyde               1\n",
       "Wesley              1\n",
       "Tayzie              1\n",
       "Newt                1\n",
       "Laika               1\n",
       "Nimbus              1\n",
       "Swagger             1\n",
       "Jazz                1\n",
       "JD                  1\n",
       "Obie                1\n",
       "Karma               1\n",
       "Sage                1\n",
       "Harnold             1\n",
       "Sailor              1\n",
       "Freddery            1\n",
       "Beebop              1\n",
       "Emanuel             1\n",
       "Brady               1\n",
       "Tommy               1\n",
       "Grady               1\n",
       "Pubert              1\n",
       "Jareld              1\n",
       "Benny               1\n",
       "Chesney             1\n",
       "Severus             1\n",
       "Bowie               1\n",
       "Iroh                1\n",
       "Bronte              1\n",
       "Goliath             1\n",
       "Kaiya               1\n",
       "Marty               1\n",
       "Monkey              1\n",
       "Jangle              1\n",
       "Burt                1\n",
       "Acro                1\n",
       "Izzy                1\n",
       "Barney              1\n",
       "Biden               1\n",
       "Jordy               1\n",
       "Mosby               1\n",
       "Brian               1\n",
       "Cora                1\n",
       "Godzilla            1\n",
       "Obi                 1\n",
       "Duchess             1\n",
       "Chef                1\n",
       "Dietrich            1\n",
       "DonDon              1\n",
       "Rascal              1\n",
       "Adele               1\n",
       "Hermione            1\n",
       "Stewie              1\n",
       "Livvie              1\n",
       "Taco                1\n",
       "Ben                 1\n",
       "Jiminus             1\n",
       "Tebow               1\n",
       "Lupe                1\n",
       "Mike                1\n",
       "Vixen               1\n",
       "Snoopy              1\n",
       "Kellogg             1\n",
       "Ester               1\n",
       "Halo                1\n",
       "Juckson             1\n",
       "Timmy               1\n",
       "Tonks               1\n",
       "Tessa               1\n",
       "his                 1\n",
       "Dylan               1\n",
       "Torque              1\n",
       "Snoop               1\n",
       "Rhino               1\n",
       "Ronduh              1\n",
       "Jockson             1\n",
       "Mark                1\n",
       "Pawnd               1\n",
       "Dex                 1\n",
       "Koko                1\n",
       "Ricky               1\n",
       "Duddles             1\n",
       "Tripp               1\n",
       "Charleson           1\n",
       "William             1\n",
       "Kirk                1\n",
       "Maisey              1\n",
       "Kona                1\n",
       "Trevith             1\n",
       "Tom                 1\n",
       "Flash               1\n",
       "Beya                1\n",
       "Zoe                 1\n",
       "Rueben              1\n",
       "Cal                 1\n",
       "Opie                1\n",
       "Tupawc              1\n",
       "Stephanus           1\n",
       "Cuddles             1\n",
       "Wishes              1\n",
       "Gin                 1\n",
       "Timofy              1\n",
       "Berkeley            1\n",
       "Maxwell             1\n",
       "Lipton              1\n",
       "Aiden               1\n",
       "Bruno               1\n",
       "Julio               1\n",
       "Traviss             1\n",
       "Tedrick             1\n",
       "Venti               1\n",
       "Shawwn              1\n",
       "Wafer               1\n",
       "Smiley              1\n",
       "Lorelei             1\n",
       "Sonny               1\n",
       "Joshwa              1\n",
       "Cilantro            1\n",
       "Tater               1\n",
       "Tobi                1\n",
       "Rilo                1\n",
       "Brudge              1\n",
       "Bubba               1\n",
       "Pinot               1\n",
       "Chesterson          1\n",
       "Bobbay              1\n",
       "Jeffri              1\n",
       "Lizzie              1\n",
       "Shelby              1\n",
       "Beemo               1\n",
       "Wiggles             1\n",
       "Jonah               1\n",
       "Mabel               1\n",
       "Cermet              1\n",
       "Mitch               1\n",
       "Franq               1\n",
       "Carll               1\n",
       "Skye                1\n",
       "Ace                 1\n",
       "Jameson             1\n",
       "Hanz                1\n",
       "Clarkus             1\n",
       "Herb                1\n",
       "Birf                1\n",
       "Emmie               1\n",
       "Dewey               1\n",
       "Bluebert            1\n",
       "Anthony             1\n",
       "Devón               1\n",
       "Mollie              1\n",
       "Ivar                1\n",
       "Blipson             1\n",
       "Ole                 1\n",
       "Coopson             1\n",
       "Coleman             1\n",
       "Erik                1\n",
       "Shikha              1\n",
       "Blanket             1\n",
       "Petrick             1\n",
       "Sailer              1\n",
       "Blue                1\n",
       "Sobe                1\n",
       "Zeek                1\n",
       "Crawford            1\n",
       "Gilbert             1\n",
       "Mona                1\n",
       "Griswold            1\n",
       "Pippin              1\n",
       "Rumpole             1\n",
       "Ruffles             1\n",
       "Pumpkin             1\n",
       "Harlso              1\n",
       "Stark               1\n",
       "Colin               1\n",
       "Strudel             1\n",
       "Charl               1\n",
       "Superpup            1\n",
       "Liam                1\n",
       "by                  1\n",
       "Storkson            1\n",
       "Augie               1\n",
       "Kallie              1\n",
       "Binky               1\n",
       "Andy                1\n",
       "Gerbald             1\n",
       "Corey               1\n",
       "Maude               1\n",
       "Jeb                 1\n",
       "BeBe                1\n",
       "Claude              1\n",
       "Furzey              1\n",
       "Bruiser             1\n",
       "Ralphus             1\n",
       "Sky                 1\n",
       "Noah                1\n",
       "Peanut              1\n",
       "Laela               1\n",
       "Mary                1\n",
       "Humphrey            1\n",
       "Clybe               1\n",
       "Mauve               1\n",
       "space               1\n",
       "Stu                 1\n",
       "Ziva                1\n",
       "Tassy               1\n",
       "Bobble              1\n",
       "Rorie               1\n",
       "Dixie               1\n",
       "Batdog              1\n",
       "Bookstore           1\n",
       "Zara                1\n",
       "Rumble              1\n",
       "Monty               1\n",
       "Richie              1\n",
       "Bonaparte           1\n",
       "Milky               1\n",
       "Lulu                1\n",
       "Shnuggles           1\n",
       "Christoper          1\n",
       "infuriating         1\n",
       "Chase               1\n",
       "Damon               1\n",
       "Tyrus               1\n",
       "Amélie              1\n",
       "Brat                1\n",
       "Patch               1\n",
       "DayZ                1\n",
       "Henry               1\n",
       "Cedrick             1\n",
       "Aubie               1\n",
       "Molly               1\n",
       "Margo               1\n",
       "Terrenth            1\n",
       "Hall                1\n",
       "Teddy               1\n",
       "Donny               1\n",
       "Dudley              1\n",
       "Stefan              1\n",
       "Kobe                1\n",
       "Antony              1\n",
       "Harry               1\n",
       "Darla               1\n",
       "Puff                1\n",
       "Stuart              1\n",
       "Cheryl              1\n",
       "Alf                 1\n",
       "Carter              1\n",
       "Lolo                1\n",
       "Ambrose             1\n",
       "Cannon              1\n",
       "Jed                 1\n",
       "Millie              1\n",
       "Skittles            1\n",
       "such                1\n",
       "Sweet               1\n",
       "Genevieve           1\n",
       "Tycho               1\n",
       "Murphy              1\n",
       "Horace              1\n",
       "Tuck                1\n",
       "Sora                1\n",
       "Travis              1\n",
       "Brutus              1\n",
       "Pete                1\n",
       "Jomathan            1\n",
       "Willow              1\n",
       "Bodie               1\n",
       "unacceptable        1\n",
       "Pilot               1\n",
       "Rover               1\n",
       "Goose               1\n",
       "Willem              1\n",
       "Edmund              1\n",
       "Ed                  1\n",
       "Rufio               1\n",
       "Kramer              1\n",
       "Stormy              1\n",
       "Clarq               1\n",
       "Danny               1\n",
       "Enchilada           1\n",
       "Ridley              1\n",
       "Rupert              1\n",
       "Bode                1\n",
       "Bobb                1\n",
       "Darrel              1\n",
       "Anna                1\n",
       "Jackie              1\n",
       "Simba               1\n",
       "Philippe            1\n",
       "Jaspers             1\n",
       "Brooks              1\n",
       "Tino                1\n",
       "Chaz                1\n",
       "Lili                1\n",
       "Lilli               1\n",
       "Norman              1\n",
       "Al                  1\n",
       "Banjo               1\n",
       "Dido                1\n",
       "Mojo                1\n",
       "Roscoe              1\n",
       "Maya                1\n",
       "Scott               1\n",
       "Ralphé              1\n",
       "Bert                1\n",
       "Crumpet             1\n",
       "Jennifur            1\n",
       "Timber              1\n",
       "Ashleigh            1\n",
       "Akumi               1\n",
       "Boston              1\n",
       "Todo                1\n",
       "Luther              1\n",
       "Deacon              1\n",
       "Bradley             1\n",
       "Jeffrie             1\n",
       "Sunshine            1\n",
       "Dutch               1\n",
       "Gustav              1\n",
       "Perry               1\n",
       "Orion               1\n",
       "Chadrick            1\n",
       "Kayla               1\n",
       "Hazel               1\n",
       "Dot                 1\n",
       "Doobert             1\n",
       "Tilly               1\n",
       "Nugget              1\n",
       "Jo                  1\n",
       "Rodman              1\n",
       "Marq                1\n",
       "Kanu                1\n",
       "Geoff               1\n",
       "Jerome              1\n",
       "Grizzwald           1\n",
       "Eriq                1\n",
       "Alexander           1\n",
       "Pluto               1\n",
       "Sprout              1\n",
       "Leonard             1\n",
       "Ralphie             1\n",
       "Georgie             1\n",
       "Derby               1\n",
       "Sephie              1\n",
       "Kevon               1\n",
       "Brandy              1\n",
       "Gabby               1\n",
       "Willie              1\n",
       "Lance               1\n",
       "Blakely             1\n",
       "Napolean            1\n",
       "Staniel             1\n",
       "Lenox               1\n",
       "Reagan              1\n",
       "Brownie             1\n",
       "Ron                 1\n",
       "Sully               1\n",
       "Spencer             1\n",
       "this                1\n",
       "Linus               1\n",
       "Snicku              1\n",
       "Kathmandu           1\n",
       "Tove                1\n",
       "Loomis              1\n",
       "Ember               1\n",
       "Arlo                1\n",
       "Dook                1\n",
       "Sundance            1\n",
       "Tango               1\n",
       "Kollin              1\n",
       "Kloey               1\n",
       "Joey                1\n",
       "Eevee               1\n",
       "Kawhi               1\n",
       "Fiji                1\n",
       "Bloop               1\n",
       "Grizz               1\n",
       "Boots               1\n",
       "old                 1\n",
       "Maks                1\n",
       "Trip                1\n",
       "Fido                1\n",
       "Arlen               1\n",
       "Mo                  1\n",
       "Brockly             1\n",
       "Combo               1\n",
       "Kenzie              1\n",
       "Lambeau             1\n",
       "Marvin              1\n",
       "all                 1\n",
       "Caryl               1\n",
       "Darby               1\n",
       "Fletcher            1\n",
       "Malikai             1\n",
       "Vinnie              1\n",
       "Lilah               1\n",
       "Dwight              1\n",
       "Karll               1\n",
       "Vinscent            1\n",
       "Lugan               1\n",
       "Jersey              1\n",
       "Nida                1\n",
       "Jessiga             1\n",
       "Grizzie             1\n",
       "Ebby                1\n",
       "Cecil               1\n",
       "Durg                1\n",
       "Tanner              1\n",
       "Eazy                1\n",
       "Ginger              1\n",
       "Tito                1\n",
       "Huck                1\n",
       "Butters             1\n",
       "Sparky              1\n",
       "Autumn              1\n",
       "Kial                1\n",
       "Schnitzel           1\n",
       "officially          1\n",
       "Aja                 1\n",
       "Mookie              1\n",
       "Dunkin              1\n",
       "Ronnie              1\n",
       "Edgar               1\n",
       "Robin               1\n",
       "Thor                1\n",
       "Zeus                1\n",
       "Mimosa              1\n",
       "Florence            1\n",
       "Beckham             1\n",
       "Fabio               1\n",
       "General             1\n",
       "Winifred            1\n",
       "Divine              1\n",
       "Karl                1\n",
       "Buddah              1\n",
       "Dale                1\n",
       "Hector              1\n",
       "Theo                1\n",
       "Fwed                1\n",
       "Suki                1\n",
       "Chuck               1\n",
       "Chloe               1\n",
       "Rooney              1\n",
       "Grey                1\n",
       "Ralph               1\n",
       "Snickers            1\n",
       "Nigel               1\n",
       "Mac                 1\n",
       "Rambo               1\n",
       "Shooter             1\n",
       "Geno                1\n",
       "Lucky               1\n",
       "Willy               1\n",
       "Baron               1\n",
       "Oreo                1\n",
       "Barclay             1\n",
       "Rontu               1\n",
       "Cupid               1\n",
       "Tuco                1\n",
       "Jay                 1\n",
       "Socks               1\n",
       "Rey                 1\n",
       "Bobby               1\n",
       "Fillup              1\n",
       "Howie               1\n",
       "Ralphson            1\n",
       "Rizzo               1\n",
       "Jarvis              1\n",
       "Covach              1\n",
       "Kota                1\n",
       "Dallas              1\n",
       "Chevy               1\n",
       "Frönq               1\n",
       "Carper              1\n",
       "Moofasa             1\n",
       "Remus               1\n",
       "Tug                 1\n",
       "Cheesy              1\n",
       "Siba                1\n",
       "Shiloh              1\n",
       "River               1\n",
       "Lassie              1\n",
       "Alfy                1\n",
       "Mutt                1\n",
       "Walker              1\n",
       "Diogi               1\n",
       "Marlee              1\n",
       "Kaia                1\n",
       "Randall             1\n",
       "O                   1\n",
       "Longfellow          1\n",
       "Godi                1\n",
       "Angel               1\n",
       "Schnozz             1\n",
       "Kingsley            1\n",
       "Rose                1\n",
       "Ozzie               1\n",
       "Glacier             1\n",
       "Reptar              1\n",
       "Craig               1\n",
       "Ferg                1\n",
       "Monster             1\n",
       "Kara                1\n",
       "Michelangelope      1\n",
       "light               1\n",
       "Jarod               1\n",
       "Noosh               1\n",
       "Bones               1\n",
       "Mack                1\n",
       "Kuyu                1\n",
       "Jeremy              1\n",
       "Eugene              1\n",
       "Brandi              1\n",
       "Mairi               1\n",
       "Yoda                1\n",
       "Gòrdón              1\n",
       "Major               1\n",
       "Aldrick             1\n",
       "Kulet               1\n",
       "Dotsy               1\n",
       "Tedders             1\n",
       "Gert                1\n",
       "Pancake             1\n",
       "Chuq                1\n",
       "Odin                1\n",
       "Blu                 1\n",
       "Lucia               1\n",
       "Leonidas            1\n",
       "Zuzu                1\n",
       "Jaycob              1\n",
       "Sandra              1\n",
       "Crouton             1\n",
       "life                1\n",
       "Steve               1\n",
       "Lillie              1\n",
       "Mingus              1\n",
       "Shakespeare         1\n",
       "Gordon              1\n",
       "Poppy               1\n",
       "Aqua                1\n",
       "Pip                 1\n",
       "Amber               1\n",
       "Sid                 1\n",
       "Samsom              1\n",
       "Sweets              1\n",
       "Bloo                1\n",
       "Evy                 1\n",
       "Saydee              1\n",
       "Shadoe              1\n",
       "Einstein            1\n",
       "Katie               1\n",
       "Glenn               1\n",
       "Raphael             1\n",
       "Sprinkles           1\n",
       "Gustaf              1\n",
       "Dante               1\n",
       "Crimson             1\n",
       "Edd                 1\n",
       "Amy                 1\n",
       "Carbon              1\n",
       "incredibly          1\n",
       "Huxley              1\n",
       "Pupcasso            1\n",
       "Rodney              1\n",
       "Kody                1\n",
       "Hubertson           1\n",
       "Remy                1\n",
       "Cleopatricia        1\n",
       "Creg                1\n",
       "Keet                1\n",
       "Comet               1\n",
       "Mason               1\n",
       "Zooey               1\n",
       "Bilbo               1\n",
       "Barry               1\n",
       "Emma                1\n",
       "Clifford            1\n",
       "Name: name, dtype: int64"
      ]
     },
     "execution_count": 27,
     "metadata": {},
     "output_type": "execute_result"
    }
   ],
   "source": [
    "# Inspecting the name column\n",
    "pd.set_option('display.max_rows', None)\n",
    "pd.set_option('display.max_columns', None)\n",
    "twitter_archived_enhanced.name.value_counts()"
   ]
  },
  {
   "cell_type": "code",
   "execution_count": 28,
   "metadata": {},
   "outputs": [
    {
     "name": "stdout",
     "output_type": "stream",
     "text": [
      "['such' 'a' 'quite' 'not' 'one' 'incredibly' 'mad' 'an' 'very' 'just' 'my'\n",
      " 'his' 'actually' 'getting' 'this' 'unacceptable' 'all' 'old' 'infuriating'\n",
      " 'the' 'by' 'officially' 'life' 'light' 'space']\n"
     ]
    }
   ],
   "source": [
    "# All inappropriate names starting with small letters\n",
    "index = np.where(twitter_archived_enhanced.name.str.islower())\n",
    "for i in index:\n",
    "    print(twitter_archived_enhanced.iloc[i,12].unique())"
   ]
  },
  {
   "cell_type": "code",
   "execution_count": 29,
   "metadata": {},
   "outputs": [
    {
     "data": {
      "text/plain": [
       "12      558\n",
       "11      464\n",
       "10      461\n",
       "13      351\n",
       "9       158\n",
       "8       102\n",
       "7        55\n",
       "14       54\n",
       "5        37\n",
       "6        32\n",
       "3        19\n",
       "4        17\n",
       "1         9\n",
       "2         9\n",
       "420       2\n",
       "0         2\n",
       "15        2\n",
       "75        2\n",
       "80        1\n",
       "20        1\n",
       "24        1\n",
       "26        1\n",
       "44        1\n",
       "50        1\n",
       "60        1\n",
       "165       1\n",
       "84        1\n",
       "88        1\n",
       "144       1\n",
       "182       1\n",
       "143       1\n",
       "666       1\n",
       "960       1\n",
       "1776      1\n",
       "17        1\n",
       "27        1\n",
       "45        1\n",
       "99        1\n",
       "121       1\n",
       "204       1\n",
       "Name: rating_numerator, dtype: int64"
      ]
     },
     "execution_count": 29,
     "metadata": {},
     "output_type": "execute_result"
    }
   ],
   "source": [
    "# inspecting the rating_numerator\n",
    "twitter_archived_enhanced.rating_numerator.value_counts()"
   ]
  },
  {
   "cell_type": "code",
   "execution_count": 30,
   "metadata": {},
   "outputs": [
    {
     "data": {
      "text/plain": [
       "count    2356.000000\n",
       "mean       13.126486\n",
       "std        45.876648\n",
       "min         0.000000\n",
       "25%        10.000000\n",
       "50%        11.000000\n",
       "75%        12.000000\n",
       "max      1776.000000\n",
       "Name: rating_numerator, dtype: float64"
      ]
     },
     "execution_count": 30,
     "metadata": {},
     "output_type": "execute_result"
    }
   ],
   "source": [
    "# further rating_numerator inspection\n",
    "twitter_archived_enhanced.rating_numerator.describe()"
   ]
  },
  {
   "cell_type": "code",
   "execution_count": 31,
   "metadata": {},
   "outputs": [
    {
     "data": {
      "text/plain": [
       "10     2333\n",
       "11        3\n",
       "50        3\n",
       "80        2\n",
       "20        2\n",
       "2         1\n",
       "16        1\n",
       "40        1\n",
       "70        1\n",
       "15        1\n",
       "90        1\n",
       "110       1\n",
       "120       1\n",
       "130       1\n",
       "150       1\n",
       "170       1\n",
       "7         1\n",
       "0         1\n",
       "Name: rating_denominator, dtype: int64"
      ]
     },
     "execution_count": 31,
     "metadata": {},
     "output_type": "execute_result"
    }
   ],
   "source": [
    "# inspecting the rating_denominator column\n",
    "twitter_archived_enhanced['rating_denominator'].value_counts()"
   ]
  },
  {
   "cell_type": "code",
   "execution_count": 32,
   "metadata": {},
   "outputs": [
    {
     "data": {
      "text/html": [
       "<div>\n",
       "<style scoped>\n",
       "    .dataframe tbody tr th:only-of-type {\n",
       "        vertical-align: middle;\n",
       "    }\n",
       "\n",
       "    .dataframe tbody tr th {\n",
       "        vertical-align: top;\n",
       "    }\n",
       "\n",
       "    .dataframe thead th {\n",
       "        text-align: right;\n",
       "    }\n",
       "</style>\n",
       "<table border=\"1\" class=\"dataframe\">\n",
       "  <thead>\n",
       "    <tr style=\"text-align: right;\">\n",
       "      <th></th>\n",
       "      <th>text</th>\n",
       "      <th>rating_numerator</th>\n",
       "      <th>rating_denominator</th>\n",
       "    </tr>\n",
       "  </thead>\n",
       "  <tbody>\n",
       "    <tr>\n",
       "      <th>313</th>\n",
       "      <td>@jonnysun @Lin_Manuel ok jomny I know you're excited but 960/00 isn't a valid rating, 13/10 is tho</td>\n",
       "      <td>960</td>\n",
       "      <td>0</td>\n",
       "    </tr>\n",
       "    <tr>\n",
       "      <th>342</th>\n",
       "      <td>@docmisterio account started on 11/15/15</td>\n",
       "      <td>11</td>\n",
       "      <td>15</td>\n",
       "    </tr>\n",
       "    <tr>\n",
       "      <th>433</th>\n",
       "      <td>The floofs have been released I repeat the floofs have been released. 84/70 https://t.co/NIYC820tmd</td>\n",
       "      <td>84</td>\n",
       "      <td>70</td>\n",
       "    </tr>\n",
       "    <tr>\n",
       "      <th>516</th>\n",
       "      <td>Meet Sam. She smiles 24/7 &amp;amp; secretly aspires to be a reindeer. \\nKeep Sam smiling by clicking and sharing this link:\\nhttps://t.co/98tB8y7y7t https://t.co/LouL5vdvxx</td>\n",
       "      <td>24</td>\n",
       "      <td>7</td>\n",
       "    </tr>\n",
       "    <tr>\n",
       "      <th>784</th>\n",
       "      <td>RT @dog_rates: After so many requests, this is Bretagne. She was the last surviving 9/11 search dog, and our second ever 14/10. RIP https:/…</td>\n",
       "      <td>9</td>\n",
       "      <td>11</td>\n",
       "    </tr>\n",
       "    <tr>\n",
       "      <th>902</th>\n",
       "      <td>Why does this never happen at my front door... 165/150 https://t.co/HmwrdfEfUE</td>\n",
       "      <td>165</td>\n",
       "      <td>150</td>\n",
       "    </tr>\n",
       "    <tr>\n",
       "      <th>1068</th>\n",
       "      <td>After so many requests, this is Bretagne. She was the last surviving 9/11 search dog, and our second ever 14/10. RIP https://t.co/XAVDNDaVgQ</td>\n",
       "      <td>9</td>\n",
       "      <td>11</td>\n",
       "    </tr>\n",
       "    <tr>\n",
       "      <th>1120</th>\n",
       "      <td>Say hello to this unbelievably well behaved squad of doggos. 204/170 would try to pet all at once https://t.co/yGQI3He3xv</td>\n",
       "      <td>204</td>\n",
       "      <td>170</td>\n",
       "    </tr>\n",
       "    <tr>\n",
       "      <th>1165</th>\n",
       "      <td>Happy 4/20 from the squad! 13/10 for all https://t.co/eV1diwds8a</td>\n",
       "      <td>4</td>\n",
       "      <td>20</td>\n",
       "    </tr>\n",
       "    <tr>\n",
       "      <th>1202</th>\n",
       "      <td>This is Bluebert. He just saw that both #FinalFur match ups are split 50/50. Amazed af. 11/10 https://t.co/Kky1DPG4iq</td>\n",
       "      <td>50</td>\n",
       "      <td>50</td>\n",
       "    </tr>\n",
       "    <tr>\n",
       "      <th>1228</th>\n",
       "      <td>Happy Saturday here's 9 puppers on a bench. 99/90 good work everybody https://t.co/mpvaVxKmc1</td>\n",
       "      <td>99</td>\n",
       "      <td>90</td>\n",
       "    </tr>\n",
       "    <tr>\n",
       "      <th>1254</th>\n",
       "      <td>Here's a brigade of puppers. All look very prepared for whatever happens next. 80/80 https://t.co/0eb7R1Om12</td>\n",
       "      <td>80</td>\n",
       "      <td>80</td>\n",
       "    </tr>\n",
       "    <tr>\n",
       "      <th>1274</th>\n",
       "      <td>From left to right:\\nCletus, Jerome, Alejandro, Burp, &amp;amp; Titson\\nNone know where camera is. 45/50 would hug all at once https://t.co/sedre1ivTK</td>\n",
       "      <td>45</td>\n",
       "      <td>50</td>\n",
       "    </tr>\n",
       "    <tr>\n",
       "      <th>1351</th>\n",
       "      <td>Here is a whole flock of puppers.  60/50 I'll take the lot https://t.co/9dpcw6MdWa</td>\n",
       "      <td>60</td>\n",
       "      <td>50</td>\n",
       "    </tr>\n",
       "    <tr>\n",
       "      <th>1433</th>\n",
       "      <td>Happy Wednesday here's a bucket of pups. 44/40 would pet all at once https://t.co/HppvrYuamZ</td>\n",
       "      <td>44</td>\n",
       "      <td>40</td>\n",
       "    </tr>\n",
       "    <tr>\n",
       "      <th>1598</th>\n",
       "      <td>Yes I do realize a rating of 4/20 would've been fitting. However, it would be unjust to give these cooperative pups that low of a rating</td>\n",
       "      <td>4</td>\n",
       "      <td>20</td>\n",
       "    </tr>\n",
       "    <tr>\n",
       "      <th>1634</th>\n",
       "      <td>Two sneaky puppers were not initially seen, moving the rating to 143/130. Please forgive us. Thank you https://t.co/kRK51Y5ac3</td>\n",
       "      <td>143</td>\n",
       "      <td>130</td>\n",
       "    </tr>\n",
       "    <tr>\n",
       "      <th>1635</th>\n",
       "      <td>Someone help the girl is being mugged. Several are distracting her while two steal her shoes. Clever puppers 121/110 https://t.co/1zfnTJLt55</td>\n",
       "      <td>121</td>\n",
       "      <td>110</td>\n",
       "    </tr>\n",
       "    <tr>\n",
       "      <th>1662</th>\n",
       "      <td>This is Darrel. He just robbed a 7/11 and is in a high speed police chase. Was just spotted by the helicopter 10/10 https://t.co/7EsP8LmSp5</td>\n",
       "      <td>7</td>\n",
       "      <td>11</td>\n",
       "    </tr>\n",
       "    <tr>\n",
       "      <th>1663</th>\n",
       "      <td>I'm aware that I could've said 20/16, but here at WeRateDogs we are very professional. An inconsistent rating scale is simply irresponsible</td>\n",
       "      <td>20</td>\n",
       "      <td>16</td>\n",
       "    </tr>\n",
       "    <tr>\n",
       "      <th>1779</th>\n",
       "      <td>IT'S PUPPERGEDDON. Total of 144/120 ...I think https://t.co/ZanVtAtvIq</td>\n",
       "      <td>144</td>\n",
       "      <td>120</td>\n",
       "    </tr>\n",
       "    <tr>\n",
       "      <th>1843</th>\n",
       "      <td>Here we have an entire platoon of puppers. Total score: 88/80 would pet all at once https://t.co/y93p6FLvVw</td>\n",
       "      <td>88</td>\n",
       "      <td>80</td>\n",
       "    </tr>\n",
       "    <tr>\n",
       "      <th>2335</th>\n",
       "      <td>This is an Albanian 3 1/2 legged  Episcopalian. Loves well-polished hardwood flooring. Penis on the collar. 9/10 https://t.co/d9NcXFKwLv</td>\n",
       "      <td>1</td>\n",
       "      <td>2</td>\n",
       "    </tr>\n",
       "  </tbody>\n",
       "</table>\n",
       "</div>"
      ],
      "text/plain": [
       "                                                                                                                                                                           text  \\\n",
       "313   @jonnysun @Lin_Manuel ok jomny I know you're excited but 960/00 isn't a valid rating, 13/10 is tho                                                                          \n",
       "342   @docmisterio account started on 11/15/15                                                                                                                                    \n",
       "433   The floofs have been released I repeat the floofs have been released. 84/70 https://t.co/NIYC820tmd                                                                         \n",
       "516   Meet Sam. She smiles 24/7 &amp; secretly aspires to be a reindeer. \\nKeep Sam smiling by clicking and sharing this link:\\nhttps://t.co/98tB8y7y7t https://t.co/LouL5vdvxx   \n",
       "784   RT @dog_rates: After so many requests, this is Bretagne. She was the last surviving 9/11 search dog, and our second ever 14/10. RIP https:/…                                \n",
       "902   Why does this never happen at my front door... 165/150 https://t.co/HmwrdfEfUE                                                                                              \n",
       "1068  After so many requests, this is Bretagne. She was the last surviving 9/11 search dog, and our second ever 14/10. RIP https://t.co/XAVDNDaVgQ                                \n",
       "1120  Say hello to this unbelievably well behaved squad of doggos. 204/170 would try to pet all at once https://t.co/yGQI3He3xv                                                   \n",
       "1165  Happy 4/20 from the squad! 13/10 for all https://t.co/eV1diwds8a                                                                                                            \n",
       "1202  This is Bluebert. He just saw that both #FinalFur match ups are split 50/50. Amazed af. 11/10 https://t.co/Kky1DPG4iq                                                       \n",
       "1228  Happy Saturday here's 9 puppers on a bench. 99/90 good work everybody https://t.co/mpvaVxKmc1                                                                               \n",
       "1254  Here's a brigade of puppers. All look very prepared for whatever happens next. 80/80 https://t.co/0eb7R1Om12                                                                \n",
       "1274  From left to right:\\nCletus, Jerome, Alejandro, Burp, &amp; Titson\\nNone know where camera is. 45/50 would hug all at once https://t.co/sedre1ivTK                          \n",
       "1351  Here is a whole flock of puppers.  60/50 I'll take the lot https://t.co/9dpcw6MdWa                                                                                          \n",
       "1433  Happy Wednesday here's a bucket of pups. 44/40 would pet all at once https://t.co/HppvrYuamZ                                                                                \n",
       "1598  Yes I do realize a rating of 4/20 would've been fitting. However, it would be unjust to give these cooperative pups that low of a rating                                    \n",
       "1634  Two sneaky puppers were not initially seen, moving the rating to 143/130. Please forgive us. Thank you https://t.co/kRK51Y5ac3                                              \n",
       "1635  Someone help the girl is being mugged. Several are distracting her while two steal her shoes. Clever puppers 121/110 https://t.co/1zfnTJLt55                                \n",
       "1662  This is Darrel. He just robbed a 7/11 and is in a high speed police chase. Was just spotted by the helicopter 10/10 https://t.co/7EsP8LmSp5                                 \n",
       "1663  I'm aware that I could've said 20/16, but here at WeRateDogs we are very professional. An inconsistent rating scale is simply irresponsible                                 \n",
       "1779  IT'S PUPPERGEDDON. Total of 144/120 ...I think https://t.co/ZanVtAtvIq                                                                                                      \n",
       "1843  Here we have an entire platoon of puppers. Total score: 88/80 would pet all at once https://t.co/y93p6FLvVw                                                                 \n",
       "2335  This is an Albanian 3 1/2 legged  Episcopalian. Loves well-polished hardwood flooring. Penis on the collar. 9/10 https://t.co/d9NcXFKwLv                                    \n",
       "\n",
       "      rating_numerator  rating_denominator  \n",
       "313   960               0                   \n",
       "342   11                15                  \n",
       "433   84                70                  \n",
       "516   24                7                   \n",
       "784   9                 11                  \n",
       "902   165               150                 \n",
       "1068  9                 11                  \n",
       "1120  204               170                 \n",
       "1165  4                 20                  \n",
       "1202  50                50                  \n",
       "1228  99                90                  \n",
       "1254  80                80                  \n",
       "1274  45                50                  \n",
       "1351  60                50                  \n",
       "1433  44                40                  \n",
       "1598  4                 20                  \n",
       "1634  143               130                 \n",
       "1635  121               110                 \n",
       "1662  7                 11                  \n",
       "1663  20                16                  \n",
       "1779  144               120                 \n",
       "1843  88                80                  \n",
       "2335  1                 2                   "
      ]
     },
     "execution_count": 32,
     "metadata": {},
     "output_type": "execute_result"
    }
   ],
   "source": [
    "# inspecting the data where rating_denominator is not 10\n",
    "pd.set_option('display.max_colwidth',1)\n",
    "twitter_archived_enhanced[twitter_archived_enhanced['rating_denominator'] != 10][['text','rating_numerator','rating_denominator']]"
   ]
  },
  {
   "cell_type": "code",
   "execution_count": 33,
   "metadata": {},
   "outputs": [
    {
     "data": {
      "text/plain": [
       "59"
      ]
     },
     "execution_count": 33,
     "metadata": {},
     "output_type": "execute_result"
    }
   ],
   "source": [
    "# inspecting tweets without status photo\n",
    "twitter_archived_enhanced['expanded_urls'].isnull().sum()"
   ]
  },
  {
   "cell_type": "code",
   "execution_count": 34,
   "metadata": {},
   "outputs": [
    {
     "data": {
      "text/plain": [
       "<a href=\"http://twitter.com/download/iphone\" rel=\"nofollow\">Twitter for iPhone</a>     2221\n",
       "<a href=\"http://vine.co\" rel=\"nofollow\">Vine - Make a Scene</a>                        91  \n",
       "<a href=\"http://twitter.com\" rel=\"nofollow\">Twitter Web Client</a>                     33  \n",
       "<a href=\"https://about.twitter.com/products/tweetdeck\" rel=\"nofollow\">TweetDeck</a>    11  \n",
       "Name: source, dtype: int64"
      ]
     },
     "execution_count": 34,
     "metadata": {},
     "output_type": "execute_result"
    }
   ],
   "source": [
    "# inspecting the source of tweets\n",
    "twitter_archived_enhanced.source.value_counts()"
   ]
  },
  {
   "cell_type": "code",
   "execution_count": null,
   "metadata": {},
   "outputs": [],
   "source": []
  },
  {
   "cell_type": "markdown",
   "metadata": {},
   "source": [
    "### The Image Prediction Data"
   ]
  },
  {
   "cell_type": "code",
   "execution_count": 35,
   "metadata": {},
   "outputs": [
    {
     "data": {
      "text/plain": [
       "Index(['tweet_id', 'jpg_url', 'img_num', 'p1', 'p1_conf', 'p1_dog', 'p2',\n",
       "       'p2_conf', 'p2_dog', 'p3', 'p3_conf', 'p3_dog'],\n",
       "      dtype='object')"
      ]
     },
     "execution_count": 35,
     "metadata": {},
     "output_type": "execute_result"
    }
   ],
   "source": [
    "# the columns\n",
    "img_predictions.columns"
   ]
  },
  {
   "cell_type": "code",
   "execution_count": 36,
   "metadata": {},
   "outputs": [
    {
     "data": {
      "text/plain": [
       "(2075, 12)"
      ]
     },
     "execution_count": 36,
     "metadata": {},
     "output_type": "execute_result"
    }
   ],
   "source": [
    "# dimension of the dataset\n",
    "img_predictions.shape"
   ]
  },
  {
   "cell_type": "code",
   "execution_count": 37,
   "metadata": {},
   "outputs": [
    {
     "data": {
      "text/html": [
       "<div>\n",
       "<style scoped>\n",
       "    .dataframe tbody tr th:only-of-type {\n",
       "        vertical-align: middle;\n",
       "    }\n",
       "\n",
       "    .dataframe tbody tr th {\n",
       "        vertical-align: top;\n",
       "    }\n",
       "\n",
       "    .dataframe thead th {\n",
       "        text-align: right;\n",
       "    }\n",
       "</style>\n",
       "<table border=\"1\" class=\"dataframe\">\n",
       "  <thead>\n",
       "    <tr style=\"text-align: right;\">\n",
       "      <th></th>\n",
       "      <th>tweet_id</th>\n",
       "      <th>jpg_url</th>\n",
       "      <th>img_num</th>\n",
       "      <th>p1</th>\n",
       "      <th>p1_conf</th>\n",
       "      <th>p1_dog</th>\n",
       "      <th>p2</th>\n",
       "      <th>p2_conf</th>\n",
       "      <th>p2_dog</th>\n",
       "      <th>p3</th>\n",
       "      <th>p3_conf</th>\n",
       "      <th>p3_dog</th>\n",
       "    </tr>\n",
       "  </thead>\n",
       "  <tbody>\n",
       "    <tr>\n",
       "      <th>784</th>\n",
       "      <td>690021994562220032</td>\n",
       "      <td>https://pbs.twimg.com/media/CZNzV6cW0AAsX7p.jpg</td>\n",
       "      <td>1</td>\n",
       "      <td>badger</td>\n",
       "      <td>0.289550</td>\n",
       "      <td>False</td>\n",
       "      <td>weasel</td>\n",
       "      <td>0.099140</td>\n",
       "      <td>False</td>\n",
       "      <td>malamute</td>\n",
       "      <td>0.040696</td>\n",
       "      <td>True</td>\n",
       "    </tr>\n",
       "    <tr>\n",
       "      <th>743</th>\n",
       "      <td>687476254459715584</td>\n",
       "      <td>https://pbs.twimg.com/media/CYpoAZTWEAA6vDs.jpg</td>\n",
       "      <td>1</td>\n",
       "      <td>wood_rabbit</td>\n",
       "      <td>0.702725</td>\n",
       "      <td>False</td>\n",
       "      <td>Angora</td>\n",
       "      <td>0.190659</td>\n",
       "      <td>False</td>\n",
       "      <td>hare</td>\n",
       "      <td>0.105072</td>\n",
       "      <td>False</td>\n",
       "    </tr>\n",
       "    <tr>\n",
       "      <th>1353</th>\n",
       "      <td>760190180481531904</td>\n",
       "      <td>https://pbs.twimg.com/media/Coy87yiWYAACtPf.jpg</td>\n",
       "      <td>1</td>\n",
       "      <td>balloon</td>\n",
       "      <td>0.917525</td>\n",
       "      <td>False</td>\n",
       "      <td>confectionery</td>\n",
       "      <td>0.049329</td>\n",
       "      <td>False</td>\n",
       "      <td>maraca</td>\n",
       "      <td>0.017648</td>\n",
       "      <td>False</td>\n",
       "    </tr>\n",
       "  </tbody>\n",
       "</table>\n",
       "</div>"
      ],
      "text/plain": [
       "                tweet_id                                          jpg_url  \\\n",
       "784   690021994562220032  https://pbs.twimg.com/media/CZNzV6cW0AAsX7p.jpg   \n",
       "743   687476254459715584  https://pbs.twimg.com/media/CYpoAZTWEAA6vDs.jpg   \n",
       "1353  760190180481531904  https://pbs.twimg.com/media/Coy87yiWYAACtPf.jpg   \n",
       "\n",
       "      img_num           p1   p1_conf  p1_dog             p2   p2_conf  p2_dog  \\\n",
       "784   1        badger       0.289550  False   weasel         0.099140  False    \n",
       "743   1        wood_rabbit  0.702725  False   Angora         0.190659  False    \n",
       "1353  1        balloon      0.917525  False   confectionery  0.049329  False    \n",
       "\n",
       "            p3   p3_conf  p3_dog  \n",
       "784   malamute  0.040696  True    \n",
       "743   hare      0.105072  False   \n",
       "1353  maraca    0.017648  False   "
      ]
     },
     "execution_count": 37,
     "metadata": {},
     "output_type": "execute_result"
    }
   ],
   "source": [
    "# 3 random data in the dataset\n",
    "img_predictions.sample(3)"
   ]
  },
  {
   "cell_type": "code",
   "execution_count": 38,
   "metadata": {},
   "outputs": [
    {
     "name": "stdout",
     "output_type": "stream",
     "text": [
      "<class 'pandas.core.frame.DataFrame'>\n",
      "RangeIndex: 2075 entries, 0 to 2074\n",
      "Data columns (total 12 columns):\n",
      "tweet_id    2075 non-null int64\n",
      "jpg_url     2075 non-null object\n",
      "img_num     2075 non-null int64\n",
      "p1          2075 non-null object\n",
      "p1_conf     2075 non-null float64\n",
      "p1_dog      2075 non-null bool\n",
      "p2          2075 non-null object\n",
      "p2_conf     2075 non-null float64\n",
      "p2_dog      2075 non-null bool\n",
      "p3          2075 non-null object\n",
      "p3_conf     2075 non-null float64\n",
      "p3_dog      2075 non-null bool\n",
      "dtypes: bool(3), float64(3), int64(2), object(4)\n",
      "memory usage: 152.1+ KB\n"
     ]
    }
   ],
   "source": [
    "# general information about the dataset\n",
    "img_predictions.info()"
   ]
  },
  {
   "cell_type": "code",
   "execution_count": 39,
   "metadata": {},
   "outputs": [
    {
     "data": {
      "text/plain": [
       "False"
      ]
     },
     "execution_count": 39,
     "metadata": {},
     "output_type": "execute_result"
    }
   ],
   "source": [
    "# checking for duplicate ID\n",
    "img_predictions.tweet_id.duplicated().any()"
   ]
  },
  {
   "cell_type": "code",
   "execution_count": null,
   "metadata": {},
   "outputs": [],
   "source": []
  },
  {
   "cell_type": "markdown",
   "metadata": {},
   "source": [
    "### The Tweets and Favorite count columns"
   ]
  },
  {
   "cell_type": "code",
   "execution_count": 40,
   "metadata": {},
   "outputs": [
    {
     "data": {
      "text/plain": [
       "Index(['tweet_id', 'retweet_count', 'favorite_count'], dtype='object')"
      ]
     },
     "execution_count": 40,
     "metadata": {},
     "output_type": "execute_result"
    }
   ],
   "source": [
    "# checking the columns\n",
    "tweet_fav_counts.columns"
   ]
  },
  {
   "cell_type": "code",
   "execution_count": 41,
   "metadata": {},
   "outputs": [
    {
     "data": {
      "text/plain": [
       "(2354, 3)"
      ]
     },
     "execution_count": 41,
     "metadata": {},
     "output_type": "execute_result"
    }
   ],
   "source": [
    "# checking the dimension\n",
    "tweet_fav_counts.shape"
   ]
  },
  {
   "cell_type": "code",
   "execution_count": 42,
   "metadata": {},
   "outputs": [
    {
     "data": {
      "text/html": [
       "<div>\n",
       "<style scoped>\n",
       "    .dataframe tbody tr th:only-of-type {\n",
       "        vertical-align: middle;\n",
       "    }\n",
       "\n",
       "    .dataframe tbody tr th {\n",
       "        vertical-align: top;\n",
       "    }\n",
       "\n",
       "    .dataframe thead th {\n",
       "        text-align: right;\n",
       "    }\n",
       "</style>\n",
       "<table border=\"1\" class=\"dataframe\">\n",
       "  <thead>\n",
       "    <tr style=\"text-align: right;\">\n",
       "      <th></th>\n",
       "      <th>tweet_id</th>\n",
       "      <th>retweet_count</th>\n",
       "      <th>favorite_count</th>\n",
       "    </tr>\n",
       "  </thead>\n",
       "  <tbody>\n",
       "    <tr>\n",
       "      <th>2349</th>\n",
       "      <td>666049248165822465</td>\n",
       "      <td>41</td>\n",
       "      <td>111</td>\n",
       "    </tr>\n",
       "    <tr>\n",
       "      <th>2350</th>\n",
       "      <td>666044226329800704</td>\n",
       "      <td>147</td>\n",
       "      <td>311</td>\n",
       "    </tr>\n",
       "    <tr>\n",
       "      <th>2351</th>\n",
       "      <td>666033412701032449</td>\n",
       "      <td>47</td>\n",
       "      <td>128</td>\n",
       "    </tr>\n",
       "    <tr>\n",
       "      <th>2352</th>\n",
       "      <td>666029285002620928</td>\n",
       "      <td>48</td>\n",
       "      <td>132</td>\n",
       "    </tr>\n",
       "    <tr>\n",
       "      <th>2353</th>\n",
       "      <td>666020888022790149</td>\n",
       "      <td>532</td>\n",
       "      <td>2535</td>\n",
       "    </tr>\n",
       "  </tbody>\n",
       "</table>\n",
       "</div>"
      ],
      "text/plain": [
       "                tweet_id  retweet_count  favorite_count\n",
       "2349  666049248165822465  41             111           \n",
       "2350  666044226329800704  147            311           \n",
       "2351  666033412701032449  47             128           \n",
       "2352  666029285002620928  48             132           \n",
       "2353  666020888022790149  532            2535          "
      ]
     },
     "execution_count": 42,
     "metadata": {},
     "output_type": "execute_result"
    }
   ],
   "source": [
    "# checking the last 5 data\n",
    "tweet_fav_counts.tail()"
   ]
  },
  {
   "cell_type": "code",
   "execution_count": 43,
   "metadata": {},
   "outputs": [
    {
     "data": {
      "text/plain": [
       "False"
      ]
     },
     "execution_count": 43,
     "metadata": {},
     "output_type": "execute_result"
    }
   ],
   "source": [
    "# checking for duplicated id\n",
    "tweet_fav_counts.tweet_id.duplicated().any()"
   ]
  },
  {
   "cell_type": "code",
   "execution_count": 44,
   "metadata": {},
   "outputs": [
    {
     "name": "stdout",
     "output_type": "stream",
     "text": [
      "<class 'pandas.core.frame.DataFrame'>\n",
      "RangeIndex: 2354 entries, 0 to 2353\n",
      "Data columns (total 3 columns):\n",
      "tweet_id          2354 non-null int64\n",
      "retweet_count     2354 non-null int64\n",
      "favorite_count    2354 non-null int64\n",
      "dtypes: int64(3)\n",
      "memory usage: 55.2 KB\n"
     ]
    }
   ],
   "source": [
    "# general information \n",
    "tweet_fav_counts.info()"
   ]
  },
  {
   "cell_type": "code",
   "execution_count": 45,
   "metadata": {},
   "outputs": [
    {
     "data": {
      "text/html": [
       "<div>\n",
       "<style scoped>\n",
       "    .dataframe tbody tr th:only-of-type {\n",
       "        vertical-align: middle;\n",
       "    }\n",
       "\n",
       "    .dataframe tbody tr th {\n",
       "        vertical-align: top;\n",
       "    }\n",
       "\n",
       "    .dataframe thead th {\n",
       "        text-align: right;\n",
       "    }\n",
       "</style>\n",
       "<table border=\"1\" class=\"dataframe\">\n",
       "  <thead>\n",
       "    <tr style=\"text-align: right;\">\n",
       "      <th></th>\n",
       "      <th>tweet_id</th>\n",
       "      <th>retweet_count</th>\n",
       "      <th>favorite_count</th>\n",
       "    </tr>\n",
       "  </thead>\n",
       "  <tbody>\n",
       "    <tr>\n",
       "      <th>count</th>\n",
       "      <td>2.354000e+03</td>\n",
       "      <td>2354.000000</td>\n",
       "      <td>2354.000000</td>\n",
       "    </tr>\n",
       "    <tr>\n",
       "      <th>mean</th>\n",
       "      <td>7.426978e+17</td>\n",
       "      <td>3164.797366</td>\n",
       "      <td>8080.968564</td>\n",
       "    </tr>\n",
       "    <tr>\n",
       "      <th>std</th>\n",
       "      <td>6.852812e+16</td>\n",
       "      <td>5284.770364</td>\n",
       "      <td>11814.771334</td>\n",
       "    </tr>\n",
       "    <tr>\n",
       "      <th>min</th>\n",
       "      <td>6.660209e+17</td>\n",
       "      <td>0.000000</td>\n",
       "      <td>0.000000</td>\n",
       "    </tr>\n",
       "    <tr>\n",
       "      <th>25%</th>\n",
       "      <td>6.783975e+17</td>\n",
       "      <td>624.500000</td>\n",
       "      <td>1415.000000</td>\n",
       "    </tr>\n",
       "    <tr>\n",
       "      <th>50%</th>\n",
       "      <td>7.194596e+17</td>\n",
       "      <td>1473.500000</td>\n",
       "      <td>3603.500000</td>\n",
       "    </tr>\n",
       "    <tr>\n",
       "      <th>75%</th>\n",
       "      <td>7.993058e+17</td>\n",
       "      <td>3652.000000</td>\n",
       "      <td>10122.250000</td>\n",
       "    </tr>\n",
       "    <tr>\n",
       "      <th>max</th>\n",
       "      <td>8.924206e+17</td>\n",
       "      <td>79515.000000</td>\n",
       "      <td>132810.000000</td>\n",
       "    </tr>\n",
       "  </tbody>\n",
       "</table>\n",
       "</div>"
      ],
      "text/plain": [
       "           tweet_id  retweet_count  favorite_count\n",
       "count  2.354000e+03  2354.000000    2354.000000   \n",
       "mean   7.426978e+17  3164.797366    8080.968564   \n",
       "std    6.852812e+16  5284.770364    11814.771334  \n",
       "min    6.660209e+17  0.000000       0.000000      \n",
       "25%    6.783975e+17  624.500000     1415.000000   \n",
       "50%    7.194596e+17  1473.500000    3603.500000   \n",
       "75%    7.993058e+17  3652.000000    10122.250000  \n",
       "max    8.924206e+17  79515.000000   132810.000000 "
      ]
     },
     "execution_count": 45,
     "metadata": {},
     "output_type": "execute_result"
    }
   ],
   "source": [
    "# aggregates of the dataset\n",
    "tweet_fav_counts.describe()"
   ]
  },
  {
   "cell_type": "code",
   "execution_count": null,
   "metadata": {},
   "outputs": [],
   "source": []
  },
  {
   "cell_type": "markdown",
   "metadata": {},
   "source": [
    "### Quality issues\n",
    "\n",
    "#### Tweeter_archive_enhanced\n",
    "1. There are 181 retweets and 78 replies to tweets, these are not original tweets.\n",
    "2. The day and time should be extracted from the timestamp column\n",
    "3. day datatype\n",
    "4. The tweet_id and thhe in_reply_to_status_id datatype\n",
    "5. Rating Problems: Some of the ratings in the the rating_numerator columns are inappropriate. some are meant to be decimal, while others are  not rated over 10.\n",
    "6. Ratings should be float\n",
    "7. Name problems\n",
    "8. Delete all columns not necessary for investigation\n",
    "9. None nstead of missing values in the dog stage columns\n",
    "\n",
    "#### Image_prediction\n",
    "7. The p1, p2 and p3 should be categorical data\n",
    "\n",
    "8. The tweet_id is int instead of string\n",
    "\n",
    "#### Tweet_Favorite_counts\n",
    "9. The tweet_id is int instead of string"
   ]
  },
  {
   "cell_type": "markdown",
   "metadata": {
    "extensions": {
     "jupyter_dashboards": {
      "version": 1,
      "views": {
       "grid_default": {
        "col": 0,
        "height": 7,
        "hidden": false,
        "row": 40,
        "width": 12
       },
       "report_default": {
        "hidden": false
       }
      }
     }
    }
   },
   "source": [
    "### Tidiness issues\n",
    "1. The four sources of tweets should be extracted from the url in the source column\n",
    "2. Merge the dog_stage columns into one\n",
    "3. All datasets should be merged"
   ]
  },
  {
   "cell_type": "markdown",
   "metadata": {
    "extensions": {
     "jupyter_dashboards": {
      "version": 1,
      "views": {
       "grid_default": {
        "col": 4,
        "height": 4,
        "hidden": false,
        "row": 32,
        "width": 4
       },
       "report_default": {
        "hidden": false
       }
      }
     }
    }
   },
   "source": [
    "## Cleaning Data"
   ]
  },
  {
   "cell_type": "code",
   "execution_count": 71,
   "metadata": {},
   "outputs": [],
   "source": [
    "# Make copies of original pieces of data\n",
    "twitter_archived_clean = twitter_archived_enhanced.copy()\n",
    "img_predictions_clean = img_predictions.copy()\n",
    "tweet_fav_clean = tweet_fav_counts.copy()"
   ]
  },
  {
   "cell_type": "markdown",
   "metadata": {},
   "source": [
    "## Tidiness Issues"
   ]
  },
  {
   "cell_type": "markdown",
   "metadata": {},
   "source": [
    "### Issue #1: Dog stages in multiple columns"
   ]
  },
  {
   "cell_type": "markdown",
   "metadata": {},
   "source": [
    "#### Define:\n",
    "Merge the doggo, floofer, pupper and puppo into a single column named dog_stages"
   ]
  },
  {
   "cell_type": "markdown",
   "metadata": {},
   "source": [
    "#### Code"
   ]
  },
  {
   "cell_type": "code",
   "execution_count": 72,
   "metadata": {},
   "outputs": [
    {
     "data": {
      "text/plain": [
       "                1976\n",
       "pupper          245 \n",
       "doggo           83  \n",
       "puppo           29  \n",
       "doggopupper     12  \n",
       "floofer         9   \n",
       "doggofloofer    1   \n",
       "doggopuppo      1   \n",
       "Name: dog_stages, dtype: int64"
      ]
     },
     "execution_count": 72,
     "metadata": {},
     "output_type": "execute_result"
    }
   ],
   "source": [
    "# Firstly, convert None to empty values\n",
    "twitter_archived_clean.doggo.replace('None', '', inplace=True)\n",
    "twitter_archived_clean.floofer.replace('None', '', inplace=True)\n",
    "twitter_archived_clean.pupper.replace('None', '', inplace=True)\n",
    "twitter_archived_clean.puppo.replace('None', '', inplace=True)\n",
    "\n",
    "# merge columns into dog_stages\n",
    "twitter_archived_clean['dog_stages'] = twitter_archived_clean.doggo + twitter_archived_clean.floofer + twitter_archived_clean.pupper + twitter_archived_clean.puppo\n",
    "twitter_archived_clean['dog_stages'].value_counts()"
   ]
  },
  {
   "cell_type": "code",
   "execution_count": 73,
   "metadata": {},
   "outputs": [],
   "source": [
    "# convert those with more than one values to Multiple Stages\n",
    "twitter_archived_clean.dog_stages.replace(['doggopupper','doggopuppo','doggofloofer'], ['multiple','multiple','multiple'], inplace=True)\n",
    "\n",
    "# replace missing values with NaN\n",
    "twitter_archived_clean.dog_stages.replace('',np.nan, inplace=True)"
   ]
  },
  {
   "cell_type": "markdown",
   "metadata": {},
   "source": [
    "#### Test "
   ]
  },
  {
   "cell_type": "code",
   "execution_count": 74,
   "metadata": {},
   "outputs": [
    {
     "data": {
      "text/plain": [
       "pupper      245\n",
       "doggo       83 \n",
       "puppo       29 \n",
       "multiple    14 \n",
       "floofer     9  \n",
       "Name: dog_stages, dtype: int64"
      ]
     },
     "execution_count": 74,
     "metadata": {},
     "output_type": "execute_result"
    }
   ],
   "source": [
    "twitter_archived_clean.dog_stages.value_counts()"
   ]
  },
  {
   "cell_type": "code",
   "execution_count": null,
   "metadata": {},
   "outputs": [],
   "source": []
  },
  {
   "cell_type": "markdown",
   "metadata": {},
   "source": [
    "### Issue 2 # : The source has the HTML link"
   ]
  },
  {
   "cell_type": "markdown",
   "metadata": {},
   "source": [
    "#### Define:\n",
    "Extract the source of the tweet from the source column"
   ]
  },
  {
   "cell_type": "markdown",
   "metadata": {},
   "source": [
    "#### Code"
   ]
  },
  {
   "cell_type": "code",
   "execution_count": 75,
   "metadata": {},
   "outputs": [
    {
     "data": {
      "text/plain": [
       "<a href=\"http://twitter.com/download/iphone\" rel=\"nofollow\">Twitter for iPhone</a>     2221\n",
       "<a href=\"http://vine.co\" rel=\"nofollow\">Vine - Make a Scene</a>                        91  \n",
       "<a href=\"http://twitter.com\" rel=\"nofollow\">Twitter Web Client</a>                     33  \n",
       "<a href=\"https://about.twitter.com/products/tweetdeck\" rel=\"nofollow\">TweetDeck</a>    11  \n",
       "Name: source, dtype: int64"
      ]
     },
     "execution_count": 75,
     "metadata": {},
     "output_type": "execute_result"
    }
   ],
   "source": [
    "# checking out the number of each value in the variable, before extraction \n",
    "twitter_archived_clean.source.value_counts()"
   ]
  },
  {
   "cell_type": "code",
   "execution_count": 76,
   "metadata": {},
   "outputs": [],
   "source": [
    "# Extracting the source from the link\n",
    "twitter_archived_clean['source'] = twitter_archived_clean.source.str.extract(r\"(iphone|Vine|Web|TweetDeck)\")"
   ]
  },
  {
   "cell_type": "markdown",
   "metadata": {},
   "source": [
    "#### Test"
   ]
  },
  {
   "cell_type": "code",
   "execution_count": 77,
   "metadata": {},
   "outputs": [
    {
     "data": {
      "text/plain": [
       "iphone       2221\n",
       "Vine         91  \n",
       "Web          33  \n",
       "TweetDeck    11  \n",
       "Name: source, dtype: int64"
      ]
     },
     "execution_count": 77,
     "metadata": {},
     "output_type": "execute_result"
    }
   ],
   "source": [
    "# checking if sources were extracted and the value count still remains the same\n",
    "twitter_archived_clean['source'].value_counts()"
   ]
  },
  {
   "cell_type": "code",
   "execution_count": null,
   "metadata": {},
   "outputs": [],
   "source": []
  },
  {
   "cell_type": "markdown",
   "metadata": {},
   "source": [
    "## Quality Issues"
   ]
  },
  {
   "cell_type": "markdown",
   "metadata": {},
   "source": [
    "### Issue #1: None original tweets"
   ]
  },
  {
   "cell_type": "markdown",
   "metadata": {},
   "source": [
    "#### Define: \n",
    "Remove all none original rows, which include the retweet and the reply data"
   ]
  },
  {
   "cell_type": "markdown",
   "metadata": {},
   "source": [
    "#### Code"
   ]
  },
  {
   "cell_type": "code",
   "execution_count": 78,
   "metadata": {},
   "outputs": [],
   "source": [
    "# Using the query method to grab only original tweets\n",
    "twitter_archived_clean = twitter_archived_clean.query('retweeted_status_id == \"NAN\"')"
   ]
  },
  {
   "cell_type": "markdown",
   "metadata": {},
   "source": [
    "#### Test"
   ]
  },
  {
   "cell_type": "code",
   "execution_count": 79,
   "metadata": {},
   "outputs": [
    {
     "data": {
      "text/plain": [
       "0"
      ]
     },
     "execution_count": 79,
     "metadata": {},
     "output_type": "execute_result"
    }
   ],
   "source": [
    "# Checking if there is any data that is a retweet of an original tweet\n",
    "twitter_archived_clean.retweeted_status_id.notnull().sum()"
   ]
  },
  {
   "cell_type": "code",
   "execution_count": null,
   "metadata": {},
   "outputs": [],
   "source": []
  },
  {
   "cell_type": "markdown",
   "metadata": {},
   "source": [
    "### Issue  #2 and 3:  Day and time together, and day datatype"
   ]
  },
  {
   "cell_type": "markdown",
   "metadata": {},
   "source": [
    "#### Define: split the day and time from the timestamp. convert day datatype to datetime"
   ]
  },
  {
   "cell_type": "markdown",
   "metadata": {},
   "source": [
    "#### Code"
   ]
  },
  {
   "cell_type": "code",
   "execution_count": 81,
   "metadata": {},
   "outputs": [],
   "source": [
    "# get the day and time of tweets\n",
    "timestamp = twitter_archived_clean['timestamp'].str.split(\" \", expand=True)\n",
    "twitter_archived_clean[['day','time']] = timestamp.iloc[:,0:2]\n",
    "\n",
    "# change datatype to datetime\n",
    "twitter_archived_clean['day'] = pd.to_datetime(twitter_archived_clean.day)"
   ]
  },
  {
   "cell_type": "markdown",
   "metadata": {},
   "source": [
    "#### Test"
   ]
  },
  {
   "cell_type": "code",
   "execution_count": 326,
   "metadata": {},
   "outputs": [
    {
     "data": {
      "text/html": [
       "<div>\n",
       "<style scoped>\n",
       "    .dataframe tbody tr th:only-of-type {\n",
       "        vertical-align: middle;\n",
       "    }\n",
       "\n",
       "    .dataframe tbody tr th {\n",
       "        vertical-align: top;\n",
       "    }\n",
       "\n",
       "    .dataframe thead th {\n",
       "        text-align: right;\n",
       "    }\n",
       "</style>\n",
       "<table border=\"1\" class=\"dataframe\">\n",
       "  <thead>\n",
       "    <tr style=\"text-align: right;\">\n",
       "      <th></th>\n",
       "      <th>day</th>\n",
       "      <th>time</th>\n",
       "    </tr>\n",
       "  </thead>\n",
       "  <tbody>\n",
       "    <tr>\n",
       "      <th>0</th>\n",
       "      <td>2017-08-01</td>\n",
       "      <td>16:23:56</td>\n",
       "    </tr>\n",
       "    <tr>\n",
       "      <th>1</th>\n",
       "      <td>2017-08-01</td>\n",
       "      <td>00:17:27</td>\n",
       "    </tr>\n",
       "    <tr>\n",
       "      <th>2</th>\n",
       "      <td>2017-07-31</td>\n",
       "      <td>00:18:03</td>\n",
       "    </tr>\n",
       "    <tr>\n",
       "      <th>3</th>\n",
       "      <td>2017-07-30</td>\n",
       "      <td>15:58:51</td>\n",
       "    </tr>\n",
       "    <tr>\n",
       "      <th>4</th>\n",
       "      <td>2017-07-29</td>\n",
       "      <td>16:00:24</td>\n",
       "    </tr>\n",
       "  </tbody>\n",
       "</table>\n",
       "</div>"
      ],
      "text/plain": [
       "          day      time\n",
       "0  2017-08-01  16:23:56\n",
       "1  2017-08-01  00:17:27\n",
       "2  2017-07-31  00:18:03\n",
       "3  2017-07-30  15:58:51\n",
       "4  2017-07-29  16:00:24"
      ]
     },
     "execution_count": 326,
     "metadata": {},
     "output_type": "execute_result"
    }
   ],
   "source": [
    "# checking\n",
    "twitter_archived_clean[['day','time']].head()"
   ]
  },
  {
   "cell_type": "code",
   "execution_count": 82,
   "metadata": {},
   "outputs": [
    {
     "data": {
      "text/plain": [
       "dtype('<M8[ns]')"
      ]
     },
     "execution_count": 82,
     "metadata": {},
     "output_type": "execute_result"
    }
   ],
   "source": [
    "# checking\n",
    "twitter_archived_clean['day'].dtypes "
   ]
  },
  {
   "cell_type": "markdown",
   "metadata": {},
   "source": [
    "### 4. The tweet_id,  'in_reply_to_user_id'and the in_reply_to_status_id datatype"
   ]
  },
  {
   "cell_type": "markdown",
   "metadata": {},
   "source": [
    "#### Define: Change the data type from int to string"
   ]
  },
  {
   "cell_type": "markdown",
   "metadata": {},
   "source": [
    "#### Code"
   ]
  },
  {
   "cell_type": "code",
   "execution_count": 95,
   "metadata": {},
   "outputs": [],
   "source": [
    "# change data type for all 3 tweet_ids\n",
    "twitter_archived_clean['tweet_id'] = twitter_archived_clean['tweet_id'].astype('str')\n",
    "img_predictions_clean['tweet_id'] = img_predictions_clean['tweet_id'].astype('str')\n",
    "tweet_fav_clean['tweet_id'] = tweet_fav_clean['tweet_id'].astype('str')\n",
    "\n",
    "# change data type for in_reply_to_status_id\n",
    "twitter_archived_clean['in_reply_to_status_id'] = twitter_archived_clean['in_reply_to_status_id'].astype('str')\n",
    "twitter_archived_clean['in_reply_to_user_id'] = twitter_archived_clean['in_reply_to_user_id'].astype('str')"
   ]
  },
  {
   "cell_type": "markdown",
   "metadata": {},
   "source": [
    "#### Test"
   ]
  },
  {
   "cell_type": "code",
   "execution_count": 96,
   "metadata": {},
   "outputs": [
    {
     "data": {
      "text/plain": [
       "tweet_id                 object\n",
       "in_reply_to_status_id    object\n",
       "in_reply_to_user_id      object\n",
       "dtype: object"
      ]
     },
     "execution_count": 96,
     "metadata": {},
     "output_type": "execute_result"
    }
   ],
   "source": [
    "#checking if data type has been changed\n",
    "twitter_archived_clean[['tweet_id', 'in_reply_to_status_id','in_reply_to_user_id']].dtypes"
   ]
  },
  {
   "cell_type": "code",
   "execution_count": null,
   "metadata": {},
   "outputs": [],
   "source": []
  },
  {
   "cell_type": "markdown",
   "metadata": {},
   "source": [
    "### Issue # 4: The ratings are not approriate"
   ]
  },
  {
   "cell_type": "markdown",
   "metadata": {},
   "source": [
    "#### Define:\n",
    "Extract the ratings from the text column, making sure all are rated over 10 and those with decimal points are represented. Check those with null values and act on them (either drop or fill with mean value)"
   ]
  },
  {
   "cell_type": "markdown",
   "metadata": {},
   "source": [
    "#### Code"
   ]
  },
  {
   "cell_type": "code",
   "execution_count": 85,
   "metadata": {},
   "outputs": [],
   "source": [
    "# Extracting the ratings into a new_rating, all rated over 10 including those with decimal points\n",
    "twitter_archived_clean['new_rating'] = twitter_archived_clean.text.str.extract(r\"(\\d+\\.\\d+\\/10|\\d+\\/10)\")\n",
    "\n",
    "# spliting the new_ratings into the numerator and denominators\n",
    "new_rating = twitter_archived_clean['new_rating'].str.split('/', expand=True)\n",
    "\n",
    "# saving the the numerator into the twitter_archive_enhaced DataFrame as rating\n",
    "twitter_archived_clean['rating_numerator'] = new_rating[0]"
   ]
  },
  {
   "cell_type": "code",
   "execution_count": 86,
   "metadata": {},
   "outputs": [
    {
     "data": {
      "text/html": [
       "<div>\n",
       "<style scoped>\n",
       "    .dataframe tbody tr th:only-of-type {\n",
       "        vertical-align: middle;\n",
       "    }\n",
       "\n",
       "    .dataframe tbody tr th {\n",
       "        vertical-align: top;\n",
       "    }\n",
       "\n",
       "    .dataframe thead th {\n",
       "        text-align: right;\n",
       "    }\n",
       "</style>\n",
       "<table border=\"1\" class=\"dataframe\">\n",
       "  <thead>\n",
       "    <tr style=\"text-align: right;\">\n",
       "      <th></th>\n",
       "      <th>tweet_id</th>\n",
       "      <th>in_reply_to_status_id</th>\n",
       "      <th>in_reply_to_user_id</th>\n",
       "      <th>timestamp</th>\n",
       "      <th>source</th>\n",
       "      <th>text</th>\n",
       "      <th>retweeted_status_id</th>\n",
       "      <th>retweeted_status_user_id</th>\n",
       "      <th>retweeted_status_timestamp</th>\n",
       "      <th>expanded_urls</th>\n",
       "      <th>rating_numerator</th>\n",
       "      <th>rating_denominator</th>\n",
       "      <th>name</th>\n",
       "      <th>doggo</th>\n",
       "      <th>floofer</th>\n",
       "      <th>pupper</th>\n",
       "      <th>puppo</th>\n",
       "      <th>dog_stages</th>\n",
       "      <th>day</th>\n",
       "      <th>time</th>\n",
       "      <th>new_rating</th>\n",
       "    </tr>\n",
       "  </thead>\n",
       "  <tbody>\n",
       "    <tr>\n",
       "      <th>342</th>\n",
       "      <td>832088576586297345</td>\n",
       "      <td>8.3208754756e+17</td>\n",
       "      <td>3.058208e+07</td>\n",
       "      <td>2017-02-16 04:45:50 +0000</td>\n",
       "      <td>iphone</td>\n",
       "      <td>@docmisterio account started on 11/15/15</td>\n",
       "      <td>NaN</td>\n",
       "      <td>NaN</td>\n",
       "      <td>NaN</td>\n",
       "      <td>NaN</td>\n",
       "      <td>NaN</td>\n",
       "      <td>15</td>\n",
       "      <td>None</td>\n",
       "      <td></td>\n",
       "      <td></td>\n",
       "      <td></td>\n",
       "      <td></td>\n",
       "      <td>NaN</td>\n",
       "      <td>2017-02-16</td>\n",
       "      <td>04:45:50</td>\n",
       "      <td>NaN</td>\n",
       "    </tr>\n",
       "    <tr>\n",
       "      <th>433</th>\n",
       "      <td>820690176645140481</td>\n",
       "      <td>nan</td>\n",
       "      <td>NaN</td>\n",
       "      <td>2017-01-15 17:52:40 +0000</td>\n",
       "      <td>iphone</td>\n",
       "      <td>The floofs have been released I repeat the floofs have been released. 84/70 https://t.co/NIYC820tmd</td>\n",
       "      <td>NaN</td>\n",
       "      <td>NaN</td>\n",
       "      <td>NaN</td>\n",
       "      <td>https://twitter.com/dog_rates/status/820690176645140481/photo/1,https://twitter.com/dog_rates/status/820690176645140481/photo/1,https://twitter.com/dog_rates/status/820690176645140481/photo/1</td>\n",
       "      <td>NaN</td>\n",
       "      <td>70</td>\n",
       "      <td>None</td>\n",
       "      <td></td>\n",
       "      <td></td>\n",
       "      <td></td>\n",
       "      <td></td>\n",
       "      <td>NaN</td>\n",
       "      <td>2017-01-15</td>\n",
       "      <td>17:52:40</td>\n",
       "      <td>NaN</td>\n",
       "    </tr>\n",
       "    <tr>\n",
       "      <th>516</th>\n",
       "      <td>810984652412424192</td>\n",
       "      <td>nan</td>\n",
       "      <td>NaN</td>\n",
       "      <td>2016-12-19 23:06:23 +0000</td>\n",
       "      <td>iphone</td>\n",
       "      <td>Meet Sam. She smiles 24/7 &amp;amp; secretly aspires to be a reindeer. \\nKeep Sam smiling by clicking and sharing this link:\\nhttps://t.co/98tB8y7y7t https://t.co/LouL5vdvxx</td>\n",
       "      <td>NaN</td>\n",
       "      <td>NaN</td>\n",
       "      <td>NaN</td>\n",
       "      <td>https://www.gofundme.com/sams-smile,https://twitter.com/dog_rates/status/810984652412424192/photo/1</td>\n",
       "      <td>NaN</td>\n",
       "      <td>7</td>\n",
       "      <td>Sam</td>\n",
       "      <td></td>\n",
       "      <td></td>\n",
       "      <td></td>\n",
       "      <td></td>\n",
       "      <td>NaN</td>\n",
       "      <td>2016-12-19</td>\n",
       "      <td>23:06:23</td>\n",
       "      <td>NaN</td>\n",
       "    </tr>\n",
       "    <tr>\n",
       "      <th>902</th>\n",
       "      <td>758467244762497024</td>\n",
       "      <td>nan</td>\n",
       "      <td>NaN</td>\n",
       "      <td>2016-07-28 01:00:57 +0000</td>\n",
       "      <td>iphone</td>\n",
       "      <td>Why does this never happen at my front door... 165/150 https://t.co/HmwrdfEfUE</td>\n",
       "      <td>NaN</td>\n",
       "      <td>NaN</td>\n",
       "      <td>NaN</td>\n",
       "      <td>https://twitter.com/dog_rates/status/758467244762497024/video/1</td>\n",
       "      <td>NaN</td>\n",
       "      <td>150</td>\n",
       "      <td>None</td>\n",
       "      <td></td>\n",
       "      <td></td>\n",
       "      <td></td>\n",
       "      <td></td>\n",
       "      <td>NaN</td>\n",
       "      <td>2016-07-28</td>\n",
       "      <td>01:00:57</td>\n",
       "      <td>NaN</td>\n",
       "    </tr>\n",
       "    <tr>\n",
       "      <th>1120</th>\n",
       "      <td>731156023742988288</td>\n",
       "      <td>nan</td>\n",
       "      <td>NaN</td>\n",
       "      <td>2016-05-13 16:15:54 +0000</td>\n",
       "      <td>iphone</td>\n",
       "      <td>Say hello to this unbelievably well behaved squad of doggos. 204/170 would try to pet all at once https://t.co/yGQI3He3xv</td>\n",
       "      <td>NaN</td>\n",
       "      <td>NaN</td>\n",
       "      <td>NaN</td>\n",
       "      <td>https://twitter.com/dog_rates/status/731156023742988288/photo/1</td>\n",
       "      <td>NaN</td>\n",
       "      <td>170</td>\n",
       "      <td>this</td>\n",
       "      <td></td>\n",
       "      <td></td>\n",
       "      <td></td>\n",
       "      <td></td>\n",
       "      <td>NaN</td>\n",
       "      <td>2016-05-13</td>\n",
       "      <td>16:15:54</td>\n",
       "      <td>NaN</td>\n",
       "    </tr>\n",
       "    <tr>\n",
       "      <th>1228</th>\n",
       "      <td>713900603437621249</td>\n",
       "      <td>nan</td>\n",
       "      <td>NaN</td>\n",
       "      <td>2016-03-27 01:29:02 +0000</td>\n",
       "      <td>iphone</td>\n",
       "      <td>Happy Saturday here's 9 puppers on a bench. 99/90 good work everybody https://t.co/mpvaVxKmc1</td>\n",
       "      <td>NaN</td>\n",
       "      <td>NaN</td>\n",
       "      <td>NaN</td>\n",
       "      <td>https://twitter.com/dog_rates/status/713900603437621249/photo/1</td>\n",
       "      <td>NaN</td>\n",
       "      <td>90</td>\n",
       "      <td>None</td>\n",
       "      <td></td>\n",
       "      <td></td>\n",
       "      <td></td>\n",
       "      <td></td>\n",
       "      <td>NaN</td>\n",
       "      <td>2016-03-27</td>\n",
       "      <td>01:29:02</td>\n",
       "      <td>NaN</td>\n",
       "    </tr>\n",
       "    <tr>\n",
       "      <th>1254</th>\n",
       "      <td>710658690886586372</td>\n",
       "      <td>nan</td>\n",
       "      <td>NaN</td>\n",
       "      <td>2016-03-18 02:46:49 +0000</td>\n",
       "      <td>iphone</td>\n",
       "      <td>Here's a brigade of puppers. All look very prepared for whatever happens next. 80/80 https://t.co/0eb7R1Om12</td>\n",
       "      <td>NaN</td>\n",
       "      <td>NaN</td>\n",
       "      <td>NaN</td>\n",
       "      <td>https://twitter.com/dog_rates/status/710658690886586372/photo/1</td>\n",
       "      <td>NaN</td>\n",
       "      <td>80</td>\n",
       "      <td>None</td>\n",
       "      <td></td>\n",
       "      <td></td>\n",
       "      <td></td>\n",
       "      <td></td>\n",
       "      <td>NaN</td>\n",
       "      <td>2016-03-18</td>\n",
       "      <td>02:46:49</td>\n",
       "      <td>NaN</td>\n",
       "    </tr>\n",
       "    <tr>\n",
       "      <th>1274</th>\n",
       "      <td>709198395643068416</td>\n",
       "      <td>nan</td>\n",
       "      <td>NaN</td>\n",
       "      <td>2016-03-14 02:04:08 +0000</td>\n",
       "      <td>iphone</td>\n",
       "      <td>From left to right:\\nCletus, Jerome, Alejandro, Burp, &amp;amp; Titson\\nNone know where camera is. 45/50 would hug all at once https://t.co/sedre1ivTK</td>\n",
       "      <td>NaN</td>\n",
       "      <td>NaN</td>\n",
       "      <td>NaN</td>\n",
       "      <td>https://twitter.com/dog_rates/status/709198395643068416/photo/1</td>\n",
       "      <td>NaN</td>\n",
       "      <td>50</td>\n",
       "      <td>None</td>\n",
       "      <td></td>\n",
       "      <td></td>\n",
       "      <td></td>\n",
       "      <td></td>\n",
       "      <td>NaN</td>\n",
       "      <td>2016-03-14</td>\n",
       "      <td>02:04:08</td>\n",
       "      <td>NaN</td>\n",
       "    </tr>\n",
       "    <tr>\n",
       "      <th>1351</th>\n",
       "      <td>704054845121142784</td>\n",
       "      <td>nan</td>\n",
       "      <td>NaN</td>\n",
       "      <td>2016-02-28 21:25:30 +0000</td>\n",
       "      <td>iphone</td>\n",
       "      <td>Here is a whole flock of puppers.  60/50 I'll take the lot https://t.co/9dpcw6MdWa</td>\n",
       "      <td>NaN</td>\n",
       "      <td>NaN</td>\n",
       "      <td>NaN</td>\n",
       "      <td>https://twitter.com/dog_rates/status/704054845121142784/photo/1</td>\n",
       "      <td>NaN</td>\n",
       "      <td>50</td>\n",
       "      <td>a</td>\n",
       "      <td></td>\n",
       "      <td></td>\n",
       "      <td></td>\n",
       "      <td></td>\n",
       "      <td>NaN</td>\n",
       "      <td>2016-02-28</td>\n",
       "      <td>21:25:30</td>\n",
       "      <td>NaN</td>\n",
       "    </tr>\n",
       "    <tr>\n",
       "      <th>1433</th>\n",
       "      <td>697463031882764288</td>\n",
       "      <td>nan</td>\n",
       "      <td>NaN</td>\n",
       "      <td>2016-02-10 16:51:59 +0000</td>\n",
       "      <td>iphone</td>\n",
       "      <td>Happy Wednesday here's a bucket of pups. 44/40 would pet all at once https://t.co/HppvrYuamZ</td>\n",
       "      <td>NaN</td>\n",
       "      <td>NaN</td>\n",
       "      <td>NaN</td>\n",
       "      <td>https://twitter.com/dog_rates/status/697463031882764288/photo/1</td>\n",
       "      <td>NaN</td>\n",
       "      <td>40</td>\n",
       "      <td>None</td>\n",
       "      <td></td>\n",
       "      <td></td>\n",
       "      <td></td>\n",
       "      <td></td>\n",
       "      <td>NaN</td>\n",
       "      <td>2016-02-10</td>\n",
       "      <td>16:51:59</td>\n",
       "      <td>NaN</td>\n",
       "    </tr>\n",
       "    <tr>\n",
       "      <th>1598</th>\n",
       "      <td>686035780142297088</td>\n",
       "      <td>6.86034024801e+17</td>\n",
       "      <td>4.196984e+09</td>\n",
       "      <td>2016-01-10 04:04:10 +0000</td>\n",
       "      <td>iphone</td>\n",
       "      <td>Yes I do realize a rating of 4/20 would've been fitting. However, it would be unjust to give these cooperative pups that low of a rating</td>\n",
       "      <td>NaN</td>\n",
       "      <td>NaN</td>\n",
       "      <td>NaN</td>\n",
       "      <td>NaN</td>\n",
       "      <td>NaN</td>\n",
       "      <td>20</td>\n",
       "      <td>None</td>\n",
       "      <td></td>\n",
       "      <td></td>\n",
       "      <td></td>\n",
       "      <td></td>\n",
       "      <td>NaN</td>\n",
       "      <td>2016-01-10</td>\n",
       "      <td>04:04:10</td>\n",
       "      <td>NaN</td>\n",
       "    </tr>\n",
       "    <tr>\n",
       "      <th>1634</th>\n",
       "      <td>684225744407494656</td>\n",
       "      <td>6.84222868336e+17</td>\n",
       "      <td>4.196984e+09</td>\n",
       "      <td>2016-01-05 04:11:44 +0000</td>\n",
       "      <td>iphone</td>\n",
       "      <td>Two sneaky puppers were not initially seen, moving the rating to 143/130. Please forgive us. Thank you https://t.co/kRK51Y5ac3</td>\n",
       "      <td>NaN</td>\n",
       "      <td>NaN</td>\n",
       "      <td>NaN</td>\n",
       "      <td>https://twitter.com/dog_rates/status/684225744407494656/photo/1,https://twitter.com/dog_rates/status/684225744407494656/photo/1</td>\n",
       "      <td>NaN</td>\n",
       "      <td>130</td>\n",
       "      <td>None</td>\n",
       "      <td></td>\n",
       "      <td></td>\n",
       "      <td></td>\n",
       "      <td></td>\n",
       "      <td>NaN</td>\n",
       "      <td>2016-01-05</td>\n",
       "      <td>04:11:44</td>\n",
       "      <td>NaN</td>\n",
       "    </tr>\n",
       "    <tr>\n",
       "      <th>1635</th>\n",
       "      <td>684222868335505415</td>\n",
       "      <td>nan</td>\n",
       "      <td>NaN</td>\n",
       "      <td>2016-01-05 04:00:18 +0000</td>\n",
       "      <td>iphone</td>\n",
       "      <td>Someone help the girl is being mugged. Several are distracting her while two steal her shoes. Clever puppers 121/110 https://t.co/1zfnTJLt55</td>\n",
       "      <td>NaN</td>\n",
       "      <td>NaN</td>\n",
       "      <td>NaN</td>\n",
       "      <td>https://twitter.com/dog_rates/status/684222868335505415/photo/1</td>\n",
       "      <td>NaN</td>\n",
       "      <td>110</td>\n",
       "      <td>None</td>\n",
       "      <td></td>\n",
       "      <td></td>\n",
       "      <td></td>\n",
       "      <td></td>\n",
       "      <td>NaN</td>\n",
       "      <td>2016-01-05</td>\n",
       "      <td>04:00:18</td>\n",
       "      <td>NaN</td>\n",
       "    </tr>\n",
       "    <tr>\n",
       "      <th>1663</th>\n",
       "      <td>682808988178739200</td>\n",
       "      <td>6.82788441538e+17</td>\n",
       "      <td>4.196984e+09</td>\n",
       "      <td>2016-01-01 06:22:03 +0000</td>\n",
       "      <td>iphone</td>\n",
       "      <td>I'm aware that I could've said 20/16, but here at WeRateDogs we are very professional. An inconsistent rating scale is simply irresponsible</td>\n",
       "      <td>NaN</td>\n",
       "      <td>NaN</td>\n",
       "      <td>NaN</td>\n",
       "      <td>NaN</td>\n",
       "      <td>NaN</td>\n",
       "      <td>16</td>\n",
       "      <td>None</td>\n",
       "      <td></td>\n",
       "      <td></td>\n",
       "      <td></td>\n",
       "      <td></td>\n",
       "      <td>NaN</td>\n",
       "      <td>2016-01-01</td>\n",
       "      <td>06:22:03</td>\n",
       "      <td>NaN</td>\n",
       "    </tr>\n",
       "    <tr>\n",
       "      <th>1779</th>\n",
       "      <td>677716515794329600</td>\n",
       "      <td>nan</td>\n",
       "      <td>NaN</td>\n",
       "      <td>2015-12-18 05:06:23 +0000</td>\n",
       "      <td>iphone</td>\n",
       "      <td>IT'S PUPPERGEDDON. Total of 144/120 ...I think https://t.co/ZanVtAtvIq</td>\n",
       "      <td>NaN</td>\n",
       "      <td>NaN</td>\n",
       "      <td>NaN</td>\n",
       "      <td>https://twitter.com/dog_rates/status/677716515794329600/photo/1</td>\n",
       "      <td>NaN</td>\n",
       "      <td>120</td>\n",
       "      <td>None</td>\n",
       "      <td></td>\n",
       "      <td></td>\n",
       "      <td></td>\n",
       "      <td></td>\n",
       "      <td>NaN</td>\n",
       "      <td>2015-12-18</td>\n",
       "      <td>05:06:23</td>\n",
       "      <td>NaN</td>\n",
       "    </tr>\n",
       "    <tr>\n",
       "      <th>1843</th>\n",
       "      <td>675853064436391936</td>\n",
       "      <td>nan</td>\n",
       "      <td>NaN</td>\n",
       "      <td>2015-12-13 01:41:41 +0000</td>\n",
       "      <td>iphone</td>\n",
       "      <td>Here we have an entire platoon of puppers. Total score: 88/80 would pet all at once https://t.co/y93p6FLvVw</td>\n",
       "      <td>NaN</td>\n",
       "      <td>NaN</td>\n",
       "      <td>NaN</td>\n",
       "      <td>https://twitter.com/dog_rates/status/675853064436391936/photo/1,https://twitter.com/dog_rates/status/675853064436391936/photo/1</td>\n",
       "      <td>NaN</td>\n",
       "      <td>80</td>\n",
       "      <td>None</td>\n",
       "      <td></td>\n",
       "      <td></td>\n",
       "      <td></td>\n",
       "      <td></td>\n",
       "      <td>NaN</td>\n",
       "      <td>2015-12-13</td>\n",
       "      <td>01:41:41</td>\n",
       "      <td>NaN</td>\n",
       "    </tr>\n",
       "  </tbody>\n",
       "</table>\n",
       "</div>"
      ],
      "text/plain": [
       "                tweet_id in_reply_to_status_id  in_reply_to_user_id  \\\n",
       "342   832088576586297345  8.3208754756e+17      3.058208e+07          \n",
       "433   820690176645140481  nan                  NaN                    \n",
       "516   810984652412424192  nan                  NaN                    \n",
       "902   758467244762497024  nan                  NaN                    \n",
       "1120  731156023742988288  nan                  NaN                    \n",
       "1228  713900603437621249  nan                  NaN                    \n",
       "1254  710658690886586372  nan                  NaN                    \n",
       "1274  709198395643068416  nan                  NaN                    \n",
       "1351  704054845121142784  nan                  NaN                    \n",
       "1433  697463031882764288  nan                  NaN                    \n",
       "1598  686035780142297088  6.86034024801e+17     4.196984e+09          \n",
       "1634  684225744407494656  6.84222868336e+17     4.196984e+09          \n",
       "1635  684222868335505415  nan                  NaN                    \n",
       "1663  682808988178739200  6.82788441538e+17     4.196984e+09          \n",
       "1779  677716515794329600  nan                  NaN                    \n",
       "1843  675853064436391936  nan                  NaN                    \n",
       "\n",
       "                      timestamp  source  \\\n",
       "342   2017-02-16 04:45:50 +0000  iphone   \n",
       "433   2017-01-15 17:52:40 +0000  iphone   \n",
       "516   2016-12-19 23:06:23 +0000  iphone   \n",
       "902   2016-07-28 01:00:57 +0000  iphone   \n",
       "1120  2016-05-13 16:15:54 +0000  iphone   \n",
       "1228  2016-03-27 01:29:02 +0000  iphone   \n",
       "1254  2016-03-18 02:46:49 +0000  iphone   \n",
       "1274  2016-03-14 02:04:08 +0000  iphone   \n",
       "1351  2016-02-28 21:25:30 +0000  iphone   \n",
       "1433  2016-02-10 16:51:59 +0000  iphone   \n",
       "1598  2016-01-10 04:04:10 +0000  iphone   \n",
       "1634  2016-01-05 04:11:44 +0000  iphone   \n",
       "1635  2016-01-05 04:00:18 +0000  iphone   \n",
       "1663  2016-01-01 06:22:03 +0000  iphone   \n",
       "1779  2015-12-18 05:06:23 +0000  iphone   \n",
       "1843  2015-12-13 01:41:41 +0000  iphone   \n",
       "\n",
       "                                                                                                                                                                           text  \\\n",
       "342   @docmisterio account started on 11/15/15                                                                                                                                    \n",
       "433   The floofs have been released I repeat the floofs have been released. 84/70 https://t.co/NIYC820tmd                                                                         \n",
       "516   Meet Sam. She smiles 24/7 &amp; secretly aspires to be a reindeer. \\nKeep Sam smiling by clicking and sharing this link:\\nhttps://t.co/98tB8y7y7t https://t.co/LouL5vdvxx   \n",
       "902   Why does this never happen at my front door... 165/150 https://t.co/HmwrdfEfUE                                                                                              \n",
       "1120  Say hello to this unbelievably well behaved squad of doggos. 204/170 would try to pet all at once https://t.co/yGQI3He3xv                                                   \n",
       "1228  Happy Saturday here's 9 puppers on a bench. 99/90 good work everybody https://t.co/mpvaVxKmc1                                                                               \n",
       "1254  Here's a brigade of puppers. All look very prepared for whatever happens next. 80/80 https://t.co/0eb7R1Om12                                                                \n",
       "1274  From left to right:\\nCletus, Jerome, Alejandro, Burp, &amp; Titson\\nNone know where camera is. 45/50 would hug all at once https://t.co/sedre1ivTK                          \n",
       "1351  Here is a whole flock of puppers.  60/50 I'll take the lot https://t.co/9dpcw6MdWa                                                                                          \n",
       "1433  Happy Wednesday here's a bucket of pups. 44/40 would pet all at once https://t.co/HppvrYuamZ                                                                                \n",
       "1598  Yes I do realize a rating of 4/20 would've been fitting. However, it would be unjust to give these cooperative pups that low of a rating                                    \n",
       "1634  Two sneaky puppers were not initially seen, moving the rating to 143/130. Please forgive us. Thank you https://t.co/kRK51Y5ac3                                              \n",
       "1635  Someone help the girl is being mugged. Several are distracting her while two steal her shoes. Clever puppers 121/110 https://t.co/1zfnTJLt55                                \n",
       "1663  I'm aware that I could've said 20/16, but here at WeRateDogs we are very professional. An inconsistent rating scale is simply irresponsible                                 \n",
       "1779  IT'S PUPPERGEDDON. Total of 144/120 ...I think https://t.co/ZanVtAtvIq                                                                                                      \n",
       "1843  Here we have an entire platoon of puppers. Total score: 88/80 would pet all at once https://t.co/y93p6FLvVw                                                                 \n",
       "\n",
       "      retweeted_status_id  retweeted_status_user_id  \\\n",
       "342  NaN                  NaN                         \n",
       "433  NaN                  NaN                         \n",
       "516  NaN                  NaN                         \n",
       "902  NaN                  NaN                         \n",
       "1120 NaN                  NaN                         \n",
       "1228 NaN                  NaN                         \n",
       "1254 NaN                  NaN                         \n",
       "1274 NaN                  NaN                         \n",
       "1351 NaN                  NaN                         \n",
       "1433 NaN                  NaN                         \n",
       "1598 NaN                  NaN                         \n",
       "1634 NaN                  NaN                         \n",
       "1635 NaN                  NaN                         \n",
       "1663 NaN                  NaN                         \n",
       "1779 NaN                  NaN                         \n",
       "1843 NaN                  NaN                         \n",
       "\n",
       "     retweeted_status_timestamp  \\\n",
       "342   NaN                         \n",
       "433   NaN                         \n",
       "516   NaN                         \n",
       "902   NaN                         \n",
       "1120  NaN                         \n",
       "1228  NaN                         \n",
       "1254  NaN                         \n",
       "1274  NaN                         \n",
       "1351  NaN                         \n",
       "1433  NaN                         \n",
       "1598  NaN                         \n",
       "1634  NaN                         \n",
       "1635  NaN                         \n",
       "1663  NaN                         \n",
       "1779  NaN                         \n",
       "1843  NaN                         \n",
       "\n",
       "                                                                                                                                                                                        expanded_urls  \\\n",
       "342   NaN                                                                                                                                                                                               \n",
       "433   https://twitter.com/dog_rates/status/820690176645140481/photo/1,https://twitter.com/dog_rates/status/820690176645140481/photo/1,https://twitter.com/dog_rates/status/820690176645140481/photo/1   \n",
       "516   https://www.gofundme.com/sams-smile,https://twitter.com/dog_rates/status/810984652412424192/photo/1                                                                                               \n",
       "902   https://twitter.com/dog_rates/status/758467244762497024/video/1                                                                                                                                   \n",
       "1120  https://twitter.com/dog_rates/status/731156023742988288/photo/1                                                                                                                                   \n",
       "1228  https://twitter.com/dog_rates/status/713900603437621249/photo/1                                                                                                                                   \n",
       "1254  https://twitter.com/dog_rates/status/710658690886586372/photo/1                                                                                                                                   \n",
       "1274  https://twitter.com/dog_rates/status/709198395643068416/photo/1                                                                                                                                   \n",
       "1351  https://twitter.com/dog_rates/status/704054845121142784/photo/1                                                                                                                                   \n",
       "1433  https://twitter.com/dog_rates/status/697463031882764288/photo/1                                                                                                                                   \n",
       "1598  NaN                                                                                                                                                                                               \n",
       "1634  https://twitter.com/dog_rates/status/684225744407494656/photo/1,https://twitter.com/dog_rates/status/684225744407494656/photo/1                                                                   \n",
       "1635  https://twitter.com/dog_rates/status/684222868335505415/photo/1                                                                                                                                   \n",
       "1663  NaN                                                                                                                                                                                               \n",
       "1779  https://twitter.com/dog_rates/status/677716515794329600/photo/1                                                                                                                                   \n",
       "1843  https://twitter.com/dog_rates/status/675853064436391936/photo/1,https://twitter.com/dog_rates/status/675853064436391936/photo/1                                                                   \n",
       "\n",
       "     rating_numerator  rating_denominator  name doggo floofer pupper puppo  \\\n",
       "342   NaN              15                  None                              \n",
       "433   NaN              70                  None                              \n",
       "516   NaN              7                   Sam                               \n",
       "902   NaN              150                 None                              \n",
       "1120  NaN              170                 this                              \n",
       "1228  NaN              90                  None                              \n",
       "1254  NaN              80                  None                              \n",
       "1274  NaN              50                  None                              \n",
       "1351  NaN              50                  a                                 \n",
       "1433  NaN              40                  None                              \n",
       "1598  NaN              20                  None                              \n",
       "1634  NaN              130                 None                              \n",
       "1635  NaN              110                 None                              \n",
       "1663  NaN              16                  None                              \n",
       "1779  NaN              120                 None                              \n",
       "1843  NaN              80                  None                              \n",
       "\n",
       "     dog_stages        day      time new_rating  \n",
       "342   NaN       2017-02-16  04:45:50  NaN        \n",
       "433   NaN       2017-01-15  17:52:40  NaN        \n",
       "516   NaN       2016-12-19  23:06:23  NaN        \n",
       "902   NaN       2016-07-28  01:00:57  NaN        \n",
       "1120  NaN       2016-05-13  16:15:54  NaN        \n",
       "1228  NaN       2016-03-27  01:29:02  NaN        \n",
       "1254  NaN       2016-03-18  02:46:49  NaN        \n",
       "1274  NaN       2016-03-14  02:04:08  NaN        \n",
       "1351  NaN       2016-02-28  21:25:30  NaN        \n",
       "1433  NaN       2016-02-10  16:51:59  NaN        \n",
       "1598  NaN       2016-01-10  04:04:10  NaN        \n",
       "1634  NaN       2016-01-05  04:11:44  NaN        \n",
       "1635  NaN       2016-01-05  04:00:18  NaN        \n",
       "1663  NaN       2016-01-01  06:22:03  NaN        \n",
       "1779  NaN       2015-12-18  05:06:23  NaN        \n",
       "1843  NaN       2015-12-13  01:41:41  NaN        "
      ]
     },
     "execution_count": 86,
     "metadata": {},
     "output_type": "execute_result"
    }
   ],
   "source": [
    "# Inspect the data without rating visually\n",
    "pd.set_option('display.max_colwidth',1) #show everything in all columns\n",
    "i = np.where(twitter_archived_clean['new_rating'].isnull()) #Get the list of the index of those without ratings \n",
    "twitter_archived_clean.iloc[i] # display all rows that has no rating"
   ]
  },
  {
   "cell_type": "code",
   "execution_count": 87,
   "metadata": {},
   "outputs": [],
   "source": [
    "# It was observed that the tweets without ratings are generally not about a specific dog\n",
    "# therefore are not needed for these investigation, delete them.\n",
    "\n",
    "twitter_archived_clean = twitter_archived_clean.drop(twitter_archived_clean.index[i])"
   ]
  },
  {
   "cell_type": "markdown",
   "metadata": {},
   "source": [
    "#### Test"
   ]
  },
  {
   "cell_type": "code",
   "execution_count": 88,
   "metadata": {},
   "outputs": [
    {
     "data": {
      "text/plain": [
       "10    2159\n",
       "Name: 1, dtype: int64"
      ]
     },
     "execution_count": 88,
     "metadata": {},
     "output_type": "execute_result"
    }
   ],
   "source": [
    "#checking the denominator, making sure it's only 10\n",
    "new_rating[1].value_counts()"
   ]
  },
  {
   "cell_type": "code",
   "execution_count": 89,
   "metadata": {},
   "outputs": [
    {
     "data": {
      "text/plain": [
       "12       500\n",
       "10       443\n",
       "11       426\n",
       "13       309\n",
       "9        156\n",
       "8        98 \n",
       "7        52 \n",
       "14       44 \n",
       "5        34 \n",
       "6        32 \n",
       "3        19 \n",
       "4        15 \n",
       "2        9  \n",
       "1        7  \n",
       "0        2  \n",
       "420      2  \n",
       "1776     1  \n",
       "182      1  \n",
       "9.5      1  \n",
       "666      1  \n",
       "17       1  \n",
       "11.26    1  \n",
       "9.75     1  \n",
       "007      1  \n",
       "11.27    1  \n",
       "13.5     1  \n",
       "15       1  \n",
       "Name: rating_numerator, dtype: int64"
      ]
     },
     "execution_count": 89,
     "metadata": {},
     "output_type": "execute_result"
    }
   ],
   "source": [
    "# checking for ratings with decimals\n",
    "twitter_archived_clean['rating_numerator'].value_counts()"
   ]
  },
  {
   "cell_type": "code",
   "execution_count": 90,
   "metadata": {},
   "outputs": [
    {
     "data": {
      "text/plain": [
       "0"
      ]
     },
     "execution_count": 90,
     "metadata": {},
     "output_type": "execute_result"
    }
   ],
   "source": [
    "# checking for observation without ratings  \n",
    "twitter_archived_clean['rating_numerator'].isnull().sum()"
   ]
  },
  {
   "cell_type": "code",
   "execution_count": null,
   "metadata": {},
   "outputs": [],
   "source": []
  },
  {
   "cell_type": "markdown",
   "metadata": {},
   "source": [
    "### Issue  #5 and 6: rating_numerator column name and datatype"
   ]
  },
  {
   "cell_type": "markdown",
   "metadata": {},
   "source": [
    "#### Define: \n",
    "Change the column named rating_numerator to rating and datatype to float"
   ]
  },
  {
   "cell_type": "markdown",
   "metadata": {},
   "source": [
    "#### Code"
   ]
  },
  {
   "cell_type": "code",
   "execution_count": 91,
   "metadata": {},
   "outputs": [],
   "source": [
    "# change column name\n",
    "twitter_archived_clean = twitter_archived_clean.rename(columns={'rating_numerator':'rating'})\n",
    "\n",
    "# change the data type\n",
    "twitter_archived_clean['rating'] = twitter_archived_clean['rating'].astype('float')"
   ]
  },
  {
   "cell_type": "markdown",
   "metadata": {},
   "source": [
    "#### Test"
   ]
  },
  {
   "cell_type": "code",
   "execution_count": 92,
   "metadata": {},
   "outputs": [
    {
     "data": {
      "text/plain": [
       "dtype('float64')"
      ]
     },
     "execution_count": 92,
     "metadata": {},
     "output_type": "execute_result"
    }
   ],
   "source": [
    "# checking\n",
    "twitter_archived_clean.rating.dtype"
   ]
  },
  {
   "cell_type": "code",
   "execution_count": null,
   "metadata": {},
   "outputs": [],
   "source": []
  },
  {
   "cell_type": "markdown",
   "metadata": {},
   "source": [
    "### Issue  #6: Dog name problems"
   ]
  },
  {
   "cell_type": "markdown",
   "metadata": {},
   "source": [
    "#### Define:\n",
    "names like 'the', 'a', 'not', 'just', 'this', 'old', 'very', 'all', 'by, 'his', 'life', 'my' etcetera, are not appropriate and all starts with small letter. They should be chaned to None. Then change all None to 'No Name'\n"
   ]
  },
  {
   "cell_type": "markdown",
   "metadata": {},
   "source": [
    "#### Code"
   ]
  },
  {
   "cell_type": "code",
   "execution_count": 93,
   "metadata": {},
   "outputs": [],
   "source": [
    "# the index of all dogs with the wrong names\n",
    "index = np.where(twitter_archived_clean.name.str.islower())\n",
    "\n",
    "# the list of all the dogs with the wrong names\n",
    "for i in index:\n",
    "    wrong_names = twitter_archived_clean.iloc[i,4].tolist()\n",
    "\n",
    "# # replacing wrong names with None\n",
    "for names in twitter_archived_clean['name']:\n",
    "    if names in wrong_names:\n",
    "        twitter_archived_clean['name']=twitter_archived_clean['name'].replace(names,'None') \n",
    "# replace None with No_name\n",
    "twitter_archived_clean['name']=twitter_archived_clean['name'].replace('None','No Name') "
   ]
  },
  {
   "cell_type": "markdown",
   "metadata": {},
   "source": [
    "#### Test"
   ]
  },
  {
   "cell_type": "code",
   "execution_count": 94,
   "metadata": {},
   "outputs": [
    {
     "data": {
      "text/plain": [
       "array(['Phineas', 'Tilly', 'Archie', 'Darla', 'Franklin', 'No Name', 'Jax',\n",
       "       'Zoey', 'Cassie', 'Koda', 'Bruno', 'Ted', 'Stuart', 'Oliver', 'Jim',\n",
       "       'Zeke', 'Ralphus', 'Gerald', 'Jeffrey', 'such', 'Canela', 'Maya',\n",
       "       'Mingus', 'Derek', 'Roscoe', 'Waffles', 'Jimbo', 'Maisey', 'Earl',\n",
       "       'Lola', 'Kevin', 'Yogi', 'Noah', 'Bella', 'Grizzwald', 'Rusty',\n",
       "       'Gus', 'Stanley', 'Alfy', 'Koko', 'Rey', 'Gary', 'a', 'Elliot',\n",
       "       'Louis', 'Jesse', 'Romeo', 'Bailey', 'Duddles', 'Jack', 'Steven',\n",
       "       'Beau', 'Snoopy', 'Shadow', 'Emmy', 'Aja', 'Penny', 'Dante',\n",
       "       'Nelly', 'Ginger', 'Benedict', 'Venti', 'Goose', 'Nugget', 'Cash',\n",
       "       'Jed', 'Sebastian', 'Sierra', 'Monkey', 'Harry', 'Kody', 'Lassie',\n",
       "       'Rover', 'Napolean', 'Boomer', 'Cody', 'Rumble', 'Clifford',\n",
       "       'Dewey', 'Scout', 'Gizmo', 'Walter', 'Cooper', 'Harold', 'Shikha',\n",
       "       'Lili', 'Jamesy', 'Coco', 'Sammy', 'Meatball', 'Paisley', 'Albus',\n",
       "       'Neptune', 'Belle', 'Quinn', 'Zooey', 'Dave', 'Jersey', 'Hobbes',\n",
       "       'Burt', 'Lorenzo', 'Carl', 'Jordy', 'Milky', 'Trooper', 'quite',\n",
       "       'Sophie', 'Wyatt', 'Rosie', 'Thor', 'Oscar', 'Callie', 'Cermet',\n",
       "       'Marlee', 'Arya', 'Einstein', 'Alice', 'Rumpole', 'Benny', 'Aspen',\n",
       "       'Jarod', 'Wiggles', 'General', 'Sailor', 'Iggy', 'Snoop', 'Kyle',\n",
       "       'Leo', 'Riley', 'Noosh', 'Odin', 'Jerry', 'Georgie', 'Rontu',\n",
       "       'Cannon', 'Furzey', 'Daisy', 'Tuck', 'Barney', 'Vixen', 'Jarvis',\n",
       "       'Mimosa', 'Pickles', 'Brady', 'Luna', 'Charlie', 'Margo', 'Sadie',\n",
       "       'Hank', 'Tycho', 'Indie', 'Winnie', 'George', 'Bentley', 'Max',\n",
       "       'Dawn', 'Maddie', 'Monty', 'Sojourner', 'Winston', 'Odie', 'Arlo',\n",
       "       'Vincent', 'Lucy', 'Clark', 'Mookie', 'Meera', 'Ava', 'Eli', 'Ash',\n",
       "       'Tucker', 'Tobi', 'Chester', 'Wilson', 'Sunshine', 'Lipton',\n",
       "       'Bronte', 'Poppy', 'Gidget', 'Rhino', 'Willow', 'not', 'Orion',\n",
       "       'Eevee', 'Smiley', 'Miguel', 'Emanuel', 'Kuyu', 'Dutch', 'Pete',\n",
       "       'Scooter', 'Reggie', 'Lilly', 'Samson', 'Mia', 'Astrid', 'Malcolm',\n",
       "       'Dexter', 'Alfie', 'Fiona', 'one', 'Mutt', 'Bear', 'Doobert',\n",
       "       'Beebop', 'Alexander', 'Sailer', 'Brutus', 'Kona', 'Boots',\n",
       "       'Ralphie', 'Loki', 'Cupid', 'Pawnd', 'Pilot', 'Ike', 'Mo', 'Toby',\n",
       "       'Sweet', 'Pablo', 'Nala', 'Crawford', 'Gabe', 'Jimison', 'Duchess',\n",
       "       'Harlso', 'Sundance', 'Luca', 'Flash', 'Sunny', 'Howie', 'Jazzy',\n",
       "       'Anna', 'Finn', 'Bo', 'Wafer', 'Tom', 'Florence', 'Autumn', 'Buddy',\n",
       "       'Dido', 'Eugene', 'Ken', 'Strudel', 'Tebow', 'Chloe', 'Timber',\n",
       "       'Binky', 'Moose', 'Dudley', 'Comet', 'Akumi', 'Titan', 'Olivia',\n",
       "       'Alf', 'Oshie', 'Chubbs', 'Sky', 'Atlas', 'Eleanor', 'Layla',\n",
       "       'Rocky', 'Baron', 'Tyr', 'Bauer', 'Swagger', 'Brandi', 'Mary',\n",
       "       'Moe', 'Halo', 'Augie', 'Craig', 'Hunter', 'Pavlov', 'Phil', 'Kyro',\n",
       "       'Wallace', 'Ito', 'Seamus', 'Ollie', 'Stephan', 'Lennon',\n",
       "       'incredibly', 'Major', 'Duke', 'Sansa', 'Shooter', 'Django',\n",
       "       'Diogi', 'Sonny', 'Marley', 'Severus', 'Ronnie', 'Milo', 'Bones',\n",
       "       'Mauve', 'Chef', 'Doc', 'Peaches', 'Sobe', 'Longfellow', 'Mister',\n",
       "       'Iroh', 'Pancake', 'Snicku', 'Ruby', 'Brody', 'Mack', 'Nimbus',\n",
       "       'Laika', 'Maximus', 'Dobby', 'Moreton', 'Juno', 'Maude', 'Lily',\n",
       "       'Newt', 'Benji', 'Nida', 'Robin', 'Monster', 'BeBe', 'Remus',\n",
       "       'Levi', 'Mabel', 'Misty', 'Betty', 'Mosby', 'Maggie', 'Bruce',\n",
       "       'Happy', 'Ralphy', 'Brownie', 'Rizzy', 'Stella', 'Butter', 'Frank',\n",
       "       'Tonks', 'Lincoln', 'Rory', 'Logan', 'Dale', 'Rizzo', 'Arnie',\n",
       "       'Mattie', 'Pinot', 'Dallas', 'Hero', 'Frankie', 'Stormy',\n",
       "       'Reginald', 'Balto', 'Mairi', 'Loomis', 'Godi', 'Cali', 'Deacon',\n",
       "       'Timmy', 'Sampson', 'Chipson', 'Combo', 'Oakley', 'Dash',\n",
       "       'Hercules', 'Jay', 'Mya', 'Strider', 'Wesley', 'Solomon', 'Huck',\n",
       "       'O', 'Blue', 'Anakin', 'Finley', 'Sprinkles', 'Heinrich',\n",
       "       'Shakespeare', 'Chelsea', 'Bungalo', 'Chip', 'Grey', 'Roosevelt',\n",
       "       'Willem', 'Davey', 'Dakota', 'Fizz', 'Dixie', 'very', 'Al',\n",
       "       'Jackson', 'Carbon', 'Klein', 'DonDon', 'Kirby', 'Lou', 'Chevy',\n",
       "       'Tito', 'Philbert', 'Louie', 'Rupert', 'Rufus', 'Brudge', 'Shadoe',\n",
       "       'Angel', 'Brat', 'Tove', 'my', 'Gromit', 'Aubie', 'Kota', 'Leela',\n",
       "       'Glenn', 'Shelby', 'Sephie', 'Bonaparte', 'Albert', 'Wishes',\n",
       "       'Rose', 'Theo', 'Rocco', 'Fido', 'Emma', 'Spencer', 'Lilli',\n",
       "       'Boston', 'Brandonald', 'Corey', 'Leonard', 'Beckham', 'Devón',\n",
       "       'Gert', 'Watson', 'Keith', 'Dex', 'Ace', 'Tayzie', 'Grizzie',\n",
       "       'Fred', 'Gilbert', 'Meyer', 'Zoe', 'Stewie', 'Calvin', 'Lilah',\n",
       "       'Spanky', 'Jameson', 'Piper', 'Atticus', 'Blu', 'Dietrich',\n",
       "       'Divine', 'Tripp', 'his', 'Cora', 'Huxley', 'Keurig', 'Bookstore',\n",
       "       'Linus', 'Abby', 'Shiloh', 'an', 'Gustav', 'Arlen', 'Percy',\n",
       "       'Lenox', 'Sugar', 'Harvey', 'Blanket', 'actually', 'Geno', 'Stark',\n",
       "       'Beya', 'Kilo', 'Kayla', 'Maxaroni', 'Bell', 'Doug', 'Edmund',\n",
       "       'Aqua', 'Theodore', 'just', 'Baloo', 'Chase', 'getting', 'Nollie',\n",
       "       'Rorie', 'Simba', 'Charles', 'Bayley', 'Axel', 'Storkson', 'Remy',\n",
       "       'Chadrick', 'mad', 'Kellogg', 'Buckley', 'Livvie', 'Terry',\n",
       "       'Hermione', 'Ralpher', 'Aldrick', 'Larry', 'unacceptable', 'Rooney',\n",
       "       'Crystal', 'Ziva', 'Stefan', 'Pupcasso', 'Puff', 'Flurpson',\n",
       "       'Coleman', 'Enchilada', 'Raymond', 'all', 'Rueben', 'Cilantro',\n",
       "       'Karll', 'Sprout', 'Blitz', 'Bloop', 'Colby', 'Lillie', 'Ashleigh',\n",
       "       'Kreggory', 'Sarge', 'Luther', 'Ivar', 'Jangle', 'Schnitzel',\n",
       "       'Panda', 'Berkeley', 'Ralphé', 'Charleson', 'Clyde', 'Harnold',\n",
       "       'Sid', 'Pippa', 'Otis', 'Carper', 'Bowie', 'Alexanderson', 'Suki',\n",
       "       'Barclay', 'Skittle', 'Ebby', 'Flávio', 'Smokey', 'Link',\n",
       "       'Jennifur', 'Ozzy', 'Bluebert', 'Stephanus', 'Bubbles', 'old',\n",
       "       'Zeus', 'Bertson', 'Nico', 'Michelangelope', 'Siba', 'Calbert',\n",
       "       'Curtis', 'Travis', 'Thumas', 'Kanu', 'Lance', 'Opie', 'Stubert',\n",
       "       'Kane', 'Olive', 'Chuckles', 'Staniel', 'Sora', 'Beemo', 'Gunner',\n",
       "       'infuriating', 'Lacy', 'Tater', 'Olaf', 'Cecil', 'Vince', 'Karma',\n",
       "       'Billy', 'Walker', 'Rodney', 'Klevin', 'Malikai', 'Bobble', 'River',\n",
       "       'Jebberson', 'Remington', 'Farfle', 'Jiminus', 'Harper', 'Clarkus',\n",
       "       'Finnegus', 'Cupcake', 'Kathmandu', 'Ellie', 'Katie', 'Kara',\n",
       "       'Adele', 'Zara', 'Ambrose', 'Jimothy', 'Bode', 'Terrenth', 'Reese',\n",
       "       'Chesterson', 'Lucia', 'Bisquick', 'Ralphson', 'Socks', 'Rambo',\n",
       "       'Rudy', 'Fiji', 'Rilo', 'Bilbo', 'Coopson', 'Yoda', 'Millie',\n",
       "       'Chet', 'Crouton', 'Daniel', 'Kaia', 'Murphy', 'Dotsy', 'Eazy',\n",
       "       'Coops', 'Fillup', 'Miley', 'Charl', 'Reagan', 'Yukon', 'CeCe',\n",
       "       'Cuddles', 'Claude', 'Jessiga', 'Carter', 'Ole', 'Pherb', 'Blipson',\n",
       "       'Reptar', 'Trevith', 'Berb', 'Bob', 'Colin', 'Brian', 'Oliviér',\n",
       "       'Grady', 'Kobe', 'Freddery', 'Bodie', 'Dunkin', 'Wally', 'Tupawc',\n",
       "       'Amber', 'Herschel', 'Edgar', 'Teddy', 'Kingsley', 'Brockly',\n",
       "       'Richie', 'Molly', 'Vinscent', 'Cedrick', 'Hazel', 'Lolo', 'Eriq',\n",
       "       'Phred', 'the', 'Oddie', 'Maxwell', 'Geoff', 'Covach', 'Durg',\n",
       "       'Fynn', 'Ricky', 'Herald', 'Lucky', 'Ferg', 'Trip', 'Clarence',\n",
       "       'Hamrick', 'Brad', 'Pubert', 'Frönq', 'Derby', 'Lizzie', 'Ember',\n",
       "       'Blakely', 'Opal', 'Marq', 'Kramer', 'Barry', 'Tyrone', 'Gordon',\n",
       "       'Baxter', 'Mona', 'Horace', 'Crimson', 'Birf', 'Hammond', 'Lorelei',\n",
       "       'Marty', 'Brooks', 'Petrick', 'Hubertson', 'Gerbald', 'Oreo',\n",
       "       'Bruiser', 'Perry', 'Bobby', 'Jeph', 'Obi', 'Tino', 'Kulet',\n",
       "       'Sweets', 'Lupe', 'Tiger', 'Jiminy', 'Griffin', 'Banjo', 'Brandy',\n",
       "       'Lulu', 'Darrel', 'Taco', 'Joey', 'Patrick', 'Kreg', 'Todo', 'Tess',\n",
       "       'Ulysses', 'Toffee', 'Apollo', 'Carly', 'Asher', 'Glacier', 'Chuck',\n",
       "       'Champ', 'Ozzie', 'Griswold', 'Cheesy', 'Moofasa', 'Hector',\n",
       "       'Goliath', 'Kawhi', 'by', 'Emmie', 'Penelope', 'Willie', 'Rinna',\n",
       "       'Mike', 'William', 'Dwight', 'Evy', 'Hurley', 'Rubio', 'officially',\n",
       "       'Chompsky', 'Rascal', 'Linda', 'Tug', 'Tango', 'Grizz', 'Jerome',\n",
       "       'Crumpet', 'Jessifer', 'Izzy', 'Ralph', 'Sandy', 'Humphrey',\n",
       "       'Tassy', 'Juckson', 'Chuq', 'Tyrus', 'Karl', 'Godzilla', 'Vinnie',\n",
       "       'Kenneth', 'Herm', 'Bert', 'Striker', 'Donny', 'Pepper', 'Bernie',\n",
       "       'Buddah', 'Lenny', 'Arnold', 'Zuzu', 'Mollie', 'Laela', 'Tedders',\n",
       "       'Superpup', 'Rufio', 'Jeb', 'Rodman', 'Jonah', 'Chesney', 'life',\n",
       "       'Kenny', 'Henry', 'Bobbay', 'Mitch', 'Kaiya', 'Acro', 'Aiden',\n",
       "       'Obie', 'Dot', 'Shnuggles', 'Kendall', 'Jeffri', 'Steve', 'Eve',\n",
       "       'Mac', 'Fletcher', 'Kenzie', 'Pumpkin', 'Schnozz', 'Gustaf',\n",
       "       'Cheryl', 'Ed', 'Leonidas', 'Norman', 'Caryl', 'Scott', 'Taz',\n",
       "       'Darby', 'Jackie', 'light', 'Jazz', 'Franq', 'Pippin', 'Rolf',\n",
       "       'Snickers', 'Ridley', 'Cal', 'Bradley', 'Bubba', 'Tuco', 'Patch',\n",
       "       'Mojo', 'Batdog', 'Dylan', 'space', 'Mark', 'JD', 'Alejandro',\n",
       "       'Scruffers', 'Pip', 'Julius', 'Tanner', 'Sparky', 'Anthony',\n",
       "       'Holly', 'Jett', 'Amy', 'Sage', 'Andy', 'Mason', 'Trigger',\n",
       "       'Antony', 'Creg', 'Traviss', 'Gin', 'Jeffrie', 'Danny', 'Ester',\n",
       "       'Pluto', 'Bloo', 'Edd', 'Paull', 'Sam', 'Willy', 'Herb', 'Damon',\n",
       "       'Peanut', 'Nigel', 'Butters', 'Sandra', 'Fabio', 'Randall', 'Liam',\n",
       "       'Tommy', 'Ben', 'Raphael', 'Julio', 'Andru', 'Kloey', 'Shawwn',\n",
       "       'Skye', 'Kollin', 'Ronduh', 'Billl', 'Saydee', 'Dug', 'Tessa',\n",
       "       'Sully', 'Kirk', 'Ralf', 'Clarq', 'Jaspers', 'Samsom', 'Terrance',\n",
       "       'Harrison', 'Chaz', 'Jeremy', 'Jaycob', 'Lambeau', 'Ruffles',\n",
       "       'Amélie', 'Bobb', 'Banditt', 'Kevon', 'Winifred', 'Hanz', 'Churlie',\n",
       "       'Zeek', 'Timofy', 'Maks', 'Jomathan', 'Kallie', 'Marvin', 'Spark',\n",
       "       'Gòrdón', 'Jo', 'DayZ', 'Jareld', 'Torque', 'Ron', 'Skittles',\n",
       "       'Cleopatricia', 'Erik', 'Stu', 'Tedrick', 'Shaggy', 'Filup', 'Kial',\n",
       "       'Naphaniel', 'Dook', 'Hall', 'Philippe', 'Biden', 'Fwed',\n",
       "       'Genevieve', 'Joshwa', 'Timison', 'Bradlay', 'Pipsy', 'Clybe',\n",
       "       'Keet', 'Carll', 'Jockson', 'Josep', 'Lugan', 'Christoper'], dtype=object)"
      ]
     },
     "execution_count": 94,
     "metadata": {},
     "output_type": "execute_result"
    }
   ],
   "source": [
    "# checking erong names\n",
    "twitter_archived_clean['name'].unique()"
   ]
  },
  {
   "cell_type": "code",
   "execution_count": null,
   "metadata": {},
   "outputs": [],
   "source": []
  },
  {
   "cell_type": "markdown",
   "metadata": {},
   "source": [
    "### Issue #6: Delete all columns not necessary for investigation"
   ]
  },
  {
   "cell_type": "markdown",
   "metadata": {
    "collapsed": true,
    "extensions": {
     "jupyter_dashboards": {
      "version": 1,
      "views": {
       "grid_default": {
        "hidden": true
       },
       "report_default": {
        "hidden": true
       }
      }
     }
    }
   },
   "source": [
    "#### Define:\n",
    "Delete the following columns;  'retweeted_status_user_id,'retweeted_status_timestamp', 'text', 'rating_denominator, 'expanded_urls', 'doggo', 'floofer', 'pupper','puppo','new_rating' because the are not necessary for this analysis."
   ]
  },
  {
   "cell_type": "markdown",
   "metadata": {},
   "source": [
    "#### Code"
   ]
  },
  {
   "cell_type": "code",
   "execution_count": 97,
   "metadata": {},
   "outputs": [],
   "source": [
    "# using the drop function to delete the columns that are no longer required\n",
    "twitter_archived_clean = twitter_archived_clean.drop(['timestamp',\n",
    "                                                      'retweeted_status_id',\n",
    "                                                      'retweeted_status_user_id',\n",
    "                                                      'retweeted_status_timestamp',                                                      \n",
    "                                                      'text',                                                      \n",
    "                                                      'rating_denominator',\n",
    "                                                      'expanded_urls',\n",
    "                                                      'doggo',\n",
    "                                                      'floofer',\n",
    "                                                      'pupper',\n",
    "                                                      'puppo',\n",
    "                                                      'new_rating'], axis=1)"
   ]
  },
  {
   "cell_type": "markdown",
   "metadata": {},
   "source": [
    "#### Test"
   ]
  },
  {
   "cell_type": "code",
   "execution_count": 98,
   "metadata": {},
   "outputs": [
    {
     "data": {
      "text/plain": [
       "Index(['tweet_id', 'in_reply_to_status_id', 'in_reply_to_user_id', 'source',\n",
       "       'rating', 'name', 'dog_stages', 'day', 'time'],\n",
       "      dtype='object')"
      ]
     },
     "execution_count": 98,
     "metadata": {},
     "output_type": "execute_result"
    }
   ],
   "source": [
    "# Checking if columns were deleted \n",
    "twitter_archived_clean.columns"
   ]
  },
  {
   "cell_type": "code",
   "execution_count": null,
   "metadata": {},
   "outputs": [],
   "source": []
  },
  {
   "cell_type": "markdown",
   "metadata": {},
   "source": [
    "### Issue  #8:   p1, p2, p3 data type"
   ]
  },
  {
   "cell_type": "markdown",
   "metadata": {},
   "source": [
    "#### Define: \n",
    "Change the data type from string to categorical"
   ]
  },
  {
   "cell_type": "markdown",
   "metadata": {},
   "source": [
    "#### Code"
   ]
  },
  {
   "cell_type": "code",
   "execution_count": 99,
   "metadata": {},
   "outputs": [],
   "source": [
    "# change data type\n",
    "img_predictions_clean[['p1','p2','p3']] = img_predictions_clean[['p1','p2','p3']].astype('category')"
   ]
  },
  {
   "cell_type": "markdown",
   "metadata": {},
   "source": [
    "#### Test"
   ]
  },
  {
   "cell_type": "code",
   "execution_count": 100,
   "metadata": {},
   "outputs": [
    {
     "data": {
      "text/plain": [
       "tweet_id    object  \n",
       "jpg_url     object  \n",
       "img_num     int64   \n",
       "p1          category\n",
       "p1_conf     float64 \n",
       "p1_dog      bool    \n",
       "p2          category\n",
       "p2_conf     float64 \n",
       "p2_dog      bool    \n",
       "p3          category\n",
       "p3_conf     float64 \n",
       "p3_dog      bool    \n",
       "dtype: object"
      ]
     },
     "execution_count": 100,
     "metadata": {},
     "output_type": "execute_result"
    }
   ],
   "source": [
    "#checking if data type has been changed\n",
    "img_predictions_clean.dtypes"
   ]
  },
  {
   "cell_type": "code",
   "execution_count": null,
   "metadata": {},
   "outputs": [],
   "source": []
  },
  {
   "cell_type": "markdown",
   "metadata": {},
   "source": [
    "## Merge all tables"
   ]
  },
  {
   "cell_type": "markdown",
   "metadata": {},
   "source": [
    "#### Define: \n",
    "Merge the three tables into a single DataFrame named df_master"
   ]
  },
  {
   "cell_type": "markdown",
   "metadata": {},
   "source": [
    "#### Code"
   ]
  },
  {
   "cell_type": "code",
   "execution_count": 101,
   "metadata": {},
   "outputs": [],
   "source": [
    "# merging the 3 datasets into 1\n",
    "df_master = twitter_archived_clean.merge(img_predictions_clean, on='tweet_id')\n",
    "df_master = df_master.merge(tweet_fav_clean, on='tweet_id')"
   ]
  },
  {
   "cell_type": "markdown",
   "metadata": {},
   "source": [
    "#### Test"
   ]
  },
  {
   "cell_type": "code",
   "execution_count": 102,
   "metadata": {},
   "outputs": [
    {
     "name": "stdout",
     "output_type": "stream",
     "text": [
      "<class 'pandas.core.frame.DataFrame'>\n",
      "Int64Index: 1981 entries, 0 to 1980\n",
      "Data columns (total 22 columns):\n",
      "tweet_id                 1981 non-null object\n",
      "in_reply_to_status_id    1981 non-null object\n",
      "in_reply_to_user_id      1981 non-null object\n",
      "source                   1981 non-null object\n",
      "rating                   1981 non-null float64\n",
      "name                     1981 non-null object\n",
      "dog_stages               306 non-null object\n",
      "day                      1981 non-null datetime64[ns]\n",
      "time                     1981 non-null object\n",
      "jpg_url                  1981 non-null object\n",
      "img_num                  1981 non-null int64\n",
      "p1                       1981 non-null category\n",
      "p1_conf                  1981 non-null float64\n",
      "p1_dog                   1981 non-null bool\n",
      "p2                       1981 non-null category\n",
      "p2_conf                  1981 non-null float64\n",
      "p2_dog                   1981 non-null bool\n",
      "p3                       1981 non-null category\n",
      "p3_conf                  1981 non-null float64\n",
      "p3_dog                   1981 non-null bool\n",
      "retweet_count            1981 non-null int64\n",
      "favorite_count           1981 non-null int64\n",
      "dtypes: bool(3), category(3), datetime64[ns](1), float64(4), int64(3), object(8)\n",
      "memory usage: 339.8+ KB\n"
     ]
    }
   ],
   "source": [
    "# checkeng the master dataframe\n",
    "df_master.info()"
   ]
  },
  {
   "cell_type": "code",
   "execution_count": null,
   "metadata": {},
   "outputs": [],
   "source": []
  },
  {
   "cell_type": "markdown",
   "metadata": {},
   "source": [
    "## Storing Data\n",
    "Save gathered, assessed, and cleaned master dataset to a CSV file named \"twitter_archive_master.csv\"."
   ]
  },
  {
   "cell_type": "code",
   "execution_count": 103,
   "metadata": {},
   "outputs": [],
   "source": [
    "# save master dataframe to csv\n",
    "df_master.to_csv('twitter_archive_master.csv', index=False)"
   ]
  },
  {
   "cell_type": "code",
   "execution_count": null,
   "metadata": {},
   "outputs": [],
   "source": []
  },
  {
   "cell_type": "markdown",
   "metadata": {},
   "source": [
    "## Analyzing and Visualizing Data\n",
    "In this section, analyze and visualize your wrangled data. You must produce at least **three (3) insights and one (1) visualization.**"
   ]
  },
  {
   "cell_type": "markdown",
   "metadata": {},
   "source": [
    "### Insights:\n",
    "1. Determine the aggregate of the ratings, retweet, and favorite counts\n",
    "2. Name of the dog with the highest rating and the day  and time of the tweet\n",
    "3. Name of the dog with the highest retweets and the day  and time of the tweet\n",
    "4. Name of the dog with the highest likes and the day  and time of the tweet\n",
    "5. Percentages contribution of the different tweet sources \n",
    "6. Number of tweets per day\n",
    "7. Percentages contribution of the different numbers of image posted"
   ]
  },
  {
   "cell_type": "markdown",
   "metadata": {},
   "source": [
    "### 1. Determine the aggregate of the ratings, retweet, and favorite counts"
   ]
  },
  {
   "cell_type": "code",
   "execution_count": 105,
   "metadata": {},
   "outputs": [
    {
     "data": {
      "text/html": [
       "<div>\n",
       "<style scoped>\n",
       "    .dataframe tbody tr th:only-of-type {\n",
       "        vertical-align: middle;\n",
       "    }\n",
       "\n",
       "    .dataframe tbody tr th {\n",
       "        vertical-align: top;\n",
       "    }\n",
       "\n",
       "    .dataframe thead th {\n",
       "        text-align: right;\n",
       "    }\n",
       "</style>\n",
       "<table border=\"1\" class=\"dataframe\">\n",
       "  <thead>\n",
       "    <tr style=\"text-align: right;\">\n",
       "      <th></th>\n",
       "      <th>rating</th>\n",
       "      <th>retweet_count</th>\n",
       "      <th>favorite_count</th>\n",
       "    </tr>\n",
       "  </thead>\n",
       "  <tbody>\n",
       "    <tr>\n",
       "      <th>count</th>\n",
       "      <td>1981.0</td>\n",
       "      <td>1981.0</td>\n",
       "      <td>1981.0</td>\n",
       "    </tr>\n",
       "    <tr>\n",
       "      <th>mean</th>\n",
       "      <td>11.7</td>\n",
       "      <td>2775.6</td>\n",
       "      <td>8925.8</td>\n",
       "    </tr>\n",
       "    <tr>\n",
       "      <th>std</th>\n",
       "      <td>40.8</td>\n",
       "      <td>4688.2</td>\n",
       "      <td>12245.3</td>\n",
       "    </tr>\n",
       "    <tr>\n",
       "      <th>min</th>\n",
       "      <td>0.0</td>\n",
       "      <td>16.0</td>\n",
       "      <td>81.0</td>\n",
       "    </tr>\n",
       "    <tr>\n",
       "      <th>25%</th>\n",
       "      <td>10.0</td>\n",
       "      <td>622.0</td>\n",
       "      <td>1957.0</td>\n",
       "    </tr>\n",
       "    <tr>\n",
       "      <th>50%</th>\n",
       "      <td>11.0</td>\n",
       "      <td>1359.0</td>\n",
       "      <td>4144.0</td>\n",
       "    </tr>\n",
       "    <tr>\n",
       "      <th>75%</th>\n",
       "      <td>12.0</td>\n",
       "      <td>3225.0</td>\n",
       "      <td>11363.0</td>\n",
       "    </tr>\n",
       "    <tr>\n",
       "      <th>max</th>\n",
       "      <td>1776.0</td>\n",
       "      <td>79515.0</td>\n",
       "      <td>132810.0</td>\n",
       "    </tr>\n",
       "  </tbody>\n",
       "</table>\n",
       "</div>"
      ],
      "text/plain": [
       "       rating  retweet_count  favorite_count\n",
       "count  1981.0  1981.0         1981.0        \n",
       "mean   11.7    2775.6         8925.8        \n",
       "std    40.8    4688.2         12245.3       \n",
       "min    0.0     16.0           81.0          \n",
       "25%    10.0    622.0          1957.0        \n",
       "50%    11.0    1359.0         4144.0        \n",
       "75%    12.0    3225.0         11363.0       \n",
       "max    1776.0  79515.0        132810.0      "
      ]
     },
     "execution_count": 105,
     "metadata": {},
     "output_type": "execute_result"
    }
   ],
   "source": [
    "# Determine the aggregate of the ratings, retweet, and favorite counts\n",
    "df_master[['rating','retweet_count','favorite_count']].describe().round(1)"
   ]
  },
  {
   "cell_type": "code",
   "execution_count": 106,
   "metadata": {},
   "outputs": [
    {
     "data": {
      "text/plain": [
       "0    12.0\n",
       "dtype: float64"
      ]
     },
     "execution_count": 106,
     "metadata": {},
     "output_type": "execute_result"
    }
   ],
   "source": [
    "df_master['rating'].mode()"
   ]
  },
  {
   "cell_type": "markdown",
   "metadata": {},
   "source": [
    "### 2. Name of the dog with the highest rating and the day  and time of the tweet"
   ]
  },
  {
   "cell_type": "code",
   "execution_count": 107,
   "metadata": {},
   "outputs": [
    {
     "data": {
      "text/html": [
       "<div>\n",
       "<style scoped>\n",
       "    .dataframe tbody tr th:only-of-type {\n",
       "        vertical-align: middle;\n",
       "    }\n",
       "\n",
       "    .dataframe tbody tr th {\n",
       "        vertical-align: top;\n",
       "    }\n",
       "\n",
       "    .dataframe thead th {\n",
       "        text-align: right;\n",
       "    }\n",
       "</style>\n",
       "<table border=\"1\" class=\"dataframe\">\n",
       "  <thead>\n",
       "    <tr style=\"text-align: right;\">\n",
       "      <th></th>\n",
       "      <th>name</th>\n",
       "      <th>day</th>\n",
       "      <th>time</th>\n",
       "    </tr>\n",
       "  </thead>\n",
       "  <tbody>\n",
       "    <tr>\n",
       "      <th>723</th>\n",
       "      <td>Atticus</td>\n",
       "      <td>2016-07-04</td>\n",
       "      <td>15:00:45</td>\n",
       "    </tr>\n",
       "  </tbody>\n",
       "</table>\n",
       "</div>"
      ],
      "text/plain": [
       "        name        day      time\n",
       "723  Atticus 2016-07-04  15:00:45"
      ]
     },
     "execution_count": 107,
     "metadata": {},
     "output_type": "execute_result"
    }
   ],
   "source": [
    "# Details of most rated dog\n",
    "most_rated = df_master[df_master['rating'] == df_master['rating'].max()]\n",
    "\n",
    "# Name of the dog with the highest ratings, and the day and time of the tweet\n",
    "most_rated[['name','day','time']]"
   ]
  },
  {
   "cell_type": "markdown",
   "metadata": {},
   "source": [
    "### 3. Name of the dog with the highest retweets and the day  and time of the tweet"
   ]
  },
  {
   "cell_type": "code",
   "execution_count": 108,
   "metadata": {},
   "outputs": [
    {
     "data": {
      "text/html": [
       "<div>\n",
       "<style scoped>\n",
       "    .dataframe tbody tr th:only-of-type {\n",
       "        vertical-align: middle;\n",
       "    }\n",
       "\n",
       "    .dataframe tbody tr th {\n",
       "        vertical-align: top;\n",
       "    }\n",
       "\n",
       "    .dataframe thead th {\n",
       "        text-align: right;\n",
       "    }\n",
       "</style>\n",
       "<table border=\"1\" class=\"dataframe\">\n",
       "  <thead>\n",
       "    <tr style=\"text-align: right;\">\n",
       "      <th></th>\n",
       "      <th>name</th>\n",
       "      <th>day</th>\n",
       "      <th>time</th>\n",
       "    </tr>\n",
       "  </thead>\n",
       "  <tbody>\n",
       "    <tr>\n",
       "      <th>772</th>\n",
       "      <td>No Name</td>\n",
       "      <td>2016-06-18</td>\n",
       "      <td>18:26:18</td>\n",
       "    </tr>\n",
       "  </tbody>\n",
       "</table>\n",
       "</div>"
      ],
      "text/plain": [
       "        name        day      time\n",
       "772  No Name 2016-06-18  18:26:18"
      ]
     },
     "execution_count": 108,
     "metadata": {},
     "output_type": "execute_result"
    }
   ],
   "source": [
    "#details of dog with most retweet\n",
    "most_rt = df_master[df_master['retweet_count'] == df_master['retweet_count'].max()]\n",
    "\n",
    "# Name of the dog with the highest retweets, and the day and time of the tweet\n",
    "most_rt[['name','day','time']]"
   ]
  },
  {
   "cell_type": "markdown",
   "metadata": {},
   "source": [
    "### 4. Name of the dog with the highest likes and the day  and time of the tweet"
   ]
  },
  {
   "cell_type": "code",
   "execution_count": 109,
   "metadata": {},
   "outputs": [
    {
     "data": {
      "text/html": [
       "<div>\n",
       "<style scoped>\n",
       "    .dataframe tbody tr th:only-of-type {\n",
       "        vertical-align: middle;\n",
       "    }\n",
       "\n",
       "    .dataframe tbody tr th {\n",
       "        vertical-align: top;\n",
       "    }\n",
       "\n",
       "    .dataframe thead th {\n",
       "        text-align: right;\n",
       "    }\n",
       "</style>\n",
       "<table border=\"1\" class=\"dataframe\">\n",
       "  <thead>\n",
       "    <tr style=\"text-align: right;\">\n",
       "      <th></th>\n",
       "      <th>name</th>\n",
       "      <th>day</th>\n",
       "      <th>time</th>\n",
       "    </tr>\n",
       "  </thead>\n",
       "  <tbody>\n",
       "    <tr>\n",
       "      <th>309</th>\n",
       "      <td>No Name</td>\n",
       "      <td>2017-01-21</td>\n",
       "      <td>18:26:02</td>\n",
       "    </tr>\n",
       "  </tbody>\n",
       "</table>\n",
       "</div>"
      ],
      "text/plain": [
       "        name        day      time\n",
       "309  No Name 2017-01-21  18:26:02"
      ]
     },
     "execution_count": 109,
     "metadata": {},
     "output_type": "execute_result"
    }
   ],
   "source": [
    "#details of most liked dog\n",
    "most_liked = df_master[df_master['favorite_count'] == df_master['favorite_count'].max()]\n",
    "\n",
    "# Name of the dog with the highest likes, and the day and time of the tweet\n",
    "most_liked[['name','day','time']]"
   ]
  },
  {
   "cell_type": "markdown",
   "metadata": {},
   "source": [
    "### 5. Percentages contribution of the different tweet sources"
   ]
  },
  {
   "cell_type": "code",
   "execution_count": 110,
   "metadata": {},
   "outputs": [
    {
     "data": {
      "text/plain": [
       "iphone       98.0\n",
       "Web          1.4 \n",
       "TweetDeck    0.6 \n",
       "Name: source, dtype: float64"
      ]
     },
     "execution_count": 110,
     "metadata": {},
     "output_type": "execute_result"
    }
   ],
   "source": [
    "# Percentages contribution of the different tweet sources \n",
    "per_source = df_master['source'].value_counts()/df_master['source'].count()*100\n",
    "per_source.round(1)"
   ]
  },
  {
   "cell_type": "markdown",
   "metadata": {},
   "source": [
    "### 6. Number of tweets per day"
   ]
  },
  {
   "cell_type": "code",
   "execution_count": 111,
   "metadata": {},
   "outputs": [
    {
     "data": {
      "text/plain": [
       "2015-11-28    26\n",
       "2015-11-29    26\n",
       "2015-11-16    25\n",
       "2015-12-01    23\n",
       "2015-11-19    23\n",
       "2015-11-25    21\n",
       "2015-11-20    20\n",
       "2015-11-23    20\n",
       "2015-12-07    20\n",
       "2015-11-22    20\n",
       "2015-12-08    19\n",
       "2015-12-03    18\n",
       "2015-12-10    17\n",
       "2015-11-27    17\n",
       "2015-11-30    17\n",
       "2015-11-21    17\n",
       "2015-11-18    17\n",
       "2015-11-24    17\n",
       "2015-12-11    16\n",
       "2015-12-06    16\n",
       "2015-12-12    16\n",
       "2015-12-09    16\n",
       "2015-11-17    15\n",
       "2015-12-02    14\n",
       "2015-12-04    14\n",
       "2015-12-24    13\n",
       "2015-12-05    13\n",
       "2015-12-15    13\n",
       "2015-11-26    12\n",
       "2015-12-21    11\n",
       "2015-12-14    10\n",
       "2015-12-17    10\n",
       "2015-12-13    10\n",
       "2016-07-04    10\n",
       "2015-12-16    10\n",
       "2016-10-31    10\n",
       "2015-12-23    10\n",
       "2015-12-27    9 \n",
       "2015-12-20    9 \n",
       "2015-12-18    8 \n",
       "2016-12-25    8 \n",
       "2015-12-28    8 \n",
       "2015-12-25    8 \n",
       "2015-12-30    7 \n",
       "2016-01-05    7 \n",
       "2016-01-08    7 \n",
       "2016-01-13    7 \n",
       "2016-01-07    7 \n",
       "2015-12-31    7 \n",
       "2016-01-04    7 \n",
       "2016-02-17    7 \n",
       "2016-01-29    7 \n",
       "2016-01-20    7 \n",
       "2016-03-06    6 \n",
       "2016-01-11    6 \n",
       "2016-01-03    6 \n",
       "2016-01-09    6 \n",
       "2016-03-02    6 \n",
       "2016-01-23    6 \n",
       "2016-01-31    6 \n",
       "2016-02-15    6 \n",
       "2016-01-14    6 \n",
       "2016-02-12    6 \n",
       "2016-01-25    6 \n",
       "2016-03-11    6 \n",
       "2016-01-18    6 \n",
       "2016-03-09    6 \n",
       "2016-03-08    6 \n",
       "2016-06-28    6 \n",
       "2016-01-02    6 \n",
       "2016-01-19    6 \n",
       "2015-12-26    6 \n",
       "2016-01-21    6 \n",
       "2016-11-01    6 \n",
       "2016-04-08    5 \n",
       "2016-07-01    5 \n",
       "2016-01-22    5 \n",
       "2016-03-10    5 \n",
       "2016-03-16    5 \n",
       "2016-06-13    5 \n",
       "2016-06-30    5 \n",
       "2016-07-05    5 \n",
       "2016-02-10    5 \n",
       "2016-02-27    5 \n",
       "2016-03-14    5 \n",
       "2016-07-25    5 \n",
       "2016-02-14    5 \n",
       "2016-03-03    5 \n",
       "2016-01-06    5 \n",
       "2016-09-03    5 \n",
       "2017-02-14    5 \n",
       "2016-02-16    5 \n",
       "2016-02-04    5 \n",
       "2015-12-29    5 \n",
       "2016-03-13    5 \n",
       "2016-01-28    5 \n",
       "2015-12-19    5 \n",
       "2016-01-17    5 \n",
       "2016-01-15    5 \n",
       "2016-04-13    4 \n",
       "2016-01-01    4 \n",
       "2016-06-25    4 \n",
       "2016-12-24    4 \n",
       "2016-02-13    4 \n",
       "2016-04-23    4 \n",
       "2017-02-05    4 \n",
       "2016-07-29    4 \n",
       "2016-01-10    4 \n",
       "2016-07-08    4 \n",
       "2016-02-11    4 \n",
       "2016-03-05    4 \n",
       "2016-03-17    4 \n",
       "2016-06-26    4 \n",
       "2017-02-06    4 \n",
       "2016-03-30    4 \n",
       "2016-01-27    4 \n",
       "2016-04-11    4 \n",
       "2016-02-26    4 \n",
       "2016-03-21    4 \n",
       "2016-02-23    4 \n",
       "2015-12-22    4 \n",
       "2016-10-13    4 \n",
       "2016-01-30    4 \n",
       "2016-04-04    4 \n",
       "2016-08-04    4 \n",
       "2016-03-12    4 \n",
       "2016-09-21    4 \n",
       "2016-02-02    4 \n",
       "2016-02-19    4 \n",
       "2016-12-26    4 \n",
       "2017-02-24    4 \n",
       "2016-02-09    4 \n",
       "2016-02-18    4 \n",
       "2016-06-08    4 \n",
       "2017-03-23    3 \n",
       "2016-03-25    3 \n",
       "2017-07-19    3 \n",
       "2016-10-17    3 \n",
       "2017-03-17    3 \n",
       "2016-11-20    3 \n",
       "2016-07-12    3 \n",
       "2016-03-20    3 \n",
       "2016-06-01    3 \n",
       "2016-06-09    3 \n",
       "2016-02-20    3 \n",
       "2016-10-23    3 \n",
       "2016-07-23    3 \n",
       "2016-09-13    3 \n",
       "2017-01-20    3 \n",
       "2016-08-16    3 \n",
       "2016-10-11    3 \n",
       "2017-07-25    3 \n",
       "2016-01-12    3 \n",
       "2016-02-29    3 \n",
       "2016-07-13    3 \n",
       "2016-04-15    3 \n",
       "2016-02-06    3 \n",
       "2016-07-02    3 \n",
       "2017-01-21    3 \n",
       "2017-03-29    3 \n",
       "2016-03-01    3 \n",
       "2016-11-08    3 \n",
       "2016-05-06    3 \n",
       "2016-02-08    3 \n",
       "2016-06-20    3 \n",
       "2016-11-25    3 \n",
       "2017-02-20    3 \n",
       "2016-11-09    3 \n",
       "2017-06-25    3 \n",
       "2015-11-15    3 \n",
       "2017-02-21    3 \n",
       "2016-12-04    3 \n",
       "2017-02-08    3 \n",
       "2016-06-02    3 \n",
       "2016-03-31    3 \n",
       "2017-04-28    3 \n",
       "2016-03-07    3 \n",
       "2016-07-09    3 \n",
       "2016-04-09    3 \n",
       "2016-02-22    3 \n",
       "2016-09-27    3 \n",
       "2017-04-17    3 \n",
       "2016-02-25    3 \n",
       "2016-08-01    3 \n",
       "2017-01-06    3 \n",
       "2016-06-17    3 \n",
       "2017-01-05    3 \n",
       "2017-01-07    3 \n",
       "2017-05-12    3 \n",
       "2016-07-22    3 \n",
       "2016-05-03    3 \n",
       "2016-05-05    3 \n",
       "2016-10-21    3 \n",
       "2016-08-03    3 \n",
       "2016-06-27    3 \n",
       "2016-09-14    3 \n",
       "2016-02-24    3 \n",
       "2016-03-29    3 \n",
       "2017-01-30    3 \n",
       "2016-07-31    3 \n",
       "2016-09-28    3 \n",
       "2016-06-16    3 \n",
       "2016-05-27    3 \n",
       "2016-05-02    3 \n",
       "2016-01-24    3 \n",
       "2016-05-11    3 \n",
       "2016-03-19    3 \n",
       "2016-09-06    3 \n",
       "2016-09-08    3 \n",
       "2016-08-06    3 \n",
       "2016-06-04    3 \n",
       "2017-03-11    3 \n",
       "2016-03-27    3 \n",
       "2016-03-04    3 \n",
       "2016-08-18    3 \n",
       "2016-01-16    3 \n",
       "2016-06-05    3 \n",
       "2016-06-22    3 \n",
       "2016-05-10    3 \n",
       "2016-08-30    3 \n",
       "2016-07-03    3 \n",
       "2017-04-13    3 \n",
       "2016-07-14    3 \n",
       "2017-01-13    3 \n",
       "2016-05-07    3 \n",
       "2017-02-15    3 \n",
       "2016-03-23    3 \n",
       "2017-01-02    3 \n",
       "2016-08-31    3 \n",
       "2016-09-20    3 \n",
       "2017-02-16    3 \n",
       "2016-03-15    3 \n",
       "2016-05-24    3 \n",
       "2016-04-01    3 \n",
       "2017-02-03    3 \n",
       "2017-01-11    3 \n",
       "2016-04-06    3 \n",
       "2016-02-05    3 \n",
       "2017-05-04    3 \n",
       "2016-08-08    3 \n",
       "2016-10-03    3 \n",
       "2016-02-01    3 \n",
       "2016-09-22    3 \n",
       "2016-03-22    3 \n",
       "2016-11-28    2 \n",
       "2016-11-02    2 \n",
       "2017-04-01    2 \n",
       "2016-04-12    2 \n",
       "2017-04-06    2 \n",
       "2016-08-17    2 \n",
       "2016-11-17    2 \n",
       "2016-04-02    2 \n",
       "2017-02-23    2 \n",
       "2016-07-27    2 \n",
       "2016-02-28    2 \n",
       "2016-07-21    2 \n",
       "2016-11-22    2 \n",
       "2016-11-21    2 \n",
       "2017-03-26    2 \n",
       "2017-07-28    2 \n",
       "2016-06-06    2 \n",
       "2016-04-24    2 \n",
       "2017-01-17    2 \n",
       "2016-10-07    2 \n",
       "2017-06-01    2 \n",
       "2016-12-19    2 \n",
       "2017-03-14    2 \n",
       "2016-07-16    2 \n",
       "2017-07-16    2 \n",
       "2016-09-26    2 \n",
       "2017-05-05    2 \n",
       "2017-02-04    2 \n",
       "2016-08-23    2 \n",
       "2016-12-14    2 \n",
       "2017-06-08    2 \n",
       "2016-04-21    2 \n",
       "2016-05-20    2 \n",
       "2017-01-01    2 \n",
       "2017-06-12    2 \n",
       "2017-03-03    2 \n",
       "2016-09-15    2 \n",
       "2016-12-06    2 \n",
       "2016-05-01    2 \n",
       "2016-12-17    2 \n",
       "2017-06-28    2 \n",
       "2016-08-24    2 \n",
       "2017-01-12    2 \n",
       "2016-11-23    2 \n",
       "2017-07-29    2 \n",
       "2016-10-09    2 \n",
       "2017-02-10    2 \n",
       "2016-08-25    2 \n",
       "2016-12-27    2 \n",
       "2016-05-18    2 \n",
       "2016-07-11    2 \n",
       "2016-11-12    2 \n",
       "2017-02-25    2 \n",
       "2017-06-07    2 \n",
       "2017-07-18    2 \n",
       "2016-10-02    2 \n",
       "2017-07-22    2 \n",
       "2017-06-29    2 \n",
       "2016-05-31    2 \n",
       "2017-06-03    2 \n",
       "2016-11-16    2 \n",
       "2017-05-15    2 \n",
       "2016-08-29    2 \n",
       "2016-07-26    2 \n",
       "2017-06-26    2 \n",
       "2017-07-07    2 \n",
       "2017-02-22    2 \n",
       "2016-06-11    2 \n",
       "2016-10-24    2 \n",
       "2017-05-11    2 \n",
       "2017-07-11    2 \n",
       "2016-06-23    2 \n",
       "2016-09-10    2 \n",
       "2016-07-10    2 \n",
       "2017-01-31    2 \n",
       "2016-05-26    2 \n",
       "2017-01-29    2 \n",
       "2017-06-30    2 \n",
       "2016-12-21    2 \n",
       "2016-12-15    2 \n",
       "2017-04-18    2 \n",
       "2016-10-25    2 \n",
       "2017-03-04    2 \n",
       "2017-07-06    2 \n",
       "2016-09-05    2 \n",
       "2017-05-01    2 \n",
       "2017-04-12    2 \n",
       "2017-01-18    2 \n",
       "2017-05-22    2 \n",
       "2016-08-02    2 \n",
       "2016-12-28    2 \n",
       "2016-08-26    2 \n",
       "2017-04-07    2 \n",
       "2016-06-18    2 \n",
       "2016-10-20    2 \n",
       "2017-01-23    2 \n",
       "2016-03-18    2 \n",
       "2016-01-26    2 \n",
       "2017-04-24    2 \n",
       "2017-03-01    2 \n",
       "2016-07-07    2 \n",
       "2016-10-04    2 \n",
       "2017-08-01    2 \n",
       "2016-06-10    2 \n",
       "2016-05-23    2 \n",
       "2017-07-24    2 \n",
       "2017-05-30    2 \n",
       "2016-11-18    2 \n",
       "2017-02-01    2 \n",
       "2016-07-17    2 \n",
       "2016-09-30    2 \n",
       "2017-07-03    2 \n",
       "2017-06-09    2 \n",
       "2016-05-21    2 \n",
       "2017-02-13    2 \n",
       "2017-05-19    2 \n",
       "2016-11-06    2 \n",
       "2016-07-30    2 \n",
       "2016-06-07    2 \n",
       "2017-04-04    2 \n",
       "2016-06-15    2 \n",
       "2017-02-18    2 \n",
       "2016-11-14    2 \n",
       "2016-09-02    2 \n",
       "2017-04-26    2 \n",
       "2016-08-20    2 \n",
       "2016-08-28    2 \n",
       "2016-12-07    2 \n",
       "2016-04-26    2 \n",
       "2017-02-28    2 \n",
       "2016-05-17    2 \n",
       "2016-06-21    2 \n",
       "2017-01-25    2 \n",
       "2017-01-14    2 \n",
       "2016-11-26    2 \n",
       "2016-09-23    2 \n",
       "2016-11-30    2 \n",
       "2017-04-10    2 \n",
       "2016-04-28    2 \n",
       "2017-02-17    2 \n",
       "2016-08-21    2 \n",
       "2017-06-21    2 \n",
       "2016-09-01    2 \n",
       "2017-01-03    2 \n",
       "2016-08-05    2 \n",
       "2016-07-18    2 \n",
       "2016-07-06    2 \n",
       "2016-09-19    2 \n",
       "2016-10-05    2 \n",
       "2016-12-22    2 \n",
       "2017-07-09    2 \n",
       "2017-03-07    2 \n",
       "2017-01-04    2 \n",
       "2016-03-28    2 \n",
       "2017-01-27    2 \n",
       "2017-07-04    2 \n",
       "2017-03-13    2 \n",
       "2017-07-15    2 \n",
       "2016-09-25    2 \n",
       "2016-05-30    2 \n",
       "2017-05-31    2 \n",
       "2016-10-26    2 \n",
       "2016-06-24    2 \n",
       "2016-12-13    2 \n",
       "2016-02-21    2 \n",
       "2017-03-02    2 \n",
       "2017-01-09    2 \n",
       "2016-07-28    2 \n",
       "2017-01-16    2 \n",
       "2016-09-07    2 \n",
       "2017-05-28    2 \n",
       "2017-01-24    2 \n",
       "2017-02-02    2 \n",
       "2016-10-18    2 \n",
       "2017-06-06    2 \n",
       "2017-06-23    2 \n",
       "2017-07-12    2 \n",
       "2017-03-10    2 \n",
       "2017-05-03    2 \n",
       "2017-03-31    2 \n",
       "2017-02-07    2 \n",
       "2016-10-15    2 \n",
       "2017-01-10    2 \n",
       "2017-07-26    2 \n",
       "2017-03-24    2 \n",
       "2016-10-06    2 \n",
       "2016-04-03    1 \n",
       "2016-09-29    1 \n",
       "2016-09-09    1 \n",
       "2016-05-29    1 \n",
       "2017-06-04    1 \n",
       "2017-03-18    1 \n",
       "2017-04-22    1 \n",
       "2017-05-25    1 \n",
       "2017-06-17    1 \n",
       "2017-05-13    1 \n",
       "2016-12-30    1 \n",
       "2017-06-27    1 \n",
       "2017-03-28    1 \n",
       "2016-04-10    1 \n",
       "2017-01-08    1 \n",
       "2016-03-24    1 \n",
       "2017-04-08    1 \n",
       "2016-05-19    1 \n",
       "2016-10-22    1 \n",
       "2017-07-10    1 \n",
       "2016-11-27    1 \n",
       "2016-08-15    1 \n",
       "2017-05-14    1 \n",
       "2016-03-26    1 \n",
       "2016-06-19    1 \n",
       "2017-03-30    1 \n",
       "2016-02-07    1 \n",
       "2017-02-12    1 \n",
       "2016-04-05    1 \n",
       "2017-07-20    1 \n",
       "2017-06-05    1 \n",
       "2016-04-14    1 \n",
       "2016-11-04    1 \n",
       "2017-04-11    1 \n",
       "2016-10-12    1 \n",
       "2017-07-08    1 \n",
       "2016-12-18    1 \n",
       "2017-04-21    1 \n",
       "2017-06-15    1 \n",
       "2017-07-31    1 \n",
       "2016-12-08    1 \n",
       "2017-03-19    1 \n",
       "2016-09-18    1 \n",
       "2017-03-06    1 \n",
       "2017-06-16    1 \n",
       "2016-12-29    1 \n",
       "2016-11-03    1 \n",
       "2016-04-25    1 \n",
       "2016-10-10    1 \n",
       "2017-05-26    1 \n",
       "2016-10-01    1 \n",
       "2017-01-22    1 \n",
       "2017-05-24    1 \n",
       "2017-03-08    1 \n",
       "2016-07-24    1 \n",
       "2017-07-30    1 \n",
       "2017-05-02    1 \n",
       "2017-04-14    1 \n",
       "2016-12-05    1 \n",
       "2017-04-27    1 \n",
       "2017-01-15    1 \n",
       "2016-05-12    1 \n",
       "2016-04-29    1 \n",
       "2017-06-22    1 \n",
       "2017-05-08    1 \n",
       "2017-06-20    1 \n",
       "2016-07-19    1 \n",
       "2017-04-02    1 \n",
       "2017-06-11    1 \n",
       "2016-08-22    1 \n",
       "2016-11-29    1 \n",
       "2017-05-17    1 \n",
       "2017-05-23    1 \n",
       "2016-09-11    1 \n",
       "2017-07-01    1 \n",
       "2017-02-27    1 \n",
       "2016-05-08    1 \n",
       "2016-08-11    1 \n",
       "2017-04-16    1 \n",
       "2016-10-29    1 \n",
       "2016-05-13    1 \n",
       "2016-12-10    1 \n",
       "2016-12-02    1 \n",
       "2017-04-05    1 \n",
       "2016-10-28    1 \n",
       "2017-05-06    1 \n",
       "2017-04-15    1 \n",
       "2016-12-12    1 \n",
       "2016-08-09    1 \n",
       "2017-05-29    1 \n",
       "2016-10-27    1 \n",
       "2017-07-02    1 \n",
       "2016-09-12    1 \n",
       "2017-05-18    1 \n",
       "2017-04-03    1 \n",
       "2016-06-14    1 \n",
       "2016-10-16    1 \n",
       "2017-07-13    1 \n",
       "2017-05-07    1 \n",
       "2016-11-19    1 \n",
       "2016-11-07    1 \n",
       "2016-06-03    1 \n",
       "2016-04-30    1 \n",
       "2017-06-10    1 \n",
       "2016-12-23    1 \n",
       "2016-04-17    1 \n",
       "2017-07-14    1 \n",
       "2017-01-26    1 \n",
       "2017-03-22    1 \n",
       "2016-08-10    1 \n",
       "2016-05-04    1 \n",
       "2017-02-19    1 \n",
       "2016-08-19    1 \n",
       "2017-03-25    1 \n",
       "2016-06-29    1 \n",
       "2016-12-09    1 \n",
       "2016-04-20    1 \n",
       "2016-08-07    1 \n",
       "2017-05-27    1 \n",
       "2016-05-25    1 \n",
       "2016-11-05    1 \n",
       "2017-03-27    1 \n",
       "2017-04-23    1 \n",
       "2017-06-14    1 \n",
       "2017-04-30    1 \n",
       "2017-03-16    1 \n",
       "2017-03-20    1 \n",
       "2016-08-14    1 \n",
       "2016-02-03    1 \n",
       "2017-04-19    1 \n",
       "2016-07-15    1 \n",
       "2016-05-14    1 \n",
       "2016-12-31    1 \n",
       "2017-03-05    1 \n",
       "2017-06-18    1 \n",
       "2016-05-16    1 \n",
       "2016-09-17    1 \n",
       "2017-01-19    1 \n",
       "2016-09-16    1 \n",
       "2016-08-13    1 \n",
       "2017-07-27    1 \n",
       "2017-02-26    1 \n",
       "2017-07-23    1 \n",
       "2017-03-21    1 \n",
       "2016-11-10    1 \n",
       "2017-01-28    1 \n",
       "2016-10-30    1 \n",
       "2017-07-05    1 \n",
       "2017-05-21    1 \n",
       "2017-06-19    1 \n",
       "2016-10-14    1 \n",
       "2016-10-19    1 \n",
       "2016-06-12    1 \n",
       "2016-05-28    1 \n",
       "2016-09-04    1 \n",
       "2017-05-10    1 \n",
       "2016-10-08    1 \n",
       "2017-02-09    1 \n",
       "2017-05-16    1 \n",
       "2016-12-11    1 \n",
       "2016-11-11    1 \n",
       "2017-03-15    1 \n",
       "2017-07-17    1 \n",
       "2016-05-09    1 \n",
       "2017-06-02    1 \n",
       "2017-06-13    1 \n",
       "Name: day, dtype: int64"
      ]
     },
     "execution_count": 111,
     "metadata": {},
     "output_type": "execute_result"
    }
   ],
   "source": [
    "#Number of tweets per day\n",
    "pd.set_option('display.max_rows', None)\n",
    "df_master['day'].value_counts()"
   ]
  },
  {
   "cell_type": "markdown",
   "metadata": {},
   "source": [
    "### 7. Percentages contribution of the different numbers of image posted"
   ]
  },
  {
   "cell_type": "code",
   "execution_count": 112,
   "metadata": {},
   "outputs": [
    {
     "data": {
      "text/plain": [
       "1    85.8\n",
       "2    9.5 \n",
       "3    3.1 \n",
       "4    1.5 \n",
       "Name: img_num, dtype: float64"
      ]
     },
     "execution_count": 112,
     "metadata": {},
     "output_type": "execute_result"
    }
   ],
   "source": [
    "# Percentages contribution of the different numbers of image posted\n",
    "per_img_num = df_master['img_num'].value_counts()/df_master['img_num'].count()*100\n",
    "per_img_num.round(1)"
   ]
  },
  {
   "cell_type": "code",
   "execution_count": null,
   "metadata": {},
   "outputs": [],
   "source": []
  },
  {
   "cell_type": "markdown",
   "metadata": {
    "collapsed": true
   },
   "source": [
    "### Visualization\n",
    "1. Boxplot for the ratings\n",
    "2. Plot the boxplot again after eliminating outliers\n",
    "3. Relationship between retweet counts and ratings\n",
    "4. Relationship between favorite counts and ratings\n",
    "5. Relationship between favorite counts and retweet counts\n",
    "6. Relationship between number of image posted and retweets\n",
    "7. Bar chart of number of images posted \n",
    "8. Bar chart of sources of tweets\n",
    "9. Bar chart of dog stages"
   ]
  },
  {
   "cell_type": "markdown",
   "metadata": {},
   "source": [
    "### 1. Boxplot for the ratings"
   ]
  },
  {
   "cell_type": "code",
   "execution_count": 140,
   "metadata": {},
   "outputs": [
    {
     "data": {
      "image/png": "[encoded data removed]",
      "text/plain": [
       "<matplotlib.figure.Figure at 0x7f4520f98550>"
      ]
     },
     "metadata": {
      "needs_background": "light"
     },
     "output_type": "display_data"
    }
   ],
   "source": [
    "# Boxplot for the ratings\n",
    "df_master[['rating']].plot(kind='box',vert=False, figsize=(18,4));\n",
    "\n",
    "# chart labels\n",
    "plt.title('Boxplot of Dog Ratings', fontsize=13);\n",
    "plt.title('Boxplot of Dog Ratings after EDA', fontsize=13);\n",
    "plt.xlabel('Rating Value', fontsize=13);"
   ]
  },
  {
   "cell_type": "markdown",
   "metadata": {},
   "source": [
    "### 2. Plot the boxplot again after eliminating outliers"
   ]
  },
  {
   "cell_type": "code",
   "execution_count": 141,
   "metadata": {},
   "outputs": [
    {
     "data": {
      "image/png": "[encoded data removed]",
      "text/plain": [
       "<matplotlib.figure.Figure at 0x7f4520cc2908>"
      ]
     },
     "metadata": {
      "needs_background": "light"
     },
     "output_type": "display_data"
    }
   ],
   "source": [
    "#Eliminate outlier using the 25th and 75th percentiles\n",
    "df_master_EDA = df_master.query('rating >= 10 & rating <= 12')\n",
    "\n",
    "#boxPlot chart for the modified data\n",
    "df_master_EDA['rating'].plot(kind='box',vert=False, figsize=(10,4));\n",
    "\n",
    "# chart labels\n",
    "plt.title('Boxplot of Dog Ratings after EDA', fontsize=13);\n",
    "plt.xlabel('Rating Value', fontsize=13);"
   ]
  },
  {
   "cell_type": "markdown",
   "metadata": {},
   "source": [
    "### 3. Relationship between retweet counts and ratings"
   ]
  },
  {
   "cell_type": "code",
   "execution_count": 188,
   "metadata": {},
   "outputs": [
    {
     "data": {
      "image/png": "[encoded data removed]",
      "text/plain": [
       "<matplotlib.figure.Figure at 0x7f9202b44710>"
      ]
     },
     "metadata": {
      "needs_background": "light"
     },
     "output_type": "display_data"
    }
   ],
   "source": [
    "# Relationship between retweet counts and ratings\n",
    "df_master_EDA.plot.scatter(x='rating',y='retweet_count',s=10,c='red', figsize=(8,6));\n",
    "\n",
    "#chart labels\n",
    "plt.xlabel('Rating', fontsize=12);\n",
    "plt.ylabel('Number of Retweets', fontsize=12)\n",
    "plt.title('Rating and Number of Retweets', fontsize=15);"
   ]
  },
  {
   "cell_type": "markdown",
   "metadata": {},
   "source": [
    "### 4. Relationship between favorite counts and ratings"
   ]
  },
  {
   "cell_type": "code",
   "execution_count": 187,
   "metadata": {},
   "outputs": [
    {
     "data": {
      "image/png": "[encoded data removed]",
      "text/plain": [
       "<matplotlib.figure.Figure at 0x7f9202b7f080>"
      ]
     },
     "metadata": {
      "needs_background": "light"
     },
     "output_type": "display_data"
    }
   ],
   "source": [
    "# Relationship between favorite counts and ratings\n",
    "df_master_EDA.plot.scatter(x='rating',y='favorite_count',s=10,c='blue',figsize=(8,6));\n",
    "\n",
    "# chart labels\n",
    "plt.xlabel('Rating', fontsize=12);\n",
    "plt.ylabel('Number of Likes', fontsize=12)\n",
    "plt.title('Rating and Number of Likes', fontsize=15);"
   ]
  },
  {
   "cell_type": "markdown",
   "metadata": {},
   "source": [
    "### 5. Relationship between favorite counts and retweet counts"
   ]
  },
  {
   "cell_type": "code",
   "execution_count": 182,
   "metadata": {},
   "outputs": [
    {
     "data": {
      "image/png": "[encoded data removed]",
      "text/plain": [
       "<matplotlib.figure.Figure at 0x7f92032a23c8>"
      ]
     },
     "metadata": {
      "needs_background": "light"
     },
     "output_type": "display_data"
    }
   ],
   "source": [
    "#Relationship between favorite counts and retweet counts\n",
    "df_master_EDA.plot.scatter(x='retweet_count',y='favorite_count',s=10,c='green',figsize=(12,6));\n",
    "\n",
    "# chart labels\n",
    "plt.xlabel('Number of Retweets', fontsize=12);\n",
    "plt.ylabel('Number of Likes', fontsize=12)\n",
    "plt.title('Number of Likes and Number of Retweets', fontsize=15);"
   ]
  },
  {
   "cell_type": "markdown",
   "metadata": {},
   "source": [
    "### 6. Relationship between number of image posted and retweets"
   ]
  },
  {
   "cell_type": "code",
   "execution_count": 360,
   "metadata": {},
   "outputs": [
    {
     "data": {
      "image/png": "[encoded data removed]",
      "text/plain": [
       "<matplotlib.figure.Figure at 0x7f45209d95f8>"
      ]
     },
     "metadata": {
      "needs_background": "light"
     },
     "output_type": "display_data"
    }
   ],
   "source": [
    "# Relationship between image number and retweets\n",
    "df_master_EDA.plot.scatter(x='img_num',y='retweet_count',s=10,c='orange', figsize=(8,6));\n",
    "\n",
    "# chart labels\n",
    "plt.xlabel('Number of image', fontsize=12);\n",
    "plt.ylabel('Number of Retweets', fontsize=12)\n",
    "plt.title('Number of Likes and Number of Retweets', fontsize=15);"
   ]
  },
  {
   "cell_type": "markdown",
   "metadata": {},
   "source": [
    "### 7. Bar chart of number of images posted "
   ]
  },
  {
   "cell_type": "code",
   "execution_count": 205,
   "metadata": {},
   "outputs": [
    {
     "data": {
      "image/png": "[encoded data removed]",
      "text/plain": [
       "<matplotlib.figure.Figure at 0x7f92031557f0>"
      ]
     },
     "metadata": {
      "needs_background": "light"
     },
     "output_type": "display_data"
    }
   ],
   "source": [
    "#Bar Chart of Number of Images Posted\n",
    "df_master['img_num'].value_counts().plot(kind='bar', figsize=(10,4));\n",
    "\n",
    "# chart labels\n",
    "plt.title('Bar Chart of Number of Images Posted', fontsize=13)\n",
    "plt.xlabel('Number of Imanges',fontsize=13)\n",
    "plt.ylabel('Frequency', fontsize=13);\n",
    "plt.xticks(rotation=0);"
   ]
  },
  {
   "cell_type": "markdown",
   "metadata": {},
   "source": [
    "### 8. Bar chart of sources of tweets"
   ]
  },
  {
   "cell_type": "code",
   "execution_count": 203,
   "metadata": {},
   "outputs": [
    {
     "data": {
      "image/png": "[encoded data removed]",
      "text/plain": [
       "<matplotlib.figure.Figure at 0x7f9202fc1ac8>"
      ]
     },
     "metadata": {
      "needs_background": "light"
     },
     "output_type": "display_data"
    }
   ],
   "source": [
    "#Bar chart of sources of tweets\n",
    "df_master['source'].value_counts().plot(kind='bar', figsize=(10,4));\n",
    "\n",
    "# chart labels\n",
    "plt.title('Bar Chart of Tweet sources', fontsize=13);\n",
    "plt.xlabel('Sources of Tweets',fontsize=13)\n",
    "plt.ylabel('Frequency', fontsize=13);\n",
    "plt.xticks(rotation=0);"
   ]
  },
  {
   "cell_type": "markdown",
   "metadata": {},
   "source": [
    "### 9. Bar chart of dog stages"
   ]
  },
  {
   "cell_type": "code",
   "execution_count": 104,
   "metadata": {},
   "outputs": [
    {
     "data": {
      "image/png": "[encoded data removed]",
      "text/plain": [
       "<matplotlib.figure.Figure at 0x7f7e60d26f98>"
      ]
     },
     "metadata": {
      "needs_background": "light"
     },
     "output_type": "display_data"
    }
   ],
   "source": [
    "#Bar chart of sources of tweets\n",
    "df_master['dog_stages'].value_counts().plot(kind='bar', figsize=(10,4));\n",
    "\n",
    "# chart labels\n",
    "plt.title('Bar Chart of Dog Stages', fontsize=13);\n",
    "plt.xlabel('Stages of Dogs',fontsize=13)\n",
    "plt.ylabel('Frequency', fontsize=13);\n",
    "plt.xticks(rotation=0);"
   ]
  }
 ],
 "metadata": {
  "extensions": {
   "jupyter_dashboards": {
    "activeView": "report_default",
    "version": 1,
    "views": {
     "grid_default": {
      "cellMargin": 10,
      "defaultCellHeight": 20,
      "maxColumns": 12,
      "name": "grid",
      "type": "grid"
     },
     "report_default": {
      "name": "report",
      "type": "report"
     }
    }
   }
  },
  "kernelspec": {
   "display_name": "Python 3",
   "language": "python",
   "name": "python3"
  },
  "language_info": {
   "codemirror_mode": {
    "name": "ipython",
    "version": 3
   },
   "file_extension": ".py",
   "mimetype": "text/x-python",
   "name": "python",
   "nbconvert_exporter": "python",
   "pygments_lexer": "ipython3",
   "version": "3.6.3"
  }
 },
 "nbformat": 4,
 "nbformat_minor": 2
}
